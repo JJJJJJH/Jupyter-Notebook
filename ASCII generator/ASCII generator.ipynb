{
 "cells": [
  {
   "cell_type": "code",
   "execution_count": 33,
   "metadata": {
    "ExecuteTime": {
     "end_time": "2020-12-04T04:13:04.495477Z",
     "start_time": "2020-12-04T04:13:04.493392Z"
    }
   },
   "outputs": [],
   "source": [
    "# imports\n",
    "from PIL import Image, ImageDraw, ImageFont\n",
    "import math"
   ]
  },
  {
   "cell_type": "markdown",
   "metadata": {},
   "source": [
    "### White mode:\n",
    "- chars = \"...\"\n",
    "- outputImg = Image.new(.....,color = (255,255,255)\n",
    "\n",
    "### Dark mode:\n",
    "- chars = \"...\"[::-1]\n",
    "- outputImg = Image.new(.....,color = (0,0,0)"
   ]
  },
  {
   "cell_type": "code",
   "execution_count": 34,
   "metadata": {
    "ExecuteTime": {
     "end_time": "2020-12-04T04:13:04.539698Z",
     "start_time": "2020-12-04T04:13:04.536626Z"
    }
   },
   "outputs": [],
   "source": [
    "# inits\n",
    "chars = \"@#$%&MW*HYX?\\[]()|:,. \"[::-1]\n",
    "charArray = list(chars)\n",
    "charLength = len(charArray)\n",
    "interval = charLength/256\n",
    "\n",
    "# chars' size != pix size, so:\n",
    "scaleFactor = 0.7\n",
    "\n",
    "oneCharWidth = 8\n",
    "oneCharHeight = 18"
   ]
  },
  {
   "cell_type": "code",
   "execution_count": 35,
   "metadata": {
    "ExecuteTime": {
     "end_time": "2020-12-04T04:13:04.577538Z",
     "start_time": "2020-12-04T04:13:04.575059Z"
    }
   },
   "outputs": [],
   "source": [
    "#read chars\n",
    "def getChar(inputInt):\n",
    "    return charArray[math.floor(inputInt*interval)]"
   ]
  },
  {
   "cell_type": "code",
   "execution_count": 36,
   "metadata": {
    "ExecuteTime": {
     "end_time": "2020-12-04T04:13:04.613994Z",
     "start_time": "2020-12-04T04:13:04.611369Z"
    }
   },
   "outputs": [],
   "source": [
    "# create a output txt file\n",
    "text_file = open(\"Output.txt\",'w')"
   ]
  },
  {
   "cell_type": "code",
   "execution_count": 37,
   "metadata": {
    "ExecuteTime": {
     "end_time": "2020-12-04T04:13:04.657332Z",
     "start_time": "2020-12-04T04:13:04.649641Z"
    }
   },
   "outputs": [],
   "source": [
    "# read pic's size\n",
    "\n",
    "img = Image.open(\"200308114001521.jpg\")\n",
    "\n",
    "Font = ImageFont.truetype('/System/Library/Fonts/SFNS.ttf',14)\n",
    "width, height = img.size\n",
    "img = img.resize((int(scaleFactor*width),int(scaleFactor*height*(oneCharWidth/oneCharHeight))),Image.NEAREST)\n",
    "width, height = img.size\n",
    "pix = img.load()"
   ]
  },
  {
   "cell_type": "code",
   "execution_count": 38,
   "metadata": {
    "ExecuteTime": {
     "end_time": "2020-12-04T04:13:04.692123Z",
     "start_time": "2020-12-04T04:13:04.687624Z"
    }
   },
   "outputs": [],
   "source": [
    "# output image\n",
    "outputImg = Image.new('RGB',(oneCharWidth*width,oneCharHeight*height),color=(0,0,0))\n",
    "d = ImageDraw.Draw(outputImg)"
   ]
  },
  {
   "cell_type": "code",
   "execution_count": 39,
   "metadata": {
    "ExecuteTime": {
     "end_time": "2020-12-04T04:13:05.346980Z",
     "start_time": "2020-12-04T04:13:04.725143Z"
    }
   },
   "outputs": [],
   "source": [
    "# exchage pixel to char\n",
    "for i in range(height):\n",
    "    for j in range(width):\n",
    "        r,g,b = pix[j,i]\n",
    "        h = int(r/3 + g/3 + b/3)\n",
    "        pix[j,i] = (h,h,h)\n",
    "        text_file.write(getChar(h))\n",
    "        d.text((j*oneCharWidth,i*oneCharHeight),getChar(h),font = Font,fill = (r,g,b))\n",
    "    text_file.write('\\n')\n"
   ]
  },
  {
   "cell_type": "code",
   "execution_count": 40,
   "metadata": {
    "ExecuteTime": {
     "end_time": "2020-12-04T04:13:05.597217Z",
     "start_time": "2020-12-04T04:13:05.349153Z"
    }
   },
   "outputs": [],
   "source": [
    "#print solution\n",
    "outputImg.save(\"output.png\")"
   ]
  },
  {
   "cell_type": "code",
   "execution_count": null,
   "metadata": {},
   "outputs": [],
   "source": []
  }
 ],
 "metadata": {
  "kernelspec": {
   "display_name": "Python 3",
   "language": "python",
   "name": "python3"
  },
  "language_info": {
   "codemirror_mode": {
    "name": "ipython",
    "version": 3
   },
   "file_extension": ".py",
   "mimetype": "text/x-python",
   "name": "python",
   "nbconvert_exporter": "python",
   "pygments_lexer": "ipython3",
   "version": "3.8.3"
  },
  "nbTranslate": {
   "displayLangs": [
    "*"
   ],
   "hotkey": "alt-t",
   "langInMainMenu": true,
   "sourceLang": "en",
   "targetLang": "fr",
   "useGoogleTranslate": true
  }
 },
 "nbformat": 4,
 "nbformat_minor": 4
}
