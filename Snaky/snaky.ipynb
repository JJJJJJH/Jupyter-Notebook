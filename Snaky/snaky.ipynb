{
 "cells": [
  {
   "cell_type": "markdown",
   "metadata": {},
   "source": [
    "# Snaky -- Greedy Snake Project\n",
    "---\n",
    "+ Author: JJJJJJH\n",
    "+ Project name create from 'Spidy'\n",
    "+ Reason: one of the best python project for new 'player'"
   ]
  },
  {
   "cell_type": "markdown",
   "metadata": {},
   "source": [
    "### Imports:\n",
    "+ pip install pygame"
   ]
  },
  {
   "cell_type": "code",
   "execution_count": 14,
   "metadata": {
    "ExecuteTime": {
     "end_time": "2021-01-28T03:30:56.927829Z",
     "start_time": "2021-01-28T03:30:56.925345Z"
    }
   },
   "outputs": [],
   "source": [
    "import pygame\n",
    "import random\n",
    "import sys\n",
    "import time"
   ]
  },
  {
   "cell_type": "markdown",
   "metadata": {},
   "source": [
    "### Create the title:"
   ]
  },
  {
   "cell_type": "code",
   "execution_count": 15,
   "metadata": {
    "ExecuteTime": {
     "end_time": "2021-01-28T03:30:57.020556Z",
     "start_time": "2021-01-28T03:30:57.018424Z"
    }
   },
   "outputs": [],
   "source": [
    "pygame.display.set_caption(\"Snaky\")"
   ]
  },
  {
   "cell_type": "markdown",
   "metadata": {
    "ExecuteTime": {
     "end_time": "2021-01-15T22:09:14.077827Z",
     "start_time": "2021-01-15T22:09:14.074292Z"
    }
   },
   "source": [
    "### Set the window:\n",
    "+ window size\n",
    "+ window colors\n",
    "+ size/position of snake/food"
   ]
  },
  {
   "cell_type": "code",
   "execution_count": 16,
   "metadata": {
    "ExecuteTime": {
     "end_time": "2021-01-28T03:30:57.831746Z",
     "start_time": "2021-01-28T03:30:57.109483Z"
    }
   },
   "outputs": [],
   "source": [
    "# window size: (rect window)\n",
    "window_sizex = 700\n",
    "window_sizey = 500\n",
    "snaky_window = pygame.display.set_mode((window_sizex,window_sizey))"
   ]
  },
  {
   "cell_type": "code",
   "execution_count": 17,
   "metadata": {
    "ExecuteTime": {
     "end_time": "2021-01-28T03:30:57.836181Z",
     "start_time": "2021-01-28T03:30:57.833738Z"
    }
   },
   "outputs": [],
   "source": [
    "# window colors:\n",
    "black = (0,0,0)\n",
    "white = (255,255,255)\n",
    "red = (255,0,0)"
   ]
  },
  {
   "cell_type": "code",
   "execution_count": 18,
   "metadata": {
    "ExecuteTime": {
     "end_time": "2021-01-28T03:30:57.842065Z",
     "start_time": "2021-01-28T03:30:57.838706Z"
    }
   },
   "outputs": [],
   "source": [
    "# size/position of init_snake/food:\n",
    "snake_pos = [300,300]\n",
    "snake_body = [[300,300],[290,300],[280,300],[270,300]]\n",
    "direct = 'up'\n",
    "change_direct = direct\n",
    "speed = 10\n",
    "\n",
    "food_pos = [random.randrange(1,(window_sizex//10))*10, random.randrange(1,(window_sizey//10))*10]\n",
    "food_set = True"
   ]
  },
  {
   "cell_type": "markdown",
   "metadata": {},
   "source": [
    "### FPS control in pygame:"
   ]
  },
  {
   "cell_type": "code",
   "execution_count": 19,
   "metadata": {
    "ExecuteTime": {
     "end_time": "2021-01-28T03:30:57.846794Z",
     "start_time": "2021-01-28T03:30:57.844441Z"
    }
   },
   "outputs": [],
   "source": [
    "fps_controller = pygame.time.Clock()\n",
    "flag = 0"
   ]
  },
  {
   "cell_type": "markdown",
   "metadata": {},
   "source": [
    "### Speed accelerate:"
   ]
  },
  {
   "cell_type": "code",
   "execution_count": 20,
   "metadata": {
    "ExecuteTime": {
     "end_time": "2021-01-28T03:30:57.851071Z",
     "start_time": "2021-01-28T03:30:57.848590Z"
    }
   },
   "outputs": [],
   "source": [
    "def accelerate():\n",
    "    global speed\n",
    "    global flag\n",
    "    \n",
    "    if speed <= 27 and flag ==1:\n",
    "        speed +=1\n",
    "        flag = 0\n"
   ]
  },
  {
   "cell_type": "markdown",
   "metadata": {},
   "source": [
    "### Menu Options:\n",
    "+ restart game\n",
    "+ end game"
   ]
  },
  {
   "cell_type": "code",
   "execution_count": 21,
   "metadata": {
    "ExecuteTime": {
     "end_time": "2021-01-28T03:30:57.855627Z",
     "start_time": "2021-01-28T03:30:57.852727Z"
    }
   },
   "outputs": [],
   "source": [
    "# Restart:\n",
    "def restart(color,font,size):\n",
    "    restart_font = pygame.font.SysFont(font,size)\n",
    "    restart_surface = restart_font.render('press SPACE to restart', True, color)\n",
    "    restart_rect = restart_surface.get_rect()\n",
    "    restart_rect.midtop = (window_sizex/2, window_sizey/1.4)\n",
    "    snaky_window.blit(restart_surface,restart_rect)"
   ]
  },
  {
   "cell_type": "code",
   "execution_count": 22,
   "metadata": {
    "ExecuteTime": {
     "end_time": "2021-01-28T03:30:57.863497Z",
     "start_time": "2021-01-28T03:30:57.857404Z"
    }
   },
   "outputs": [],
   "source": [
    "# End game:\n",
    "def end_game():\n",
    "    global red\n",
    "    endgameFont = pygame.font.SysFont('arial.ttf',40)\n",
    "    endgameSurf = endgameFont.render('Game Over!',True,red)\n",
    "    endgameRect = endgameSurf.get_rect()\n",
    "    endgameRect.midtop = (window_sizex/2,window_sizey/4)\n",
    "    snaky_window.fill(black)\n",
    "    snaky_window.blit(endgameSurf,endgameRect)\n",
    "    \n",
    "    restart(white,'times',30)\n",
    "    pygame.display.flip()\n",
    "    \n",
    "    \n",
    "    while True:\n",
    "        for event in pygame.event.get():\n",
    "            if event.type == pygame.QUIT:\n",
    "                time.sleep(1)\n",
    "                pygame.quit()\n",
    "                \n",
    "            if event.type == pygame.KEYDOWN:\n",
    "                if event.key == pygame.K_SPACE:\n",
    "                    global snake_pos\n",
    "                    global snake_body\n",
    "                    global direct\n",
    "                    global change_direct\n",
    "                    global speed\n",
    "                    \n",
    "                    speed = 15\n",
    "                    snake_pos = [250,250]\n",
    "                    snake_body = [[250,250],[240,250],[230,250],[220,250]]\n",
    "                    direct = 'up'\n",
    "                    change_direct = direct\n",
    "                    time.sleep(1)\n",
    "                    pygame.display.update()\n",
    "                    main()\n",
    "                    break"
   ]
  },
  {
   "cell_type": "markdown",
   "metadata": {},
   "source": [
    "### Snake Class:"
   ]
  },
  {
   "cell_type": "markdown",
   "metadata": {},
   "source": [
    "#### snake init:"
   ]
  },
  {
   "cell_type": "code",
   "execution_count": 23,
   "metadata": {
    "ExecuteTime": {
     "end_time": "2021-01-28T03:30:57.872493Z",
     "start_time": "2021-01-28T03:30:57.866836Z"
    }
   },
   "outputs": [],
   "source": [
    "class Snake:\n",
    "    def __init__(self):\n",
    "        pass\n",
    "    \n",
    "# Check move direct:\n",
    "    def check_direct(self):\n",
    "        global direct\n",
    "        global change_direct\n",
    "\n",
    "        if change_direct == 'up' and direct != 'down':\n",
    "            direct = 'up'\n",
    "        if change_direct == 'down' and direct != 'up':\n",
    "            direct = 'down'\n",
    "        if change_direct == 'left' and direct != 'right':\n",
    "            direct = 'left'\n",
    "        if change_direct == 'right' and direct != 'left':\n",
    "            direct = 'right'\n",
    "            \n",
    "            \n",
    "            \n",
    "# Snake_body increase:\n",
    "\n",
    "    def snake_inc(self):\n",
    "        global snake_body\n",
    "        global food_set\n",
    "        global flag\n",
    "\n",
    "        snake_body.insert(0,list(snake_pos))\n",
    "\n",
    "        if snake_pos[0] == food_pos[0] and snake_pos[1] == food_pos[1]:\n",
    "            flag = 1\n",
    "            food_set = False\n",
    "        else:\n",
    "            snake_body.pop()\n",
    "            \n",
    "            \n",
    "# movement:\n",
    "\n",
    "    def move(self):\n",
    "        global direct\n",
    "        global snake_pos\n",
    "\n",
    "        if direct == 'up':\n",
    "            snake_pos[1] -= 10\n",
    "        if direct == 'down':\n",
    "            snake_pos[1] += 10\n",
    "        if direct == 'left':\n",
    "            snake_pos[0] -= 10\n",
    "        if direct == 'right':\n",
    "            snake_pos[0] += 10"
   ]
  },
  {
   "cell_type": "markdown",
   "metadata": {},
   "source": [
    "### Food Class:"
   ]
  },
  {
   "cell_type": "markdown",
   "metadata": {},
   "source": [
    "#### food init:"
   ]
  },
  {
   "cell_type": "code",
   "execution_count": 24,
   "metadata": {
    "ExecuteTime": {
     "end_time": "2021-01-28T03:30:57.890371Z",
     "start_time": "2021-01-28T03:30:57.887293Z"
    }
   },
   "outputs": [],
   "source": [
    "class Food:\n",
    "\n",
    "    def __int__(self):\n",
    "        pass\n",
    "    \n",
    "# food update:\n",
    "\n",
    "    def food_update(self):\n",
    "        global food_set\n",
    "        global food_pos\n",
    "\n",
    "        if not food_set:\n",
    "            food_pos = [random.randrange(1,(window_sizex//10))*10, random.randrange(1,(window_sizey//10))*10]\n",
    "        food_set = True\n"
   ]
  },
  {
   "cell_type": "markdown",
   "metadata": {},
   "source": [
    "### Main Function:"
   ]
  },
  {
   "cell_type": "code",
   "execution_count": 25,
   "metadata": {
    "ExecuteTime": {
     "end_time": "2021-01-28T03:30:58.006016Z",
     "start_time": "2021-01-28T03:30:57.998307Z"
    }
   },
   "outputs": [],
   "source": [
    "def main():\n",
    "    pygame.init()\n",
    "    global change_direct\n",
    "    global snake_body\n",
    "    global snake_pos\n",
    "    global flag\n",
    "    \n",
    "    \n",
    "    while True:\n",
    "        snaky_window.fill(black)\n",
    "        \n",
    "        for event in pygame.event.get():\n",
    "            # click 'X'\n",
    "            if event.type == pygame.QUIT:\n",
    "                pygame.display.quit()\n",
    "                pygame.quit()\n",
    "                \n",
    "            elif event.type == pygame.KEYDOWN:\n",
    "            # press 'esc'\n",
    "                if event.key == pygame.K_ESCAPE:\n",
    "                    pygame.quit()\n",
    "                    exit(0)\n",
    "                # arrow key / vim: hjkl        \n",
    "                if event.key == pygame.K_UP or event.key == ord('k'):\n",
    "                    change_direct = 'up'\n",
    "                if event.key == pygame.K_DOWN or event.key == ord('j'):\n",
    "                    change_direct = 'down'\n",
    "                if event.key == pygame.K_LEFT or event.key == ord('h'):\n",
    "                    change_direct = 'left'\n",
    "                if event.key == pygame.K_RIGHT or event.key == ord('l'):\n",
    "                    change_direct = 'right'\n",
    "\n",
    "            \n",
    "        snake = Snake()\n",
    "        food = Food()\n",
    "        \n",
    "        # call from snake & food classes\n",
    "        snake.check_direct()\n",
    "        snake.move()\n",
    "        snake.snake_inc()\n",
    "        food.food_update()\n",
    "        \n",
    "        # draw snake:\n",
    "        for pos in snake_body:\n",
    "            pygame.draw.rect(snaky_window, white, pygame.Rect(pos[0],pos[1],10,10))\n",
    "        \n",
    "        # draw food;\n",
    "        pygame.draw.rect(snaky_window,red,pygame.Rect(food_pos[0],food_pos[1],10,10))\n",
    "\n",
    "        \n",
    "        ## ending game:\n",
    "        # hit the edge of window\n",
    "        if snake_pos[0] <0 or snake_pos[0]> window_sizex - 10:\n",
    "            end_game()\n",
    "        if snake_pos[1] <0 or snake_pos[1]> window_sizey - 10:\n",
    "            end_game()\n",
    "            \n",
    "        # hit the snake's body:\n",
    "        for block in snake_body[1:]:\n",
    "            if snake_pos[0] == block[0] and snake_pos[1] == block[1]:\n",
    "                end_game()\n",
    "        pygame.display.update()\n",
    "        \n",
    "        global speed\n",
    "        accelerate()\n",
    "        fps_controller.tick(speed)"
   ]
  },
  {
   "cell_type": "code",
   "execution_count": 26,
   "metadata": {
    "ExecuteTime": {
     "end_time": "2021-01-28T03:35:04.445281Z",
     "start_time": "2021-01-28T03:30:58.101044Z"
    }
   },
   "outputs": [
    {
     "ename": "error",
     "evalue": "video system not initialized",
     "output_type": "error",
     "traceback": [
      "\u001b[0;31m---------------------------------------------------------------------------\u001b[0m",
      "\u001b[0;31merror\u001b[0m                                     Traceback (most recent call last)",
      "\u001b[0;32m<ipython-input-26-9bbfe866ff23>\u001b[0m in \u001b[0;36m<module>\u001b[0;34m\u001b[0m\n\u001b[1;32m      1\u001b[0m \u001b[0;32mif\u001b[0m \u001b[0m__name__\u001b[0m \u001b[0;34m==\u001b[0m \u001b[0;34m'__main__'\u001b[0m\u001b[0;34m:\u001b[0m\u001b[0;34m\u001b[0m\u001b[0;34m\u001b[0m\u001b[0m\n\u001b[0;32m----> 2\u001b[0;31m     \u001b[0mmain\u001b[0m\u001b[0;34m(\u001b[0m\u001b[0;34m)\u001b[0m\u001b[0;34m\u001b[0m\u001b[0;34m\u001b[0m\u001b[0m\n\u001b[0m\u001b[1;32m      3\u001b[0m     \u001b[0mpygame\u001b[0m\u001b[0;34m.\u001b[0m\u001b[0mquit\u001b[0m\u001b[0;34m(\u001b[0m\u001b[0;34m)\u001b[0m\u001b[0;34m\u001b[0m\u001b[0;34m\u001b[0m\u001b[0m\n",
      "\u001b[0;32m<ipython-input-25-1c9fa5440e6f>\u001b[0m in \u001b[0;36mmain\u001b[0;34m()\u001b[0m\n\u001b[1;32m     54\u001b[0m             \u001b[0mend_game\u001b[0m\u001b[0;34m(\u001b[0m\u001b[0;34m)\u001b[0m\u001b[0;34m\u001b[0m\u001b[0;34m\u001b[0m\u001b[0m\n\u001b[1;32m     55\u001b[0m         \u001b[0;32mif\u001b[0m \u001b[0msnake_pos\u001b[0m\u001b[0;34m[\u001b[0m\u001b[0;36m1\u001b[0m\u001b[0;34m]\u001b[0m \u001b[0;34m<\u001b[0m\u001b[0;36m0\u001b[0m \u001b[0;32mor\u001b[0m \u001b[0msnake_pos\u001b[0m\u001b[0;34m[\u001b[0m\u001b[0;36m1\u001b[0m\u001b[0;34m]\u001b[0m\u001b[0;34m>\u001b[0m \u001b[0mwindow_sizey\u001b[0m \u001b[0;34m-\u001b[0m \u001b[0;36m10\u001b[0m\u001b[0;34m:\u001b[0m\u001b[0;34m\u001b[0m\u001b[0;34m\u001b[0m\u001b[0m\n\u001b[0;32m---> 56\u001b[0;31m             \u001b[0mend_game\u001b[0m\u001b[0;34m(\u001b[0m\u001b[0;34m)\u001b[0m\u001b[0;34m\u001b[0m\u001b[0;34m\u001b[0m\u001b[0m\n\u001b[0m\u001b[1;32m     57\u001b[0m \u001b[0;34m\u001b[0m\u001b[0m\n\u001b[1;32m     58\u001b[0m         \u001b[0;31m# hit the snake's body:\u001b[0m\u001b[0;34m\u001b[0m\u001b[0;34m\u001b[0m\u001b[0;34m\u001b[0m\u001b[0m\n",
      "\u001b[0;32m<ipython-input-22-cba9bcccb096>\u001b[0m in \u001b[0;36mend_game\u001b[0;34m()\u001b[0m\n\u001b[1;32m     34\u001b[0m                     \u001b[0mtime\u001b[0m\u001b[0;34m.\u001b[0m\u001b[0msleep\u001b[0m\u001b[0;34m(\u001b[0m\u001b[0;36m1\u001b[0m\u001b[0;34m)\u001b[0m\u001b[0;34m\u001b[0m\u001b[0;34m\u001b[0m\u001b[0m\n\u001b[1;32m     35\u001b[0m                     \u001b[0mpygame\u001b[0m\u001b[0;34m.\u001b[0m\u001b[0mdisplay\u001b[0m\u001b[0;34m.\u001b[0m\u001b[0mupdate\u001b[0m\u001b[0;34m(\u001b[0m\u001b[0;34m)\u001b[0m\u001b[0;34m\u001b[0m\u001b[0;34m\u001b[0m\u001b[0m\n\u001b[0;32m---> 36\u001b[0;31m                     \u001b[0mmain\u001b[0m\u001b[0;34m(\u001b[0m\u001b[0;34m)\u001b[0m\u001b[0;34m\u001b[0m\u001b[0;34m\u001b[0m\u001b[0m\n\u001b[0m\u001b[1;32m     37\u001b[0m                     \u001b[0;32mbreak\u001b[0m\u001b[0;34m\u001b[0m\u001b[0;34m\u001b[0m\u001b[0m\n",
      "\u001b[0;32m<ipython-input-25-1c9fa5440e6f>\u001b[0m in \u001b[0;36mmain\u001b[0;34m()\u001b[0m\n\u001b[1;32m     54\u001b[0m             \u001b[0mend_game\u001b[0m\u001b[0;34m(\u001b[0m\u001b[0;34m)\u001b[0m\u001b[0;34m\u001b[0m\u001b[0;34m\u001b[0m\u001b[0m\n\u001b[1;32m     55\u001b[0m         \u001b[0;32mif\u001b[0m \u001b[0msnake_pos\u001b[0m\u001b[0;34m[\u001b[0m\u001b[0;36m1\u001b[0m\u001b[0;34m]\u001b[0m \u001b[0;34m<\u001b[0m\u001b[0;36m0\u001b[0m \u001b[0;32mor\u001b[0m \u001b[0msnake_pos\u001b[0m\u001b[0;34m[\u001b[0m\u001b[0;36m1\u001b[0m\u001b[0;34m]\u001b[0m\u001b[0;34m>\u001b[0m \u001b[0mwindow_sizey\u001b[0m \u001b[0;34m-\u001b[0m \u001b[0;36m10\u001b[0m\u001b[0;34m:\u001b[0m\u001b[0;34m\u001b[0m\u001b[0;34m\u001b[0m\u001b[0m\n\u001b[0;32m---> 56\u001b[0;31m             \u001b[0mend_game\u001b[0m\u001b[0;34m(\u001b[0m\u001b[0;34m)\u001b[0m\u001b[0;34m\u001b[0m\u001b[0;34m\u001b[0m\u001b[0m\n\u001b[0m\u001b[1;32m     57\u001b[0m \u001b[0;34m\u001b[0m\u001b[0m\n\u001b[1;32m     58\u001b[0m         \u001b[0;31m# hit the snake's body:\u001b[0m\u001b[0;34m\u001b[0m\u001b[0;34m\u001b[0m\u001b[0;34m\u001b[0m\u001b[0m\n",
      "\u001b[0;32m<ipython-input-22-cba9bcccb096>\u001b[0m in \u001b[0;36mend_game\u001b[0;34m()\u001b[0m\n\u001b[1;32m     34\u001b[0m                     \u001b[0mtime\u001b[0m\u001b[0;34m.\u001b[0m\u001b[0msleep\u001b[0m\u001b[0;34m(\u001b[0m\u001b[0;36m1\u001b[0m\u001b[0;34m)\u001b[0m\u001b[0;34m\u001b[0m\u001b[0;34m\u001b[0m\u001b[0m\n\u001b[1;32m     35\u001b[0m                     \u001b[0mpygame\u001b[0m\u001b[0;34m.\u001b[0m\u001b[0mdisplay\u001b[0m\u001b[0;34m.\u001b[0m\u001b[0mupdate\u001b[0m\u001b[0;34m(\u001b[0m\u001b[0;34m)\u001b[0m\u001b[0;34m\u001b[0m\u001b[0;34m\u001b[0m\u001b[0m\n\u001b[0;32m---> 36\u001b[0;31m                     \u001b[0mmain\u001b[0m\u001b[0;34m(\u001b[0m\u001b[0;34m)\u001b[0m\u001b[0;34m\u001b[0m\u001b[0;34m\u001b[0m\u001b[0m\n\u001b[0m\u001b[1;32m     37\u001b[0m                     \u001b[0;32mbreak\u001b[0m\u001b[0;34m\u001b[0m\u001b[0;34m\u001b[0m\u001b[0m\n",
      "\u001b[0;32m<ipython-input-25-1c9fa5440e6f>\u001b[0m in \u001b[0;36mmain\u001b[0;34m()\u001b[0m\n\u001b[1;32m     52\u001b[0m         \u001b[0;31m# hit the edge of window\u001b[0m\u001b[0;34m\u001b[0m\u001b[0;34m\u001b[0m\u001b[0;34m\u001b[0m\u001b[0m\n\u001b[1;32m     53\u001b[0m         \u001b[0;32mif\u001b[0m \u001b[0msnake_pos\u001b[0m\u001b[0;34m[\u001b[0m\u001b[0;36m0\u001b[0m\u001b[0;34m]\u001b[0m \u001b[0;34m<\u001b[0m\u001b[0;36m0\u001b[0m \u001b[0;32mor\u001b[0m \u001b[0msnake_pos\u001b[0m\u001b[0;34m[\u001b[0m\u001b[0;36m0\u001b[0m\u001b[0;34m]\u001b[0m\u001b[0;34m>\u001b[0m \u001b[0mwindow_sizex\u001b[0m \u001b[0;34m-\u001b[0m \u001b[0;36m10\u001b[0m\u001b[0;34m:\u001b[0m\u001b[0;34m\u001b[0m\u001b[0;34m\u001b[0m\u001b[0m\n\u001b[0;32m---> 54\u001b[0;31m             \u001b[0mend_game\u001b[0m\u001b[0;34m(\u001b[0m\u001b[0;34m)\u001b[0m\u001b[0;34m\u001b[0m\u001b[0;34m\u001b[0m\u001b[0m\n\u001b[0m\u001b[1;32m     55\u001b[0m         \u001b[0;32mif\u001b[0m \u001b[0msnake_pos\u001b[0m\u001b[0;34m[\u001b[0m\u001b[0;36m1\u001b[0m\u001b[0;34m]\u001b[0m \u001b[0;34m<\u001b[0m\u001b[0;36m0\u001b[0m \u001b[0;32mor\u001b[0m \u001b[0msnake_pos\u001b[0m\u001b[0;34m[\u001b[0m\u001b[0;36m1\u001b[0m\u001b[0;34m]\u001b[0m\u001b[0;34m>\u001b[0m \u001b[0mwindow_sizey\u001b[0m \u001b[0;34m-\u001b[0m \u001b[0;36m10\u001b[0m\u001b[0;34m:\u001b[0m\u001b[0;34m\u001b[0m\u001b[0;34m\u001b[0m\u001b[0m\n\u001b[1;32m     56\u001b[0m             \u001b[0mend_game\u001b[0m\u001b[0;34m(\u001b[0m\u001b[0;34m)\u001b[0m\u001b[0;34m\u001b[0m\u001b[0;34m\u001b[0m\u001b[0m\n",
      "\u001b[0;32m<ipython-input-22-cba9bcccb096>\u001b[0m in \u001b[0;36mend_game\u001b[0;34m()\u001b[0m\n\u001b[1;32m     14\u001b[0m \u001b[0;34m\u001b[0m\u001b[0m\n\u001b[1;32m     15\u001b[0m     \u001b[0;32mwhile\u001b[0m \u001b[0;32mTrue\u001b[0m\u001b[0;34m:\u001b[0m\u001b[0;34m\u001b[0m\u001b[0;34m\u001b[0m\u001b[0m\n\u001b[0;32m---> 16\u001b[0;31m         \u001b[0;32mfor\u001b[0m \u001b[0mevent\u001b[0m \u001b[0;32min\u001b[0m \u001b[0mpygame\u001b[0m\u001b[0;34m.\u001b[0m\u001b[0mevent\u001b[0m\u001b[0;34m.\u001b[0m\u001b[0mget\u001b[0m\u001b[0;34m(\u001b[0m\u001b[0;34m)\u001b[0m\u001b[0;34m:\u001b[0m\u001b[0;34m\u001b[0m\u001b[0;34m\u001b[0m\u001b[0m\n\u001b[0m\u001b[1;32m     17\u001b[0m             \u001b[0;32mif\u001b[0m \u001b[0mevent\u001b[0m\u001b[0;34m.\u001b[0m\u001b[0mtype\u001b[0m \u001b[0;34m==\u001b[0m \u001b[0mpygame\u001b[0m\u001b[0;34m.\u001b[0m\u001b[0mQUIT\u001b[0m\u001b[0;34m:\u001b[0m\u001b[0;34m\u001b[0m\u001b[0;34m\u001b[0m\u001b[0m\n\u001b[1;32m     18\u001b[0m                 \u001b[0mtime\u001b[0m\u001b[0;34m.\u001b[0m\u001b[0msleep\u001b[0m\u001b[0;34m(\u001b[0m\u001b[0;36m1\u001b[0m\u001b[0;34m)\u001b[0m\u001b[0;34m\u001b[0m\u001b[0;34m\u001b[0m\u001b[0m\n",
      "\u001b[0;31merror\u001b[0m: video system not initialized"
     ]
    }
   ],
   "source": [
    "if __name__ == '__main__':\n",
    "    main()\n",
    "    pygame.quit()"
   ]
  }
 ],
 "metadata": {
  "kernelspec": {
   "display_name": "Python 3",
   "language": "python",
   "name": "python3"
  },
  "language_info": {
   "codemirror_mode": {
    "name": "ipython",
    "version": 3
   },
   "file_extension": ".py",
   "mimetype": "text/x-python",
   "name": "python",
   "nbconvert_exporter": "python",
   "pygments_lexer": "ipython3",
   "version": "3.9.1"
  },
  "nbTranslate": {
   "displayLangs": [
    "*"
   ],
   "hotkey": "alt-t",
   "langInMainMenu": true,
   "sourceLang": "en",
   "targetLang": "fr",
   "useGoogleTranslate": true
  }
 },
 "nbformat": 4,
 "nbformat_minor": 4
}
