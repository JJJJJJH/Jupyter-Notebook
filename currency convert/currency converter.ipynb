{
 "cells": [
  {
   "cell_type": "markdown",
   "metadata": {},
   "source": [
    "### Imports"
   ]
  },
  {
   "cell_type": "code",
   "execution_count": 1,
   "metadata": {
    "ExecuteTime": {
     "end_time": "2020-12-05T22:40:19.670446Z",
     "start_time": "2020-12-05T22:40:19.592569Z"
    }
   },
   "outputs": [],
   "source": [
    "import requests\n",
    "from tkinter import *\n",
    "import tkinter as tk\n",
    "from tkinter import ttk\n",
    "from PIL import Image, ImageTk, ImageDraw\n",
    "from currency_converter import CurrencyConverter\n",
    "from functools import partial"
   ]
  },
  {
   "cell_type": "markdown",
   "metadata": {},
   "source": [
    "### use CurrencyConverter"
   ]
  },
  {
   "cell_type": "code",
   "execution_count": 2,
   "metadata": {
    "ExecuteTime": {
     "end_time": "2020-12-05T22:40:19.890222Z",
     "start_time": "2020-12-05T22:40:19.672416Z"
    }
   },
   "outputs": [],
   "source": [
    "C = CurrencyConverter()\n"
   ]
  },
  {
   "cell_type": "markdown",
   "metadata": {},
   "source": [
    "### Convert:\n",
    "- convert from 'EUR' to 'USD'"
   ]
  },
  {
   "cell_type": "code",
   "execution_count": 3,
   "metadata": {
    "ExecuteTime": {
     "end_time": "2020-12-05T22:40:19.900536Z",
     "start_time": "2020-12-05T22:40:19.892417Z"
    }
   },
   "outputs": [
    {
     "data": {
      "text/plain": [
       "116.52"
      ]
     },
     "execution_count": 3,
     "metadata": {},
     "output_type": "execute_result"
    }
   ],
   "source": [
    "A = 'EUR'\n",
    "B = 'USD'\n",
    "\n",
    "\n",
    "C.convert(100,A,B)"
   ]
  },
  {
   "cell_type": "markdown",
   "metadata": {},
   "source": [
    "### default target currency is 'EUR'"
   ]
  },
  {
   "cell_type": "code",
   "execution_count": 4,
   "metadata": {
    "ExecuteTime": {
     "end_time": "2020-12-05T22:40:19.906457Z",
     "start_time": "2020-12-05T22:40:19.902565Z"
    }
   },
   "outputs": [
    {
     "data": {
      "text/plain": [
       "85.82217645039478"
      ]
     },
     "execution_count": 4,
     "metadata": {},
     "output_type": "execute_result"
    }
   ],
   "source": [
    "C.convert(100,'USD')"
   ]
  },
  {
   "cell_type": "markdown",
   "metadata": {},
   "source": [
    "### also can select date:"
   ]
  },
  {
   "cell_type": "code",
   "execution_count": 5,
   "metadata": {
    "ExecuteTime": {
     "end_time": "2020-12-05T22:40:19.911694Z",
     "start_time": "2020-12-05T22:40:19.908235Z"
    }
   },
   "outputs": [
    {
     "data": {
      "text/plain": [
       "129.1"
      ]
     },
     "execution_count": 5,
     "metadata": {},
     "output_type": "execute_result"
    }
   ],
   "source": [
    "from datetime import date\n",
    "C.convert(100,'EUR','USD',date=date(2013,3,21))"
   ]
  },
  {
   "cell_type": "markdown",
   "metadata": {
    "ExecuteTime": {
     "end_time": "2020-11-25T03:14:29.733973Z",
     "start_time": "2020-11-25T03:14:29.725228Z"
    }
   },
   "source": [
    "### some rate are missing:"
   ]
  },
  {
   "cell_type": "code",
   "execution_count": 6,
   "metadata": {
    "ExecuteTime": {
     "end_time": "2020-12-05T22:40:20.090246Z",
     "start_time": "2020-12-05T22:40:19.940483Z"
    }
   },
   "outputs": [
    {
     "ename": "RateNotFoundError",
     "evalue": "BGN has no rate for 2020-01-01",
     "output_type": "error",
     "traceback": [
      "\u001b[0;31m---------------------------------------------------------------------------\u001b[0m",
      "\u001b[0;31mRateNotFoundError\u001b[0m                         Traceback (most recent call last)",
      "\u001b[0;32m<ipython-input-6-56c4817126e7>\u001b[0m in \u001b[0;36m<module>\u001b[0;34m\u001b[0m\n\u001b[0;32m----> 1\u001b[0;31m \u001b[0mC\u001b[0m\u001b[0;34m.\u001b[0m\u001b[0mconvert\u001b[0m\u001b[0;34m(\u001b[0m\u001b[0;36m100\u001b[0m\u001b[0;34m,\u001b[0m\u001b[0;34m'BGN'\u001b[0m\u001b[0;34m,\u001b[0m\u001b[0mdate\u001b[0m\u001b[0;34m=\u001b[0m\u001b[0mdate\u001b[0m\u001b[0;34m(\u001b[0m\u001b[0;36m2020\u001b[0m\u001b[0;34m,\u001b[0m\u001b[0;36m1\u001b[0m\u001b[0;34m,\u001b[0m\u001b[0;36m1\u001b[0m\u001b[0;34m)\u001b[0m\u001b[0;34m)\u001b[0m\u001b[0;34m\u001b[0m\u001b[0;34m\u001b[0m\u001b[0m\n\u001b[0m\u001b[1;32m      2\u001b[0m \u001b[0;31m# RateNotFoundError: BGN has no rate for 2020-01-01\u001b[0m\u001b[0;34m\u001b[0m\u001b[0;34m\u001b[0m\u001b[0;34m\u001b[0m\u001b[0m\n",
      "\u001b[0;32m/usr/local/Cellar/jupyterlab/2.1.5/libexec/lib/python3.8/site-packages/currency_converter/currency_converter.py\u001b[0m in \u001b[0;36mconvert\u001b[0;34m(self, amount, currency, new_currency, date)\u001b[0m\n\u001b[1;32m    353\u001b[0m                 \u001b[0;32mpass\u001b[0m\u001b[0;34m\u001b[0m\u001b[0;34m\u001b[0m\u001b[0m\n\u001b[1;32m    354\u001b[0m \u001b[0;34m\u001b[0m\u001b[0m\n\u001b[0;32m--> 355\u001b[0;31m         \u001b[0mr0\u001b[0m \u001b[0;34m=\u001b[0m \u001b[0mself\u001b[0m\u001b[0;34m.\u001b[0m\u001b[0m_get_rate\u001b[0m\u001b[0;34m(\u001b[0m\u001b[0mcurrency\u001b[0m\u001b[0;34m,\u001b[0m \u001b[0mdate\u001b[0m\u001b[0;34m)\u001b[0m\u001b[0;34m\u001b[0m\u001b[0;34m\u001b[0m\u001b[0m\n\u001b[0m\u001b[1;32m    356\u001b[0m         \u001b[0mr1\u001b[0m \u001b[0;34m=\u001b[0m \u001b[0mself\u001b[0m\u001b[0;34m.\u001b[0m\u001b[0m_get_rate\u001b[0m\u001b[0;34m(\u001b[0m\u001b[0mnew_currency\u001b[0m\u001b[0;34m,\u001b[0m \u001b[0mdate\u001b[0m\u001b[0;34m)\u001b[0m\u001b[0;34m\u001b[0m\u001b[0;34m\u001b[0m\u001b[0m\n\u001b[1;32m    357\u001b[0m \u001b[0;34m\u001b[0m\u001b[0m\n",
      "\u001b[0;32m/usr/local/Cellar/jupyterlab/2.1.5/libexec/lib/python3.8/site-packages/currency_converter/currency_converter.py\u001b[0m in \u001b[0;36m_get_rate\u001b[0;34m(self, currency, date)\u001b[0m\n\u001b[1;32m    316\u001b[0m         \u001b[0mrate\u001b[0m \u001b[0;34m=\u001b[0m \u001b[0mself\u001b[0m\u001b[0;34m.\u001b[0m\u001b[0m_rates\u001b[0m\u001b[0;34m[\u001b[0m\u001b[0mcurrency\u001b[0m\u001b[0;34m]\u001b[0m\u001b[0;34m[\u001b[0m\u001b[0mdate\u001b[0m\u001b[0;34m]\u001b[0m\u001b[0;34m\u001b[0m\u001b[0;34m\u001b[0m\u001b[0m\n\u001b[1;32m    317\u001b[0m         \u001b[0;32mif\u001b[0m \u001b[0mrate\u001b[0m \u001b[0;32mis\u001b[0m \u001b[0;32mNone\u001b[0m\u001b[0;34m:\u001b[0m\u001b[0;34m\u001b[0m\u001b[0;34m\u001b[0m\u001b[0m\n\u001b[0;32m--> 318\u001b[0;31m             \u001b[0;32mraise\u001b[0m \u001b[0mRateNotFoundError\u001b[0m\u001b[0;34m(\u001b[0m\u001b[0;34m'{0} has no rate for {1}'\u001b[0m\u001b[0;34m.\u001b[0m\u001b[0mformat\u001b[0m\u001b[0;34m(\u001b[0m\u001b[0mcurrency\u001b[0m\u001b[0;34m,\u001b[0m \u001b[0mdate\u001b[0m\u001b[0;34m)\u001b[0m\u001b[0;34m)\u001b[0m\u001b[0;34m\u001b[0m\u001b[0;34m\u001b[0m\u001b[0m\n\u001b[0m\u001b[1;32m    319\u001b[0m         \u001b[0;32mreturn\u001b[0m \u001b[0mrate\u001b[0m\u001b[0;34m\u001b[0m\u001b[0;34m\u001b[0m\u001b[0m\n\u001b[1;32m    320\u001b[0m \u001b[0;34m\u001b[0m\u001b[0m\n",
      "\u001b[0;31mRateNotFoundError\u001b[0m: BGN has no rate for 2020-01-01"
     ]
    }
   ],
   "source": [
    "C.convert(100,'BGN',date=date(2020,1,1))\n",
    "# RateNotFoundError: BGN has no rate for 2020-01-01"
   ]
  },
  {
   "cell_type": "markdown",
   "metadata": {},
   "source": [
    "### so:"
   ]
  },
  {
   "cell_type": "code",
   "execution_count": null,
   "metadata": {
    "ExecuteTime": {
     "end_time": "2020-12-05T22:40:20.092482Z",
     "start_time": "2020-12-05T22:40:20.002Z"
    }
   },
   "outputs": [],
   "source": [
    "C = CurrencyConverter(fallback_on_missing_rate=True)\n",
    "C.convert(100,'BGN',date=date(2020,1,1))"
   ]
  },
  {
   "cell_type": "markdown",
   "metadata": {},
   "source": [
    "### or also a fallback for date:"
   ]
  },
  {
   "cell_type": "code",
   "execution_count": null,
   "metadata": {
    "ExecuteTime": {
     "end_time": "2020-12-05T22:40:20.093635Z",
     "start_time": "2020-12-05T22:40:20.060Z"
    }
   },
   "outputs": [],
   "source": [
    "C = CurrencyConverter(fallback_on_wrong_date=True)\n",
    "C.convert(100,'EUR','USD',date=date(1986,2,2))"
   ]
  },
  {
   "cell_type": "markdown",
   "metadata": {},
   "source": [
    "### bounds date & currencies"
   ]
  },
  {
   "cell_type": "code",
   "execution_count": 7,
   "metadata": {
    "ExecuteTime": {
     "end_time": "2020-12-05T22:40:20.199641Z",
     "start_time": "2020-12-05T22:40:20.196099Z"
    }
   },
   "outputs": [
    {
     "data": {
      "text/plain": [
       "(datetime.date(1999, 1, 4), datetime.date(2020, 11, 2))"
      ]
     },
     "execution_count": 7,
     "metadata": {},
     "output_type": "execute_result"
    }
   ],
   "source": [
    "first_date, last_date = C.bounds['USD']\n",
    "first_date,last_date\n",
    "\n",
    "#list(C.currencies)[:5] # show top 5"
   ]
  },
  {
   "cell_type": "markdown",
   "metadata": {},
   "source": [
    "### currency"
   ]
  },
  {
   "cell_type": "code",
   "execution_count": 8,
   "metadata": {
    "ExecuteTime": {
     "end_time": "2020-12-05T22:40:20.205480Z",
     "start_time": "2020-12-05T22:40:20.201334Z"
    }
   },
   "outputs": [],
   "source": [
    "#solution function\n",
    "def currency():\n",
    "    amount = float(entry_num.get())\n",
    "    from_curr = from_currency.get()\n",
    "    to_curr = to_currency.get()\n",
    "    \n",
    "    result = round(C.convert(amount,from_curr,to_curr),2)\n",
    "    \n",
    "    labelResult.config(text=\"Convert Solution: \"+str(result),font=font)"
   ]
  },
  {
   "cell_type": "markdown",
   "metadata": {},
   "source": [
    "### create tkinter app"
   ]
  },
  {
   "cell_type": "code",
   "execution_count": 9,
   "metadata": {
    "ExecuteTime": {
     "end_time": "2020-12-05T22:40:20.470972Z",
     "start_time": "2020-12-05T22:40:20.273241Z"
    }
   },
   "outputs": [],
   "source": [
    "# create window\n",
    "window = tk.Tk()\n",
    "\n",
    "window.title(\"Python Currency Converter\")\n",
    "window.geometry('400x350')\n",
    "\n",
    "window.configure(bg='#252525')\n",
    "\n",
    "\n",
    "\n",
    "#entry\n",
    "entry_num = tk.Entry(window, bg='#80ff80',fg=\"black\",font = ('AnonymousPro-Regular.ttf',18))\n",
    "entry_num.pack(fill=tk.X)\n",
    "\n",
    "entry_num.insert(1, \"Insert # of the amount\")\n",
    "\n",
    "\n",
    "# frame\n",
    "bFrame=Frame(window,bg='#252525',width=20,height=50)\n",
    "bFrame.pack(side= BOTTOM,fill=tk.X)\n",
    "\n",
    "lFrame=Frame(window,bg='#252525',width=250,height=350)\n",
    "lFrame.pack(side = LEFT)\n",
    "\n",
    "rFrame=Frame(window,bg='#252525',width=100,height=350)\n",
    "rFrame.pack(side = LEFT)\n",
    "\n",
    "\n",
    "\n",
    "# drop down\n",
    "font = ('AnonymousPro-Regular.ttf',14)\n",
    "from_label = tk.Label(lFrame,text = 'From:',bg = '#252525',fg = 'white',font = font)\n",
    "from_label.pack()\n",
    "from_label.place(x = 30, y= 27)\n",
    "\n",
    "to_label = tk.Label(lFrame,text = 'To:',bg = '#252525',fg = 'white',font = font)\n",
    "to_label.pack()\n",
    "to_label.place(x = 30, y= 127)\n",
    "\n",
    "from_currency= StringVar(lFrame)\n",
    "from_currency.set(\"USD\") # default value\n",
    "to_currency= StringVar(lFrame)\n",
    "to_currency.set(\"USD\") # default value\n",
    "\n",
    "from_currency_dropdown = ttk.Combobox(lFrame, textvariable=from_currency,values=list(C.currencies), font = font, state = 'readonly', width =15, justify = tk.CENTER)\n",
    "to_currency_dropdown = ttk.Combobox(lFrame, textvariable=to_currency,values=list(C.currencies), font = font, state = 'readonly', width = 15, justify = tk.CENTER)\n",
    "\n",
    "#OP\n",
    "labelResult = tk.Label(bFrame,text = 'Convert Solution:',bg = '#252525',fg = 'white',font = font)\n",
    "\n",
    "\n",
    "# Convert button\n",
    "pic = Image.open('black-right-arrow-png-2-Transparent-Images.png')\n",
    "pic = pic.resize((50, 50), Image.ANTIALIAS)\n",
    "photo=ImageTk.PhotoImage(pic)\n",
    "\n",
    "button_c = Button(rFrame,image=photo,bg= '#252525',border=0,command = currency)\n",
    "\n",
    "\n",
    "# placing\n",
    "from_currency_dropdown.place(x = 30, y= 50)\n",
    "to_currency_dropdown.place(x = 30, y= 150)\n",
    "button_c.place(x=20,y=50)\n",
    "labelResult.place(x= 0,y=0)\n"
   ]
  },
  {
   "cell_type": "markdown",
   "metadata": {},
   "source": [
    "## Output Window"
   ]
  },
  {
   "cell_type": "code",
   "execution_count": 10,
   "metadata": {
    "ExecuteTime": {
     "end_time": "2020-12-05T22:47:37.857358Z",
     "start_time": "2020-12-05T22:40:20.473001Z"
    }
   },
   "outputs": [],
   "source": [
    "window.mainloop()"
   ]
  },
  {
   "cell_type": "code",
   "execution_count": null,
   "metadata": {},
   "outputs": [],
   "source": []
  }
 ],
 "metadata": {
  "kernelspec": {
   "display_name": "Python 3",
   "language": "python",
   "name": "python3"
  },
  "language_info": {
   "codemirror_mode": {
    "name": "ipython",
    "version": 3
   },
   "file_extension": ".py",
   "mimetype": "text/x-python",
   "name": "python",
   "nbconvert_exporter": "python",
   "pygments_lexer": "ipython3",
   "version": "3.8.3"
  },
  "nbTranslate": {
   "displayLangs": [
    "*"
   ],
   "hotkey": "alt-t",
   "langInMainMenu": true,
   "sourceLang": "en",
   "targetLang": "fr",
   "useGoogleTranslate": true
  }
 },
 "nbformat": 4,
 "nbformat_minor": 4
}
