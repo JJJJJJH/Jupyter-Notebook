{
 "cells": [
  {
   "cell_type": "markdown",
   "metadata": {},
   "source": [
    "# 前言"
   ]
  },
  {
   "cell_type": "code",
   "execution_count": 1,
   "metadata": {
    "scrolled": true
   },
   "outputs": [
    {
     "name": "stdout",
     "output_type": "stream",
     "text": [
      "I'm thinking of a number between 1 and 30!\n",
      " Try to guess the number I'm thinking of: 15\n",
      "Too low!\n",
      "Guess again: 20\n",
      "Too high!\n",
      "Guess again: 18\n",
      "Too low!\n",
      "Guess again: 19\n",
      "That's it!\n",
      "Would you like to play again? (yes/no) no\n",
      "Thanks for playing!\n"
     ]
    }
   ],
   "source": [
    "import random\n",
    "\n",
    "\n",
    "def guess_number_game():\n",
    "    my_num = random.randint(1, 30)\n",
    "    print(\"I'm thinking of a number between 1 and 30!\")\n",
    "\n",
    "    guess = int(input(\" Try to guess the number I'm thinking of: \"))\n",
    "    while guess != my_num:\n",
    "        if guess < my_num:\n",
    "            print(\"Too low!\")\n",
    "\n",
    "        else:\n",
    "            print(\"Too high!\")\n",
    "        guess = int(input(\"Guess again: \"))\n",
    "    else:\n",
    "        print(\"That's it!\")\n",
    "        y_n = input(\"Would you like to play again? (yes/no) \")\n",
    "        if y_n == 'yes':\n",
    "            return guess_number_game()\n",
    "        else:\n",
    "            return print(\"Thanks for playing!\")\n",
    "\n",
    "\n",
    "guess_number_game()"
   ]
  },
  {
   "cell_type": "code",
   "execution_count": 2,
   "metadata": {
    "scrolled": true
   },
   "outputs": [
    {
     "data": {
      "text/plain": [
       "0.912037037037037"
      ]
     },
     "execution_count": 2,
     "metadata": {},
     "output_type": "execute_result"
    }
   ],
   "source": [
    "# just a help for my friend\n",
    "def power(n, x):\n",
    "    if n == 1:\n",
    "        return 1\n",
    "    else:\n",
    "        return (-1)**(n-1)/(n**x) + power(n-1, x)\n",
    "\n",
    "\n",
    "power(3, 3)"
   ]
  },
  {
   "cell_type": "markdown",
   "metadata": {},
   "source": [
    "# § 2 string"
   ]
  },
  {
   "cell_type": "code",
   "execution_count": 3,
   "metadata": {},
   "outputs": [
    {
     "data": {
      "text/plain": [
       "' python '"
      ]
     },
     "execution_count": 3,
     "metadata": {},
     "output_type": "execute_result"
    }
   ],
   "source": [
    "language = ' python '\n",
    "language"
   ]
  },
  {
   "cell_type": "code",
   "execution_count": 4,
   "metadata": {},
   "outputs": [
    {
     "name": "stdout",
     "output_type": "stream",
     "text": [
      " python\n"
     ]
    },
    {
     "data": {
      "text/plain": [
       "'python'"
      ]
     },
     "execution_count": 4,
     "metadata": {},
     "output_type": "execute_result"
    }
   ],
   "source": [
    "language.strip()  # delete right side space,lstrip,strip\n",
    "print(language.rstrip())\n",
    "language = language.strip()\n",
    "language"
   ]
  },
  {
   "cell_type": "code",
   "execution_count": 5,
   "metadata": {},
   "outputs": [
    {
     "name": "stdout",
     "output_type": "stream",
     "text": [
      "Hello Eric,would you like tolearn some Python today?\n"
     ]
    }
   ],
   "source": [
    "name = 'Eric'\n",
    "print(\"Hello {},would you like to\\\n",
    "learn some Python today?\".format(name))"
   ]
  },
  {
   "cell_type": "code",
   "execution_count": 6,
   "metadata": {},
   "outputs": [
    {
     "data": {
      "text/plain": [
       "(5, 6, 8, 0.6666666666666666, 0.30000000000000004, 1.5)"
      ]
     },
     "execution_count": 6,
     "metadata": {},
     "output_type": "execute_result"
    }
   ],
   "source": [
    "2+3, 2*3, 2**3, 2/3, 0.1+0.2, 3/2"
   ]
  },
  {
   "cell_type": "markdown",
   "metadata": {},
   "source": [
    "# § 3 list"
   ]
  },
  {
   "cell_type": "markdown",
   "metadata": {},
   "source": [
    "### title, join, replace, split"
   ]
  },
  {
   "cell_type": "code",
   "execution_count": 7,
   "metadata": {},
   "outputs": [
    {
     "name": "stdout",
     "output_type": "stream",
     "text": [
      "trek\n",
      "Trek\n",
      "trek...cannondale...redline...specialized\n",
      " f d s f e r g \n",
      "['f', 'd', 's', 'f', 'e', 'r', 'g']\n"
     ]
    }
   ],
   "source": [
    "# Example\n",
    "bicycle = ['trek', 'cannondale', 'redline', 'specialized']\n",
    "print(bicycle[0])  # start from 0\n",
    "print(bicycle[0].title())\n",
    "print('...'.join(bicycle))\n",
    "\n",
    "a = 'fdsferg'\n",
    "replace_a = a.replace('', ' ')\n",
    "print(replace_a)\n",
    "print(replace_a.split())"
   ]
  },
  {
   "cell_type": "markdown",
   "metadata": {},
   "source": [
    "### append, insert, del, pop"
   ]
  },
  {
   "cell_type": "code",
   "execution_count": 8,
   "metadata": {},
   "outputs": [
    {
     "name": "stdout",
     "output_type": "stream",
     "text": [
      "['honda', 'yamaha', 'suzuki']\n",
      "['honda', 'yamaha', 'suzuki', 'ducati']\n",
      "['GXD', 'honda', 'yamaha', 'suzuki', 'ducati']\n",
      "['GXD', 'yamaha', 'suzuki', 'ducati']\n",
      "['GXD', 'yamaha', 'suzuki', 'ducati', 'GXD', 'yamaha', 'suzuki', 'ducati', 'GXD', 'yamaha', 'suzuki', 'ducati']\n",
      "ducati\n",
      "['GXD', 'yamaha', 'suzuki']\n"
     ]
    }
   ],
   "source": [
    "motocycle = ['honda', 'yamaha', 'suzuki']\n",
    "print(motocycle)\n",
    "motocycle.append('ducati')\n",
    "print(motocycle)\n",
    "motocycle.insert(0, 'GXD')\n",
    "print(motocycle)\n",
    "del motocycle[1]\n",
    "print(motocycle)\n",
    "print(motocycle * 3)\n",
    "popped_motocycle = motocycle.pop()  # pop last term into pop\n",
    "print(popped_motocycle)\n",
    "print(motocycle)"
   ]
  },
  {
   "cell_type": "markdown",
   "metadata": {},
   "source": [
    "### sort, sort(reverse =True), sorted(), reverse, last term[-1]"
   ]
  },
  {
   "cell_type": "code",
   "execution_count": 9,
   "metadata": {},
   "outputs": [
    {
     "name": "stdout",
     "output_type": "stream",
     "text": [
      "['benz', 'bmw', 'toyota']\n",
      "['bmw', 'benz', 'toyota']\n",
      "['benz', 'bmw', 'toyota']\n",
      "['toyota', 'bmw', 'benz']\n",
      "['benz', 'bmw', 'toyota']\n",
      "3\n",
      "toyota\n"
     ]
    }
   ],
   "source": [
    "cars = ['bmw', 'benz', 'toyota']\n",
    "print(sorted(cars))\n",
    "print(cars)\n",
    "cars.sort()\n",
    "print(cars)\n",
    "cars.sort(reverse=True)\n",
    "print(cars)\n",
    "cars.reverse()  # not sorted, only reverse\n",
    "print(cars)\n",
    "print(len(cars))  # the length of list\n",
    "print(cars[-1])"
   ]
  },
  {
   "cell_type": "markdown",
   "metadata": {},
   "source": [
    "# § 4 Operation list"
   ]
  },
  {
   "cell_type": "markdown",
   "metadata": {},
   "source": [
    "### for loop, look out indent errors"
   ]
  },
  {
   "cell_type": "code",
   "execution_count": 10,
   "metadata": {},
   "outputs": [
    {
     "name": "stdout",
     "output_type": "stream",
     "text": [
      "jason\n",
      "Jason is a good person.\n",
      "I am glad to be a friend with Jason.\n",
      "\n",
      "owen\n",
      "Owen is a good person.\n",
      "I am glad to be a friend with Owen.\n",
      "\n",
      "chris\n",
      "Chris is a good person.\n",
      "I am glad to be a friend with Chris.\n",
      "\n",
      "alice\n",
      "Alice is a good person.\n",
      "I am glad to be a friend with Alice.\n",
      "\n",
      "ford\n",
      "Ford is a good person.\n",
      "I am glad to be a friend with Ford.\n",
      "\n",
      "We are all good friends.\n"
     ]
    }
   ],
   "source": [
    "people = ['jason', 'owen', 'chris', 'alice', 'ford']\n",
    "for person in people:\n",
    "    print(person)\n",
    "    print(person.title() + ' is a good person.')\n",
    "    print('I am glad to be a friend with ' + person.title() + '.\\n')\n",
    "print('We are all good friends.')"
   ]
  },
  {
   "cell_type": "markdown",
   "metadata": {},
   "source": [
    "### nums, for loop (one line code)"
   ]
  },
  {
   "cell_type": "code",
   "execution_count": 11,
   "metadata": {},
   "outputs": [
    {
     "name": "stdout",
     "output_type": "stream",
     "text": [
      "1\n",
      "2\n",
      "3\n",
      "4\n",
      "[1, 2, 3, 4, 5]\n",
      "[2, 4, 6]\n",
      "[1, 4, 9, 16, 25, 36, 49, 64, 81, 100]\n",
      "[1, 4, 9, 16, 25, 36, 49, 64, 81, 100]\n"
     ]
    }
   ],
   "source": [
    "for value in range(1, 5):  # output : 1,2,3,4\n",
    "    print(value)\n",
    "numbers = list(range(1, 6))  # make a list of numbers\n",
    "print(numbers)\n",
    "evens = list(range(2, 7, 2))  # make a list of even numbers\n",
    "print(evens)\n",
    "\n",
    "squares = []\n",
    "for value in range(1, 11):\n",
    "    square = value ** 2      # squares.append(value**2)\n",
    "    squares.append(square)\n",
    "\n",
    "print(squares)\n",
    "squares = [value**2 for value in range(1, 11)]\n",
    "print(squares)"
   ]
  },
  {
   "cell_type": "markdown",
   "metadata": {},
   "source": [
    "### max, min, sum"
   ]
  },
  {
   "cell_type": "code",
   "execution_count": 12,
   "metadata": {},
   "outputs": [
    {
     "name": "stdout",
     "output_type": "stream",
     "text": [
      "1\n",
      "8\n",
      "30\n"
     ]
    }
   ],
   "source": [
    "digits = [1, 5, 8, 3, 3, 7, 3]\n",
    "print(min(digits))\n",
    "print(max(digits))\n",
    "print(sum(digits))"
   ]
  },
  {
   "cell_type": "markdown",
   "metadata": {},
   "source": [
    "### slice, copy list [:]"
   ]
  },
  {
   "cell_type": "code",
   "execution_count": 13,
   "metadata": {},
   "outputs": [
    {
     "name": "stdout",
     "output_type": "stream",
     "text": [
      "['charles', 'martina', 'florence']\n",
      "['florence', 'leo']\n",
      "['florence', 'leo']\n",
      "Charles\n",
      "Martina\n",
      "Florence\n",
      "['apple', 'rice', 'pizza', 'bread']\n",
      "['apple', 'rice', 'pizza', 'bread']\n",
      "['apple', 'rice', 'pizza', 'bread', 'ice cream']\n",
      "['apple', 'rice', 'bread']\n"
     ]
    }
   ],
   "source": [
    "players = ['charles', 'martina', 'florence', 'leo']\n",
    "print(players[0:3])  # same as 'player[:3]'\n",
    "print(players[2:])  # 3rd to the end\n",
    "print(players[-2:])  # last 2\n",
    "\n",
    "for player in players[:3]:\n",
    "    print(player.title())\n",
    "\n",
    "food = ['apple', 'rice', 'pizza', 'bread']\n",
    "dinner = food[:]\n",
    "print(food)\n",
    "print(dinner)\n",
    "food.append('ice cream')\n",
    "del dinner[2]\n",
    "print(food)\n",
    "print(dinner)"
   ]
  },
  {
   "cell_type": "code",
   "execution_count": 15,
   "metadata": {},
   "outputs": [
    {
     "name": "stdout",
     "output_type": "stream",
     "text": [
      "enter a integer: 3\n",
      "+++++++++++++++++++++++++1.732\n"
     ]
    }
   ],
   "source": [
    "# help for a friend\n",
    "\n",
    "import math\n",
    "a = input('enter a integer: ')\n",
    "sqrt = math.sqrt(int(a))\n",
    "sqrt_str = str(sqrt).split('.')[0] + '.' + str(sqrt).split('.')[1][:3]\n",
    "print(sqrt_str.rjust(30, '+'))"
   ]
  },
  {
   "cell_type": "markdown",
   "metadata": {},
   "source": [
    "### tuple , immutable list (不可变的）"
   ]
  },
  {
   "cell_type": "code",
   "execution_count": 16,
   "metadata": {},
   "outputs": [
    {
     "name": "stdout",
     "output_type": "stream",
     "text": [
      "200\n",
      "50\n",
      "100\n"
     ]
    }
   ],
   "source": [
    "dimensions = (200, 50)\n",
    "print(dimensions[0])\n",
    "print(dimensions[1])\n",
    "\n",
    "# if want to change, make a new one:\n",
    "dimensions = (100, 20)\n",
    "print(dimensions[0])"
   ]
  },
  {
   "cell_type": "markdown",
   "metadata": {},
   "source": [
    "# § 5 if function"
   ]
  },
  {
   "cell_type": "code",
   "execution_count": 17,
   "metadata": {},
   "outputs": [
    {
     "name": "stdout",
     "output_type": "stream",
     "text": [
      "Benz\n",
      "BMW\n",
      "Toyota\n"
     ]
    }
   ],
   "source": [
    "cars\n",
    "for car in cars:\n",
    "    if car == 'bmw':\n",
    "        print(car.upper())\n",
    "    else:\n",
    "        print(car.title())"
   ]
  },
  {
   "cell_type": "code",
   "execution_count": 18,
   "metadata": {},
   "outputs": [
    {
     "name": "stdout",
     "output_type": "stream",
     "text": [
      "['benz', 'bmw', 'toyota']\n",
      "<class 'bool'>\n",
      "True\n",
      "there is a car\n",
      "not same\n",
      "not in\n"
     ]
    }
   ],
   "source": [
    "print(cars)\n",
    "print(type(car == 'bmw'))\n",
    "print(cars[1] == 'bmw')\n",
    "if car:\n",
    "    print('there is a car')\n",
    "else:\n",
    "    print('no cars here')\n",
    "\n",
    "age = 10\n",
    "a = str(age)\n",
    "if age == a:\n",
    "    print('same')\n",
    "else:\n",
    "    print('not same')\n",
    "\n",
    "alphs = ['a', 'b', 'd', 'f', 't']\n",
    "test = 'o'\n",
    "if test in alphs:\n",
    "    print('yes')\n",
    "else:\n",
    "    print('not in')"
   ]
  },
  {
   "cell_type": "markdown",
   "metadata": {},
   "source": [
    "# § 6 dictionary"
   ]
  },
  {
   "cell_type": "markdown",
   "metadata": {},
   "source": [
    "### key:value, del"
   ]
  },
  {
   "cell_type": "code",
   "execution_count": 19,
   "metadata": {},
   "outputs": [
    {
     "name": "stdout",
     "output_type": "stream",
     "text": [
      "green\n",
      "5\n",
      "{'color': 'green', 'points': 5, 'x_position': 0, 'y_position': 25}\n",
      "{'color': 'green', 'x_position': 0, 'y_position': 25}\n"
     ]
    }
   ],
   "source": [
    "alien_0 = {'color': 'green', 'points': 5}\n",
    "print(alien_0['color'])\n",
    "print(alien_0['points'])\n",
    "alien_0['x_position'] = 0\n",
    "alien_0['y_position'] = 25\n",
    "print(alien_0)\n",
    "\n",
    "del alien_0['points']\n",
    "print(alien_0)"
   ]
  },
  {
   "cell_type": "markdown",
   "metadata": {},
   "source": [
    "### dictionary - if function"
   ]
  },
  {
   "cell_type": "code",
   "execution_count": 20,
   "metadata": {},
   "outputs": [
    {
     "name": "stdout",
     "output_type": "stream",
     "text": [
      "Original x-position: 0\n",
      "New x-position: 3\n"
     ]
    }
   ],
   "source": [
    "alien_0 = {'x_position': 0, 'y_position': 25, 'speed': 'medium'}\n",
    "print(\"Original x-position: \"+str(alien_0['x_position']))\n",
    "alien_0['speed'] = 'fast'\n",
    "# move alien to right\n",
    "# distance depends on alien's moving speed\n",
    "if alien_0['speed'] == 'slow':\n",
    "    x_increment = 1\n",
    "elif alien_0['speed'] == 'medium':\n",
    "    x_increment = 2\n",
    "else:\n",
    "    # a really Alien\n",
    "    x_increment = 3\n",
    "\n",
    "\n",
    "alien_0['x_position'] = alien_0['x_position'] + x_increment\n",
    "\n",
    "print(\"New x-position: \" + str(alien_0['x_position']))"
   ]
  },
  {
   "cell_type": "markdown",
   "metadata": {},
   "source": [
    "### dictionary -  set() # find unrepeat values"
   ]
  },
  {
   "cell_type": "code",
   "execution_count": 21,
   "metadata": {},
   "outputs": [
    {
     "name": "stdout",
     "output_type": "stream",
     "text": [
      "Sarah's favorite language is C.\n",
      "Ruby\n",
      "C\n",
      "Python\n"
     ]
    }
   ],
   "source": [
    "# new example\n",
    "favorite_languages = {\n",
    "    'jen': 'python',\n",
    "    'sarah': 'c',\n",
    "    'edward': 'ruby',\n",
    "    'phil': 'python',\n",
    "}\n",
    "\n",
    "print(\"Sarah's favorite language is \" +\n",
    "      favorite_languages['sarah'].title()+'.')\n",
    "\n",
    "# unrepeat language list:\n",
    "for language in set(favorite_languages.values()):\n",
    "    print(language.title())"
   ]
  },
  {
   "cell_type": "markdown",
   "metadata": {},
   "source": [
    "### dictionary - for loop"
   ]
  },
  {
   "cell_type": "code",
   "execution_count": 22,
   "metadata": {},
   "outputs": [
    {
     "name": "stdout",
     "output_type": "stream",
     "text": [
      "\n",
      "Key: username\tValue: efermi\n",
      "\n",
      "Key: first\tValue: enrico\n",
      "\n",
      "Key: last\tValue: fermi\n"
     ]
    }
   ],
   "source": [
    "# for loop in dictionary examples:\n",
    "\n",
    "user_0 = {\n",
    "    'username': 'efermi',\n",
    "    'first': 'enrico',\n",
    "    'last': 'fermi',\n",
    "\n",
    "}\n",
    "for k, v in user_0.items():\n",
    "    print(\"\\nKey: \"+k + \"\\tValue: \"+v)"
   ]
  },
  {
   "cell_type": "markdown",
   "metadata": {},
   "source": [
    "### Nesting: 1. saving dictionaries into a list; or 2. saving lists into a dictionary; \n",
    "+ Example for 1. saving dictionaries into a list"
   ]
  },
  {
   "cell_type": "code",
   "execution_count": 23,
   "metadata": {},
   "outputs": [
    {
     "name": "stdout",
     "output_type": "stream",
     "text": [
      "{'color': 'green', 'points': 5}\n",
      "{'color': 'yellow', 'points': 10}\n",
      "{'color': 'red', 'points': 15}\n"
     ]
    }
   ],
   "source": [
    "alien_0 = {'color': 'green', 'points': 5}\n",
    "alien_1 = {'color': 'yellow', 'points': 10}\n",
    "alien_2 = {'color': 'red', 'points': 15}\n",
    "\n",
    "aliens = [alien_0, alien_1, alien_2]\n",
    "\n",
    "for alien in aliens:\n",
    "    print(alien)"
   ]
  },
  {
   "cell_type": "code",
   "execution_count": 24,
   "metadata": {},
   "outputs": [
    {
     "name": "stdout",
     "output_type": "stream",
     "text": [
      "{'color': 'green', 'points': 5, 'speed': 'slow'}\n",
      "{'color': 'green', 'points': 5, 'speed': 'slow'}\n",
      "{'color': 'green', 'points': 5, 'speed': 'slow'}\n",
      "{'color': 'green', 'points': 5, 'speed': 'slow'}\n",
      "{'color': 'green', 'points': 5, 'speed': 'slow'}\n",
      "...\n",
      "Total number of aliens: 30\n",
      "\n",
      "\n",
      "{'color': 'yellow', 'points': 10, 'speed': 'medium'}\n",
      "{'color': 'yellow', 'points': 10, 'speed': 'medium'}\n",
      "{'color': 'yellow', 'points': 10, 'speed': 'medium'}\n",
      "{'color': 'green', 'points': 5, 'speed': 'slow'}\n",
      "{'color': 'green', 'points': 5, 'speed': 'slow'}\n",
      "...\n"
     ]
    }
   ],
   "source": [
    "# make a list of aliens, Example: 30 aliens\n",
    "\n",
    "# make an empty alien lst\n",
    "aliens = []\n",
    "\n",
    "# create 30 green aliens into new_alien list\n",
    "for alien_number in range(30):\n",
    "    new_alien = {'color': 'green', 'points': 5, 'speed': 'slow'}\n",
    "    aliens.append(new_alien)\n",
    "\n",
    "# print first 5 aliens\n",
    "for alien in aliens[:5]:\n",
    "    print(alien)\n",
    "print('...')\n",
    "\n",
    "# print the total number of aliens\n",
    "print('Total number of aliens: '+str(len(aliens)))\n",
    "\n",
    "print('\\n')\n",
    "# if I wanna change some aliens' info:\n",
    "for alien in aliens[:3]:\n",
    "    if alien['color'] == 'green':\n",
    "        alien['color'] = 'yellow'\n",
    "        alien['speed'] = 'medium'\n",
    "        alien['points'] = 10\n",
    "    elif alien['color'] == 'yellow':\n",
    "        alien['color'] = 'red'\n",
    "        alien['speed'] = 'fast'\n",
    "        alien['points'] = 15\n",
    "\n",
    "\n",
    "for alien in aliens[:5]:\n",
    "    print(alien)\n",
    "print('...')"
   ]
  },
  {
   "cell_type": "markdown",
   "metadata": {},
   "source": [
    "+ Example of 2. saving lists into a dictionary;"
   ]
  },
  {
   "cell_type": "code",
   "execution_count": 25,
   "metadata": {},
   "outputs": [
    {
     "name": "stdout",
     "output_type": "stream",
     "text": [
      "You ordered a thick-crust pizza with the following topping:\n",
      "\tmushrooms\n",
      "\textra cheese\n"
     ]
    }
   ],
   "source": [
    "# making pizza, choose tops\n",
    "pizza = {\n",
    "    'crust': 'thick',\n",
    "    'toppings': ['mushrooms', 'extra cheese'],\n",
    "}\n",
    "# order info\n",
    "print(\"You ordered a \" + pizza['crust']+\"-crust pizza \" +\n",
    "      \"with the following topping:\")\n",
    "for topping in pizza['toppings']:\n",
    "    print('\\t'+topping)"
   ]
  },
  {
   "cell_type": "markdown",
   "metadata": {},
   "source": [
    "+ Example of 3. for loop of a list in dictionary"
   ]
  },
  {
   "cell_type": "code",
   "execution_count": 26,
   "metadata": {},
   "outputs": [
    {
     "name": "stdout",
     "output_type": "stream",
     "text": [
      "\n",
      "Jen's favorite languages are:\n",
      "\tPython\n",
      "\tRuby\n",
      "\n",
      "Sarah's favorite languages are:\n",
      "\tC\n",
      "\n",
      "Edward's favorite languages are:\n",
      "\tRuby\n",
      "\tGo\n",
      "\n",
      "Phil's favorite languages are:\n",
      "\tPython\n",
      "\tHaskell\n"
     ]
    }
   ],
   "source": [
    "# favorite language\n",
    "favorite_languages = {\n",
    "\n",
    "    'jen': ['python', 'ruby'],\n",
    "    'sarah': ['c'],\n",
    "    'edward': ['ruby', 'go'],\n",
    "    'phil': ['python', 'haskell'],\n",
    "}\n",
    "\n",
    "# for loop\n",
    "for name, languages in favorite_languages.items():\n",
    "    print(\"\\n\"+name.title()+\"'s favorite languages are:\")\n",
    "    for language in languages:\n",
    "        print(\"\\t\"+language.title())"
   ]
  },
  {
   "cell_type": "markdown",
   "metadata": {},
   "source": [
    "+ Example of 4, save dictionary in a dictionary"
   ]
  },
  {
   "cell_type": "code",
   "execution_count": 27,
   "metadata": {},
   "outputs": [
    {
     "name": "stdout",
     "output_type": "stream",
     "text": [
      "\n",
      "Username: aeintein\n",
      "\tFull name: Albert Einstein\n",
      "\tlocation: Princeton\n",
      "\n",
      "Username: mcurie\n",
      "\tFull name: Marie Curie\n",
      "\tlocation: Paris\n"
     ]
    }
   ],
   "source": [
    "users = {\n",
    "\n",
    "    'aeintein': {\n",
    "        'first': 'albert',\n",
    "        'last': 'einstein',\n",
    "        'location': 'princeton',\n",
    "    },\n",
    "    'mcurie': {\n",
    "        'first': 'marie',\n",
    "        'last': 'curie',\n",
    "        'location': 'paris',\n",
    "    },\n",
    "}\n",
    "\n",
    "for username, user_info in users.items():\n",
    "    print(\"\\nUsername: \" + username)\n",
    "    full_name = user_info['first'] + ' '+user_info['last']\n",
    "    location = user_info['location']\n",
    "\n",
    "    print('\\tFull name: '+full_name.title())\n",
    "    print('\\tlocation: '+location.title())"
   ]
  },
  {
   "cell_type": "markdown",
   "metadata": {},
   "source": [
    "# § 7 input and while"
   ]
  },
  {
   "cell_type": "markdown",
   "metadata": {},
   "source": [
    "### input(): pause program and wait user to input."
   ]
  },
  {
   "cell_type": "code",
   "execution_count": 29,
   "metadata": {},
   "outputs": [
    {
     "name": "stdout",
     "output_type": "stream",
     "text": [
      "please enter a piece of message: asd\n",
      "asd\n"
     ]
    }
   ],
   "source": [
    "message = input(\"please enter a piece of message: \")\n",
    "print(message)"
   ]
  },
  {
   "cell_type": "markdown",
   "metadata": {},
   "source": [
    "### greedy example"
   ]
  },
  {
   "cell_type": "code",
   "execution_count": 30,
   "metadata": {},
   "outputs": [
    {
     "name": "stdout",
     "output_type": "stream",
     "text": [
      "Please enter your name: fewa\n",
      "Hello, fewa.\n",
      "If you tell us who you are, we can personalize the messages you see.\n",
      "what is your first name?few\n",
      "Hello, few!\n"
     ]
    }
   ],
   "source": [
    "# greeter.py\n",
    "name = input('Please enter your name: ')\n",
    "print('Hello, ' + name + '.')\n",
    "\n",
    "prompt = 'If you tell us who you are,\\\n",
    " we can personalize the messages you see.'\n",
    "prompt += '\\nwhat is your first name?'\n",
    "\n",
    "name = input(prompt)\n",
    "print('Hello, ' + name + '!')"
   ]
  },
  {
   "cell_type": "markdown",
   "metadata": {},
   "source": [
    "### input a number"
   ]
  },
  {
   "cell_type": "code",
   "execution_count": 31,
   "metadata": {},
   "outputs": [
    {
     "name": "stdout",
     "output_type": "stream",
     "text": [
      "How old are you? 12\n"
     ]
    },
    {
     "data": {
      "text/plain": [
       "False"
      ]
     },
     "execution_count": 31,
     "metadata": {},
     "output_type": "execute_result"
    }
   ],
   "source": [
    "# example 2, input a number\n",
    "age = input('How old are you? ')  # input always be a string\n",
    "age\n",
    "# if wanna use it as a number:\n",
    "age = int(age)\n",
    "age >= 18"
   ]
  },
  {
   "cell_type": "markdown",
   "metadata": {},
   "source": [
    "### even / odd using mod(%)"
   ]
  },
  {
   "cell_type": "code",
   "execution_count": 32,
   "metadata": {},
   "outputs": [
    {
     "name": "stdout",
     "output_type": "stream",
     "text": [
      "Enter a number 12\n",
      "12, this is an even number\n"
     ]
    }
   ],
   "source": [
    "4 % 3, 5 % 3, 6 % 3\n",
    "\n",
    "number = input('Enter a number ')\n",
    "number = int(number)\n",
    "\n",
    "if number % 2 == 0:\n",
    "    print(str(number)+', this is an even number')\n",
    "else:\n",
    "    print(str(number)+', this is an odd number')"
   ]
  },
  {
   "cell_type": "markdown",
   "metadata": {},
   "source": [
    "### while loop, quit at a moment"
   ]
  },
  {
   "cell_type": "code",
   "execution_count": 33,
   "metadata": {},
   "outputs": [
    {
     "name": "stdout",
     "output_type": "stream",
     "text": [
      "1\n",
      "2\n",
      "3\n",
      "4\n",
      "5\n",
      "\n",
      "Tell me something, and I will repeat it back\n",
      "Enter 'quit' to end the program. q\n",
      "q\n",
      "\n",
      "Tell me something, and I will repeat it back\n",
      "Enter 'quit' to end the program. q\n",
      "q\n",
      "\n",
      "Tell me something, and I will repeat it back\n",
      "Enter 'quit' to end the program. quit\n"
     ]
    }
   ],
   "source": [
    "current_number = 1\n",
    "while current_number <= 5:\n",
    "    print(current_number)\n",
    "    current_number += 1\n",
    "\n",
    "prompt1 = '\\nTell me something, and I will repeat it back'\n",
    "prompt1 += \"\\nEnter 'quit' to end the program. \"\n",
    "message = \"\"\n",
    "while message != 'quit':\n",
    "    message = input(prompt1)\n",
    "    if message != 'quit':\n",
    "        print(message)"
   ]
  },
  {
   "cell_type": "code",
   "execution_count": 34,
   "metadata": {},
   "outputs": [
    {
     "name": "stdout",
     "output_type": "stream",
     "text": [
      "\n",
      "Tell me something, and I will repeat it back\n",
      "Enter 'quit' to end the program. quit\n"
     ]
    }
   ],
   "source": [
    "# or we can add a value 'active' to define the program\n",
    "# should run or stop\n",
    "prompt2 = '\\nTell me something, and I will repeat it back'\n",
    "prompt2 += \"\\nEnter 'quit' to end the program. \"\n",
    "active = True\n",
    "while active:\n",
    "    message = input(prompt2)\n",
    "\n",
    "    if message == 'quit':\n",
    "        active = False\n",
    "    else:\n",
    "        print(message)"
   ]
  },
  {
   "cell_type": "markdown",
   "metadata": {},
   "source": [
    "### break"
   ]
  },
  {
   "cell_type": "code",
   "execution_count": 35,
   "metadata": {},
   "outputs": [
    {
     "name": "stdout",
     "output_type": "stream",
     "text": [
      "please list the cities you visited\n",
      "Enter (quit) when you finish.quit\n"
     ]
    }
   ],
   "source": [
    "prompt3 = \"please list the cities you visited\"\n",
    "prompt3 += '\\nEnter (quit) when you finish.'\n",
    "\n",
    "while True:\n",
    "    city = input(prompt3)\n",
    "\n",
    "    if city == 'quit':\n",
    "        break\n",
    "    else:\n",
    "        print('I went to visit ' + city.title()+'.')"
   ]
  },
  {
   "cell_type": "markdown",
   "metadata": {},
   "source": [
    "### continue, void unlimited loop(must have an end)"
   ]
  },
  {
   "cell_type": "code",
   "execution_count": 36,
   "metadata": {},
   "outputs": [
    {
     "name": "stdout",
     "output_type": "stream",
     "text": [
      "1\n",
      "3\n",
      "5\n",
      "7\n",
      "9\n"
     ]
    }
   ],
   "source": [
    "current_number = 0\n",
    "while current_number < 10:\n",
    "    current_number += 1\n",
    "    if current_number % 2 == 0:\n",
    "        continue          # SKIP FOLLOWING STEPS ANF GO BACK TO\\\n",
    "        # THE STARTING OF THE LOOP\n",
    "    print(current_number)"
   ]
  },
  {
   "cell_type": "markdown",
   "metadata": {},
   "source": [
    "### moving item in lists"
   ]
  },
  {
   "cell_type": "code",
   "execution_count": 37,
   "metadata": {},
   "outputs": [
    {
     "name": "stdout",
     "output_type": "stream",
     "text": [
      "Verifying user: Candace\n",
      "Verifying user: Brian\n",
      "Verifying user: Alice\n",
      "\n",
      "The following users are comfired: \n",
      "candace\n",
      "brian\n",
      "alice\n"
     ]
    }
   ],
   "source": [
    "# create a unconfirmed user list\n",
    "unconfirmed_user = ['alice', 'brian', 'candace']\n",
    "confirmed_users = []\n",
    "\n",
    "# check all user, until find a unconfirmed one\n",
    "# move confirmed user to confirmed user list\n",
    "while unconfirmed_user:\n",
    "    current_user = unconfirmed_user.pop()\n",
    "    print(\"Verifying user: \" + current_user.title())\n",
    "    confirmed_users.append(current_user)\n",
    "\n",
    "# show comfired_user\n",
    "print(\"\\nThe following users are comfired: \")\n",
    "for confirmed_user in confirmed_users:\n",
    "    print(confirmed_user)"
   ]
  },
  {
   "cell_type": "markdown",
   "metadata": {},
   "source": [
    "### remove item from list"
   ]
  },
  {
   "cell_type": "code",
   "execution_count": 38,
   "metadata": {},
   "outputs": [
    {
     "name": "stdout",
     "output_type": "stream",
     "text": [
      "['dog', 'cat', 'goldfish', 'cat', 'rabbit', 'cat']\n",
      "['dog', 'goldfish', 'rabbit']\n"
     ]
    }
   ],
   "source": [
    "pets = ['dog', 'cat', 'goldfish', 'cat', 'rabbit', 'cat']\n",
    "print(pets)\n",
    "while 'cat' in pets:\n",
    "    pets.remove('cat')\n",
    "print(pets)"
   ]
  },
  {
   "cell_type": "markdown",
   "metadata": {},
   "source": [
    "### while for input into a dictionary"
   ]
  },
  {
   "cell_type": "code",
   "execution_count": 39,
   "metadata": {},
   "outputs": [
    {
     "name": "stdout",
     "output_type": "stream",
     "text": [
      "\n",
      "What is your name? \n",
      "which mountain would you like to climb? a\n",
      "would you like to let another personrespond? (y/n)n\n",
      "\n",
      "---- Poll Result ----\n",
      " would like to climba.\n"
     ]
    }
   ],
   "source": [
    "responses = {}\n",
    "\n",
    "# make the active to be true\n",
    "polling_active = True\n",
    "while polling_active:\n",
    "    name = input('\\nWhat is your name? ')\n",
    "    response = input('which mountain would you \\\n",
    "like to climb? ')\n",
    "\n",
    "# save input into dictionary\n",
    "    responses[name] = response\n",
    "\n",
    "# looking for other people\n",
    "    repeat = input('would you like to let another person\\\n",
    "respond? (y/n)')\n",
    "    if repeat == 'n':\n",
    "        polling_active = False\n",
    "\n",
    "\n",
    "# print output\n",
    "print('\\n---- Poll Result ----')\n",
    "for name, response in responses.items():\n",
    "    print(name + ' would like to climb'+response + '.')"
   ]
  },
  {
   "cell_type": "markdown",
   "metadata": {},
   "source": [
    "# § 8 function"
   ]
  },
  {
   "cell_type": "markdown",
   "metadata": {},
   "source": [
    "### define a function: def"
   ]
  },
  {
   "cell_type": "code",
   "execution_count": 40,
   "metadata": {},
   "outputs": [
    {
     "name": "stdout",
     "output_type": "stream",
     "text": [
      "hello\n"
     ]
    }
   ],
   "source": [
    "def greet_user():\n",
    "    print('hello')\n",
    "\n",
    "\n",
    "greet_user()"
   ]
  },
  {
   "cell_type": "markdown",
   "metadata": {},
   "source": [
    "### pass info to a function"
   ]
  },
  {
   "cell_type": "code",
   "execution_count": 41,
   "metadata": {},
   "outputs": [
    {
     "name": "stdout",
     "output_type": "stream",
     "text": [
      "hello, Javis.\n"
     ]
    }
   ],
   "source": [
    "def greet_user(username):  # username 形参 paramenter\n",
    "    print('hello, ' + username.title()+'.')\n",
    "\n",
    "\n",
    "greet_user('Javis')  # Javis 实参 argument"
   ]
  },
  {
   "cell_type": "markdown",
   "metadata": {},
   "source": [
    "### location argument 位置实参"
   ]
  },
  {
   "cell_type": "code",
   "execution_count": 42,
   "metadata": {},
   "outputs": [
    {
     "name": "stdout",
     "output_type": "stream",
     "text": [
      "\n",
      "I have a hamster.\n",
      "My hamster's name is Harry.\n",
      "\n",
      "I have a dog.\n",
      "My dog's name is Whille.\n"
     ]
    }
   ],
   "source": [
    "def describe_pet(animal_type, pet_name):\n",
    "\n",
    "    print('\\nI have a '+animal_type+'.')\n",
    "    print('My ' + animal_type+\"'s name is \"+pet_name.title()+'.')\n",
    "\n",
    "\n",
    "describe_pet('hamster', 'harry')\n",
    "describe_pet('dog', 'whille')"
   ]
  },
  {
   "cell_type": "markdown",
   "metadata": {},
   "source": [
    "### keyword argument"
   ]
  },
  {
   "cell_type": "code",
   "execution_count": 43,
   "metadata": {},
   "outputs": [
    {
     "name": "stdout",
     "output_type": "stream",
     "text": [
      "\n",
      "I have a hamster.\n",
      "My hamster's name is Harry.\n"
     ]
    }
   ],
   "source": [
    "def describe_pet(animal_type, pet_name):\n",
    "\n",
    "    print(\"\\nI have a \" + animal_type + \".\")\n",
    "    print(\"My \" + animal_type + \"'s name is \" + pet_name.title() + \".\")\n",
    "\n",
    "\n",
    "describe_pet(animal_type='hamster', pet_name='harry')"
   ]
  },
  {
   "cell_type": "markdown",
   "metadata": {},
   "source": [
    "### default, defualt arguments must order by end"
   ]
  },
  {
   "cell_type": "code",
   "execution_count": 44,
   "metadata": {},
   "outputs": [
    {
     "name": "stdout",
     "output_type": "stream",
     "text": [
      "\n",
      "I have a dog.\n",
      "My dog's name is Harry.\n"
     ]
    }
   ],
   "source": [
    "def describe_pet(pet_name, animal_type='dog'):\n",
    "\n",
    "    print(\"\\nI have a \" + animal_type + \".\")\n",
    "    print(\"My \" + animal_type + \"'s name is \" + pet_name.title() + \".\")\n",
    "\n",
    "\n",
    "describe_pet(pet_name='harry')"
   ]
  },
  {
   "cell_type": "code",
   "execution_count": 45,
   "metadata": {},
   "outputs": [
    {
     "name": "stdout",
     "output_type": "stream",
     "text": [
      "\n",
      "I have a dog.\n",
      "My dog's name is Willie.\n",
      "\n",
      "I have a dog.\n",
      "My dog's name is Willie.\n",
      "\n",
      "I have a hamster.\n",
      "My hamster's name is Harry.\n",
      "\n",
      "I have a hamster.\n",
      "My hamster's name is Harry.\n",
      "\n",
      "I have a hamster.\n",
      "My hamster's name is Harry.\n"
     ]
    }
   ],
   "source": [
    "# all types could call function\n",
    "# a dog named willie\n",
    "describe_pet('willie')\n",
    "describe_pet(pet_name='willie')\n",
    "\n",
    "# a hamster named harry\n",
    "describe_pet('harry', 'hamster')\n",
    "describe_pet(pet_name='harry', animal_type='hamster')\n",
    "describe_pet(animal_type='hamster', pet_name='harry')"
   ]
  },
  {
   "cell_type": "markdown",
   "metadata": {},
   "source": [
    "### void argument errors"
   ]
  },
  {
   "cell_type": "code",
   "execution_count": 44,
   "metadata": {},
   "outputs": [],
   "source": [
    "def describe_pet(animal_type, pet_name):\n",
    "\n",
    "    print(\"\\nI have a \" + animal_type + \".\")\n",
    "    print(\"My \" + animal_type + \"'s name is \" + pet_name.title() + \".\")\n",
    "# describe_pet() # this is typeerror"
   ]
  },
  {
   "cell_type": "markdown",
   "metadata": {},
   "source": [
    "### return value"
   ]
  },
  {
   "cell_type": "code",
   "execution_count": 45,
   "metadata": {},
   "outputs": [
    {
     "name": "stdout",
     "output_type": "stream",
     "text": [
      "Jimi Hendrix\n"
     ]
    }
   ],
   "source": [
    "def get_formatted_name(first_name, last_name):\n",
    "    full_name = first_name + ' ' + last_name\n",
    "    return full_name.title()\n",
    "\n",
    "\n",
    "musician = get_formatted_name('jimi', 'hendrix')\n",
    "print(musician)"
   ]
  },
  {
   "cell_type": "code",
   "execution_count": 46,
   "metadata": {},
   "outputs": [
    {
     "name": "stdout",
     "output_type": "stream",
     "text": [
      "Jimi Hendrix\n",
      "Jimi Drix Ads\n"
     ]
    }
   ],
   "source": [
    "# if some have middle name\n",
    "def get_formatted_name(first_name, last_name, middle_name=''):\n",
    "    if middle_name:\n",
    "        full_name = first_name + ' ' + middle_name+' ' + last_name\n",
    "    else:\n",
    "        full_name = first_name + ' ' + last_name\n",
    "    return full_name.title()\n",
    "\n",
    "\n",
    "musician = get_formatted_name('jimi', 'hendrix')\n",
    "print(musician)\n",
    "musician = get_formatted_name('jimi', 'ads', 'drix')\n",
    "print(musician)"
   ]
  },
  {
   "cell_type": "markdown",
   "metadata": {},
   "source": [
    "### return dictionary"
   ]
  },
  {
   "cell_type": "code",
   "execution_count": 47,
   "metadata": {},
   "outputs": [
    {
     "name": "stdout",
     "output_type": "stream",
     "text": [
      "{'first': 'jimi', 'last': 'hendrix'}\n",
      "{'first': 'jimi', 'last': 'hendrix', 'age': 27}\n"
     ]
    }
   ],
   "source": [
    "def build_person(first_name, last_name):\n",
    "    person = {\n",
    "        'first': first_name,\n",
    "        'last': last_name\n",
    "    }\n",
    "    return person\n",
    "\n",
    "\n",
    "musician = build_person('jimi', 'hendrix')\n",
    "print(musician)\n",
    "\n",
    "# also can add other info such as age\n",
    "\n",
    "\n",
    "def build_person2(first_name, last_name, age=''):\n",
    "    person = {\n",
    "        'first': first_name,\n",
    "        'last': last_name\n",
    "    }\n",
    "    if age:\n",
    "        person['age'] = age\n",
    "    return person\n",
    "\n",
    "\n",
    "musician = build_person2('jimi', 'hendrix', age=27)\n",
    "print(musician)"
   ]
  },
  {
   "cell_type": "markdown",
   "metadata": {},
   "source": [
    "### combine while and function"
   ]
  },
  {
   "cell_type": "code",
   "execution_count": 12,
   "metadata": {},
   "outputs": [
    {
     "name": "stdout",
     "output_type": "stream",
     "text": [
      "\n",
      "Please tell me your name: \n",
      "(enter\"q\" at any time to quit)\n",
      "First name: ad\n",
      "Last name: sadsf\n",
      "Hello, Ad Sadsf\n",
      "\n",
      "Please tell me your name: \n",
      "(enter\"q\" at any time to quit)\n",
      "First name: q\n"
     ]
    }
   ],
   "source": [
    "def get_formatted_name(first_name, last_name):\n",
    "    full_name = first_name + ' '+last_name\n",
    "    return full_name.title()\n",
    "while True:\n",
    "    print('\\nPlease tell me your name: ')\n",
    "    print('(enter\"q\" at any time to quit)')\n",
    "    \n",
    "    f_name = input('First name: ')\n",
    "    if f_name =='q':\n",
    "        break\n",
    "    l_name = input('Last name: ')\n",
    "    if l_name =='q':\n",
    "        break\n",
    "    formatted_name = get_formatted_name(f_name,l_name)\n",
    "    print('Hello, '+formatted_name)"
   ]
  },
  {
   "cell_type": "markdown",
   "metadata": {},
   "source": [
    "### past list"
   ]
  },
  {
   "cell_type": "code",
   "execution_count": 13,
   "metadata": {},
   "outputs": [
    {
     "name": "stdout",
     "output_type": "stream",
     "text": [
      "Hello, Hannah!\n",
      "Hello, Ty!\n",
      "Hello, Margot!\n"
     ]
    }
   ],
   "source": [
    "def greet_users(names): \n",
    "    \n",
    "    for name in names:\n",
    "        msg = \"Hello, \" + name.title() + \"!\" \n",
    "        print(msg)\n",
    "usernames = ['hannah', 'ty', 'margot'] \n",
    "greet_users(usernames)"
   ]
  },
  {
   "cell_type": "markdown",
   "metadata": {},
   "source": [
    "### change list in function"
   ]
  },
  {
   "cell_type": "code",
   "execution_count": 19,
   "metadata": {},
   "outputs": [
    {
     "name": "stdout",
     "output_type": "stream",
     "text": [
      "Printing model: dode\n",
      "Printing model: robot\n",
      "Printing model: iPhone case\n",
      "\n",
      "The following models have been printed: \n",
      "dode\n",
      "robot\n",
      "iPhone case\n"
     ]
    }
   ],
   "source": [
    "unprinted_designs = ['iPhone case','robot','dode']\n",
    "completed_models = []\n",
    "\n",
    "while unprinted_designs:\n",
    "    current_design = unprinted_designs.pop()\n",
    "    print('Printing model: '+current_design)\n",
    "    completed_models.append(current_design)\n",
    "    \n",
    "print('\\nThe following models have been printed: ')\n",
    "for completed_model in completed_models:\n",
    "    print(completed_model)"
   ]
  },
  {
   "cell_type": "code",
   "execution_count": 21,
   "metadata": {},
   "outputs": [
    {
     "name": "stdout",
     "output_type": "stream",
     "text": [
      "Printing model: dode\n",
      "Printing model: robot\n",
      "Printing model: iphone case\n",
      "\n",
      "The following models have been printed: \n",
      "dode\n",
      "robot\n",
      "iphone case\n"
     ]
    }
   ],
   "source": [
    "## in another way\n",
    "def print_models(unprinted_designs,completed_models):\n",
    "    while unprinted_designs:\n",
    "        current_design = unprinted_designs.pop()\n",
    "        print('Printing model: '+ current_design)\n",
    "        completed_models.append(current_design)\n",
    "def show_completed_models(completed_models):\n",
    "    print('\\nThe following models have been printed: ')\n",
    "    for completed_model in completed_models:\n",
    "        print(completed_model)\n",
    "unprinted_designs = ['iphone case','robot','dode']\n",
    "completed_models = []\n",
    "print_models(unprinted_designs,completed_models)\n",
    "show_completed_models(completed_models)\n",
    "## if don't want fuction change list\n",
    "##function_name(list_name[:])\n",
    "print_models(unprinted_designs[:],completed_models)"
   ]
  },
  {
   "cell_type": "markdown",
   "metadata": {},
   "source": [
    "### past arguments"
   ]
  },
  {
   "cell_type": "code",
   "execution_count": 40,
   "metadata": {},
   "outputs": [
    {
     "name": "stdout",
     "output_type": "stream",
     "text": [
      "('pepperoni',)\n",
      "- pepperoni\n",
      "('mushroom', 'pepperoni', 'sausage')\n",
      "- mushroom\n",
      "- pepperoni\n",
      "- sausage\n"
     ]
    }
   ],
   "source": [
    "def make_pizza(*toppings):\n",
    "    print(toppings)\n",
    "    \n",
    "    ## for loop to print\n",
    "    for topping in toppings:\n",
    "        print('- '+topping)\n",
    "make_pizza('pepperoni')\n",
    "make_pizza('mushroom', 'pepperoni','sausage')"
   ]
  },
  {
   "cell_type": "markdown",
   "metadata": {},
   "source": [
    "### location arguments and any numbers of arguments"
   ]
  },
  {
   "cell_type": "code",
   "execution_count": 2,
   "metadata": {},
   "outputs": [
    {
     "name": "stdout",
     "output_type": "stream",
     "text": [
      "\n",
      "Making a 16-inch pizza with following toppings: \n",
      "- pepperoni\n",
      "\n",
      "Making a 12-inch pizza with following toppings: \n",
      "- mushroom\n",
      "- green peppers\n"
     ]
    }
   ],
   "source": [
    "def make_pizza(size, *toppings):\n",
    "    \n",
    "    print ('\\nMaking a '+str(size) + '-inch pizza with following toppings: ')\n",
    "    for topping in toppings:\n",
    "        print('- '+topping)\n",
    "make_pizza(16,'pepperoni')\n",
    "make_pizza(12,'mushroom','green peppers')"
   ]
  },
  {
   "cell_type": "markdown",
   "metadata": {},
   "source": [
    "### build keyword arguments"
   ]
  },
  {
   "cell_type": "code",
   "execution_count": 3,
   "metadata": {},
   "outputs": [
    {
     "name": "stdout",
     "output_type": "stream",
     "text": [
      "{'first_name': 'albert', 'last_name': 'einstein', 'location': 'princeton', 'field': 'physics'}\n"
     ]
    }
   ],
   "source": [
    "def build_progile (first,last,**user_info):\n",
    "    \n",
    "    profile = {\n",
    "    }\n",
    "    profile['first_name']=first\n",
    "    profile['last_name']=last\n",
    "    for key,value in user_info.items():\n",
    "        profile[key]=value\n",
    "    return profile\n",
    "user_profile = build_progile('albert','einstein',location \\\n",
    "= 'princeton',field = 'physics')\n",
    "\n",
    "print(user_profile)"
   ]
  },
  {
   "cell_type": "markdown",
   "metadata": {},
   "source": [
    "### save function into module, and how to use them"
   ]
  },
  {
   "cell_type": "code",
   "execution_count": null,
   "metadata": {},
   "outputs": [],
   "source": [
    "## pizza.py\n",
    "def make_pizza(size, *toppings):\n",
    "    print(\"\\nMaking a \" + str(size) +\"-inch pizza with the following toppings:\") \n",
    "    for topping in toppings:\n",
    "        print(\"- \" + topping)\n",
    "        \n",
    "## make_pizza.py\n",
    "\"\"\"\n",
    "import pizza \n",
    "pizza.make_pizza(16, 'pepperoni')\n",
    "\n",
    "pizza.make_pizza(12, 'mushrooms', 'green peppers', 'extra cheese')\n",
    "\n",
    "## module_name.function_name()\n",
    "\"\"\"\n",
    "\n",
    "## import any function from modules\n",
    "\"\"\"\n",
    "## from module_name import function_name\n",
    "## from module_name import function_0, function_1, function_2\n",
    "\"\"\"\n",
    "\n",
    "## rename functions with 'as'\n",
    "\"\"\"\n",
    "from pizza import make_pizza as mp\n",
    "\n",
    "mp(16,'pepperoni')\n",
    "mp(12,'mushroom','green pepper','pepperoni')\n",
    "\n",
    "## from module_name import function_name as fn\n",
    "\"\"\"\n",
    "\n",
    "## rename modules with 'as'\n",
    "\"\"\"\n",
    "## import module_name as mn\n",
    "\"\"\"\n",
    "\n",
    "## import all functions from module (*)\n",
    "\"\"\"\n",
    "## from module_name import *\n",
    "\"\"\""
   ]
  },
  {
   "cell_type": "markdown",
   "metadata": {},
   "source": [
    "### edition of a function"
   ]
  },
  {
   "cell_type": "code",
   "execution_count": null,
   "metadata": {},
   "outputs": [],
   "source": [
    "## no space beside '=' for parameters\n",
    "\"\"\"\n",
    "## def function_name(parameter_0,parameter_1='default value')\n",
    "\"\"\"\n",
    "\n",
    "## if the parameter are too long, make a new line and 'tab' twice\n",
    "\"\"\"\n",
    "def function_name(\n",
    "        paremeter_0, parameter_1, parameter_2,\n",
    "        parameter_3, parameter_4, parameter_5):\n",
    "    function body...\n",
    "\"\"\""
   ]
  },
  {
   "cell_type": "markdown",
   "metadata": {},
   "source": [
    "# § 9 Class"
   ]
  },
  {
   "cell_type": "markdown",
   "metadata": {},
   "source": [
    "### create a 'Dog' class"
   ]
  },
  {
   "cell_type": "code",
   "execution_count": 39,
   "metadata": {},
   "outputs": [],
   "source": [
    "class Dog():\n",
    "    # example\n",
    "    def __init__(self,name,age):\n",
    "        self.name = name\n",
    "        self.age = age\n",
    "    def sit(self):\n",
    "        print(self.name.title()+' is now sitting.')\n",
    "    def roll_over(self):\n",
    "        print(self.name.title()+' rolled over!')\n"
   ]
  },
  {
   "cell_type": "markdown",
   "metadata": {},
   "source": [
    "### create and use arguments follows by class"
   ]
  },
  {
   "cell_type": "code",
   "execution_count": 48,
   "metadata": {},
   "outputs": [
    {
     "name": "stdout",
     "output_type": "stream",
     "text": [
      "my dog's name is Abc.\n",
      "my dog is 1 years old.\n",
      "Abc is now sitting.\n",
      "Abc rolled over!\n",
      "Abc is younger than Quin\n"
     ]
    }
   ],
   "source": [
    "# create\n",
    "my_dog = Dog('abc',1)\n",
    "print(\"my dog's name is \"+ my_dog.name.title()+'.')\n",
    "print('my dog is '+str(my_dog.age)+' years old.')\n",
    "\n",
    "#use\n",
    "my_dog.sit()\n",
    "my_dog.roll_over()\n",
    "\n",
    "# also can create other dogs\n",
    "your_dog = Dog('quin',4)\n",
    "if(my_dog.age > your_dog.age):\n",
    "    print(my_dog.name.title() +' is older than '+\\\n",
    "your_dog.name.title())\n",
    "elif(my_dog.age == your_dog.age):\n",
    "    print(my_dog.name.title() +' is same age as '+\\\n",
    "your_dog.name.title())\n",
    "else:\n",
    "    print(my_dog.name.title() +' is younger than '+\\\n",
    "your_dog.name.title())"
   ]
  },
  {
   "cell_type": "markdown",
   "metadata": {},
   "source": [
    "### Car class"
   ]
  },
  {
   "cell_type": "code",
   "execution_count": 52,
   "metadata": {},
   "outputs": [
    {
     "name": "stdout",
     "output_type": "stream",
     "text": [
      "2016 Audi A4\n"
     ]
    }
   ],
   "source": [
    "class Car():\n",
    "    def __init__(self, make, model, year):\n",
    "        self.make = make\n",
    "        self.model = model\n",
    "        self.year = year\n",
    "        \n",
    "    def get_descriptive_name(self):\n",
    "        long_name = str(self.year) + ' '+ self.make + ' '+self.model\n",
    "        return long_name.title()\n",
    "\n",
    "my_new_car = Car('audi','a4',2016)\n",
    "print(my_new_car.get_descriptive_name())"
   ]
  },
  {
   "cell_type": "markdown",
   "metadata": {},
   "source": [
    "### add default value in __init__"
   ]
  },
  {
   "cell_type": "code",
   "execution_count": 76,
   "metadata": {},
   "outputs": [
    {
     "name": "stdout",
     "output_type": "stream",
     "text": [
      "2016 Audi A4\n",
      "this car has 23 miles on it.\n",
      "this car has 24 miles on it.\n",
      "this car has 124 miles on it.\n"
     ]
    }
   ],
   "source": [
    "class Car():\n",
    "    def __init__(self, make, model, year):\n",
    "        self.make = make\n",
    "        self.model = model\n",
    "        self.year = year\n",
    "        self.odometer_reading = 0\n",
    "        \n",
    "    def get_descriptive_name(self):\n",
    "        long_name = str(self.year) + ' '+ self.make + ' '+self.model\n",
    "        return long_name.title()\n",
    "\n",
    "    def read_odometer(self):\n",
    "        print('this car has '+ str(self.odometer_reading)+\\\n",
    "' miles on it.')\n",
    "        \n",
    "    ## add a new def\n",
    "    def update_odometer(self,mileage):\n",
    "        # self.odometer_reading = mileage\n",
    "        if mileage >= self.odometer_reading:\n",
    "            self.odometer_reading = mileage\n",
    "        else:\n",
    "            print(\"you can't roll back an odometer!\")\n",
    "            \n",
    "    def increment_odometer(self,miles):\n",
    "        self.odometer_reading += miles\n",
    "        \n",
    "        \n",
    "my_new_car = Car('audi','a4',2016)\n",
    "print(my_new_car.get_descriptive_name())\n",
    "my_new_car.odometer_reading = 23\n",
    "my_new_car.read_odometer()\n",
    "\n",
    "my_new_car.update_odometer(24)\n",
    "my_new_car.read_odometer()\n",
    "\n",
    "my_new_car.increment_odometer(100)\n",
    "my_new_car.read_odometer()"
   ]
  },
  {
   "cell_type": "markdown",
   "metadata": {},
   "source": [
    "### inherit (继承)： subclass"
   ]
  },
  {
   "cell_type": "code",
   "execution_count": 82,
   "metadata": {},
   "outputs": [
    {
     "name": "stdout",
     "output_type": "stream",
     "text": [
      "2016 Tesla Model S\n",
      "This car has a 70-kwh battery.\n"
     ]
    }
   ],
   "source": [
    "class ElectricCar(Car):\n",
    "    def __init__(self, make, model, year):\n",
    "        ## inital parent class paramenters\n",
    "        super().__init__(make, model, year)\n",
    "        self.battery_size =70\n",
    "    ## add another function in subclass\n",
    "    def describe_battery(self):\n",
    "        print('This car has a '+str(self.battery_size)+\\\n",
    "'-kwh battery.')\n",
    "    ## can rewite the function in parent class\n",
    "        \n",
    "my_tesla = ElectricCar('tesla','model s',2016)\n",
    "print(my_tesla.get_descriptive_name())\n",
    "my_tesla.describe_battery()"
   ]
  },
  {
   "cell_type": "markdown",
   "metadata": {},
   "source": [
    "### import class"
   ]
  },
  {
   "cell_type": "code",
   "execution_count": 88,
   "metadata": {},
   "outputs": [
    {
     "data": {
      "text/plain": [
       "'\\nimport car\\n'"
      ]
     },
     "execution_count": 88,
     "metadata": {},
     "output_type": "execute_result"
    }
   ],
   "source": [
    "\"\"\"\n",
    "## car.py\n",
    "\n",
    "class Car():\n",
    "    def __init__(self, make, model, year):\n",
    "        self.make = make\n",
    "        self.model = model\n",
    "        self.year = year\n",
    "        self.odometer_reading = 0\n",
    "        \n",
    "    def get_descriptive_name(self):\n",
    "        long_name = str(self.year) + ' '+ self.make + ' '+self.model\n",
    "        return long_name.title()\n",
    "\n",
    "    def read_odometer(self):\n",
    "        print('this car has '+ str(self.odometer_reading)+\\\n",
    "' miles on it.')\n",
    "        \n",
    "    ## add a new def\n",
    "    def update_odometer(self,mileage):\n",
    "        # self.odometer_reading = mileage\n",
    "        if mileage >= self.odometer_reading:\n",
    "            self.odometer_reading = mileage\n",
    "        else:\n",
    "            print(\"you can't roll back an odometer!\")\n",
    "            \n",
    "    def increment_odometer(self,miles):\n",
    "        self.odometer_reading += miles\n",
    "## also can add subclasses into this module\n",
    "class ElectricCar(Car):\n",
    "    ...\n",
    "\"\"\"\n",
    "## import the class\n",
    "\"\"\"\n",
    "from car import Car\n",
    "from car import ElectricCar\n",
    "from car import Car.ElectricCar\n",
    "\"\"\"\n",
    "## import the whole module\n",
    "\"\"\"\n",
    "import car\n",
    "\"\"\"\n",
    "\n",
    "## import all classes from the module\n",
    "\"\"\"\n",
    "from module_name import *\n",
    "\"\"\""
   ]
  },
  {
   "cell_type": "markdown",
   "metadata": {},
   "source": [
    "### python standard library"
   ]
  },
  {
   "cell_type": "markdown",
   "metadata": {},
   "source": [
    "### personal code style"
   ]
  },
  {
   "cell_type": "markdown",
   "metadata": {},
   "source": [
    "# § 10 Files and Errors"
   ]
  },
  {
   "cell_type": "markdown",
   "metadata": {},
   "source": [
    "### read file"
   ]
  },
  {
   "cell_type": "code",
   "execution_count": 18,
   "metadata": {},
   "outputs": [
    {
     "name": "stdout",
     "output_type": "stream",
     "text": [
      "3.141592635\n",
      " 8979323846\n",
      " 2643383279\n"
     ]
    }
   ],
   "source": [
    "\"\"\"\n",
    "with open('text_file/fileName.text')as file_object:\n",
    "OR\n",
    "file_path = '/document/abc/file_name.txt'\n",
    "with open(file_path)as file_object:\n",
    "\"\"\"\n",
    "with open('pi_digits.txt') as file_object: \n",
    "    contents = file_object.read() \n",
    "    print(contents.rstrip())"
   ]
  },
  {
   "cell_type": "markdown",
   "metadata": {},
   "source": [
    "### read file by lines"
   ]
  },
  {
   "cell_type": "code",
   "execution_count": 19,
   "metadata": {},
   "outputs": [
    {
     "name": "stdout",
     "output_type": "stream",
     "text": [
      "3.141592635\n",
      "\n",
      " 8979323846\n",
      "\n",
      " 2643383279\n",
      "\n"
     ]
    }
   ],
   "source": [
    "file_name = 'pi_digits.txt'\n",
    "with open(file_name)as file_object:\n",
    "    for line in file_object: ## hiden '\\n' in each line\n",
    "        print(line)"
   ]
  },
  {
   "cell_type": "markdown",
   "metadata": {},
   "source": [
    "### save file into a argument in 'with'"
   ]
  },
  {
   "cell_type": "code",
   "execution_count": 20,
   "metadata": {},
   "outputs": [
    {
     "name": "stdout",
     "output_type": "stream",
     "text": [
      "3.141592635\n",
      " 8979323846\n",
      " 2643383279\n"
     ]
    }
   ],
   "source": [
    "filename = 'pi_digits.txt'\n",
    "with open(filename) as file:\n",
    "    lines = file.readlines()\n",
    "for line in lines:\n",
    "    print(line.rstrip())"
   ]
  },
  {
   "cell_type": "markdown",
   "metadata": {},
   "source": [
    "### use file info"
   ]
  },
  {
   "cell_type": "code",
   "execution_count": 25,
   "metadata": {},
   "outputs": [
    {
     "name": "stdout",
     "output_type": "stream",
     "text": [
      "3.14159263589793238462643383279\n",
      "31\n"
     ]
    },
    {
     "data": {
      "text/plain": [
       "\"\\nfilename = 'pi_million_digits.txt'\\nwith open(filename) as file:\\n    lines = file.readlines()\\npi_string = ''\\nfor line in lines:\\n    pi_string +=line.strip()\\n    \\nprint(pi_string[:52]+'...')\\nprint(len(pi_string))\\n\\n## output should be:\\n3.14159265358979323846264338327950288419716939937510...\\n1000002\\n\""
      ]
     },
     "execution_count": 25,
     "metadata": {},
     "output_type": "execute_result"
    }
   ],
   "source": [
    "filename = 'pi_digits.txt'\n",
    "\n",
    "with open(filename) as file:\n",
    "    lines = file.readlines()\n",
    "pi_string = ''\n",
    "for line in lines:\n",
    "    pi_string +=line.strip()\n",
    "    \n",
    "print(pi_string)\n",
    "print(len(pi_string))\n",
    "\n",
    "## also work on millions bytes file\n",
    "\"\"\"\n",
    "filename = 'pi_million_digits.txt'\n",
    "with open(filename) as file:\n",
    "    lines = file.readlines()\n",
    "pi_string = ''\n",
    "for line in lines:\n",
    "    pi_string +=line.strip()\n",
    "    \n",
    "print(pi_string[:52]+'...')\n",
    "print(len(pi_string))\n",
    "\n",
    "## output should be:\n",
    "3.14159265358979323846264338327950288419716939937510...\n",
    "1000002\n",
    "\"\"\""
   ]
  },
  {
   "cell_type": "markdown",
   "metadata": {},
   "source": [
    "### write in file"
   ]
  },
  {
   "cell_type": "code",
   "execution_count": 31,
   "metadata": {},
   "outputs": [],
   "source": [
    "## python only can write string, must str(int) first\n",
    "file_name = 'programming.txt'\n",
    "with open(file_name,'w')as file_object:\n",
    "    file_object.write('I love programming.')"
   ]
  },
  {
   "cell_type": "markdown",
   "metadata": {},
   "source": [
    "### write in multiple lines"
   ]
  },
  {
   "cell_type": "code",
   "execution_count": 34,
   "metadata": {},
   "outputs": [],
   "source": [
    "file_name = 'programming.txt'\n",
    "with open(file_name,'w')as file_p:\n",
    "    file_p.write('I love programming.\\n')\n",
    "    file_p.write('I love creating new games.')"
   ]
  },
  {
   "cell_type": "markdown",
   "metadata": {},
   "source": [
    "### add but not cover"
   ]
  },
  {
   "cell_type": "code",
   "execution_count": 40,
   "metadata": {},
   "outputs": [],
   "source": [
    "file_name = 'programming.txt'\n",
    "\n",
    "with open(file_name,'a') as file_p:\n",
    "    file_p.write('I also love finding meaning in large datasets.\\n')"
   ]
  },
  {
   "cell_type": "markdown",
   "metadata": {},
   "source": [
    "### Erros"
   ]
  },
  {
   "cell_type": "markdown",
   "metadata": {},
   "source": [
    "1. ZeroDivsionError:\n",
    "    \n",
    "        print(5/0)\n",
    "  OP:ZeroDivisionError: division by zero\n",
    "  Fix:\n",
    "      \n",
    "        try:\n",
    "            print(5/0)\n",
    "        except ZeroDivisionError:\n",
    "            print('you can't divide by zero!')\n",
    "\n",
    "2. FileNotFoundError:\n",
    "\n",
    "        filename = 'alice.txt'\n",
    "        with open(filename) as f:\n",
    "            contents = f.read()\n",
    "  OP: FileNotFoundError: [Errno 2] No such file or directory: 'alice.txt'\n",
    "  Fix:\n",
    "  \n",
    "        filename = 'alice.txt'\n",
    "        try:\n",
    "            with open(filename) as f_obj: \n",
    "                contents = f_obj.read()\n",
    "        except FileNotFoundError:\n",
    "            msg = \"Sorry, the file \" + filename + \" does not exist.\" \n",
    "            print(msg)\n",
    "  If you want the program keep going on with error:\n",
    "    \n",
    "        try:\n",
    "            'code'\n",
    "        except FileNotFoundError:\n",
    "            pass\n",
    "        else:\n",
    "            'code'"
   ]
  },
  {
   "cell_type": "markdown",
   "metadata": {},
   "source": [
    "### saving data ( * JSON [JavaScript Object Notation])"
   ]
  },
  {
   "cell_type": "markdown",
   "metadata": {},
   "source": [
    "+ json.dump() and json.load()"
   ]
  },
  {
   "cell_type": "code",
   "execution_count": 9,
   "metadata": {},
   "outputs": [],
   "source": [
    "# number_writer.py\n",
    "import json\n",
    "\n",
    "numbers = [2,3,5,7,11,13]\n",
    "filename = 'numbers.json'\n",
    "with open(filename,'w') as f:\n",
    "    json.dump(numbers,f)"
   ]
  },
  {
   "cell_type": "code",
   "execution_count": 10,
   "metadata": {},
   "outputs": [
    {
     "name": "stdout",
     "output_type": "stream",
     "text": [
      "[2, 3, 5, 7, 11, 13]\n"
     ]
    }
   ],
   "source": [
    "# number_reader.py\n",
    "filename = 'numbers.json'\n",
    "with open(filename) as f:\n",
    "    numbers = json.load(f)\n",
    "print(numbers)"
   ]
  },
  {
   "cell_type": "code",
   "execution_count": 3,
   "metadata": {},
   "outputs": [
    {
     "name": "stdout",
     "output_type": "stream",
     "text": [
      "What is your name? jjjjh\n",
      "We'll remember you when you come back, jjjjh!\n"
     ]
    }
   ],
   "source": [
    "# remember_me.py\n",
    "import json\n",
    "\n",
    "username = input('What is your name? ')\n",
    "\n",
    "filename = 'username.json'\n",
    "with open(filename,'w')as f_username:\n",
    "    json.dump(username,f_username)\n",
    "    print(\"We'll remember you when you come back, \"\n",
    "          + username+\"!\")"
   ]
  },
  {
   "cell_type": "code",
   "execution_count": 1,
   "metadata": {},
   "outputs": [
    {
     "name": "stdout",
     "output_type": "stream",
     "text": [
      "Welcome back, jh!\n"
     ]
    }
   ],
   "source": [
    "# greet_user.py\n",
    "import json\n",
    "filename = 'username.json'\n",
    "with open(filename) as f_username1:\n",
    "    username = json.load(f_username1)\n",
    "    print('Welcome back, '+ username + '!')"
   ]
  },
  {
   "cell_type": "code",
   "execution_count": 18,
   "metadata": {},
   "outputs": [
    {
     "name": "stdout",
     "output_type": "stream",
     "text": [
      "welcome back, jh!\n"
     ]
    }
   ],
   "source": [
    "# remember_me.py\n",
    "# combined old remember_me.py and greer_user.py together\n",
    "filename = 'username.json'\n",
    "try:\n",
    "    with open(filename)as f_username:\n",
    "        username = json.load(f_username)\n",
    "except FileNotFoundError:\n",
    "    username = input('What is your name? ')\n",
    "    with open(filename,'w')as f_username:\n",
    "        json.dump(username,f_username)\n",
    "        print(\"We'll remember you when you come back, \"+\n",
    "             username + '!')\n",
    "else:\n",
    "    print(\"welcome back, \"+username + '!')"
   ]
  },
  {
   "cell_type": "markdown",
   "metadata": {},
   "source": [
    "### reconstruction(重构)"
   ]
  },
  {
   "cell_type": "code",
   "execution_count": null,
   "metadata": {},
   "outputs": [],
   "source": [
    "## greet_user()\n",
    "\n",
    "import json\n",
    "\n",
    "def get_stored_username():\n",
    "    filename = 'username.json'\n",
    "    try:\n",
    "        with open(filename) as f_user:\n",
    "            username = json.load(f_user)\n",
    "    except FileNotFoundError:\n",
    "        return None\n",
    "    else:\n",
    "        return username\n",
    "def get_new_username():\n",
    "    username = input('What is your name? ')\n",
    "    filename = 'username.json'\n",
    "    with open(filename,'w') as f_user:\n",
    "        json.dump(username,f_user)\n",
    "    return username\n",
    "    \n",
    "def greet_user():\n",
    "    username = get_stored_username()\n",
    "    if usernam:\n",
    "        print('Welcome back, '+username + '!')\n",
    "    else:\n",
    "        username = get_new_username()\n",
    "        print(\"We'll remember you when you come back,\"\n",
    "            + username + '!')\n",
    "            \n",
    "greet_user()\n"
   ]
  },
  {
   "cell_type": "markdown",
   "metadata": {},
   "source": [
    "# § 11 Test"
   ]
  },
  {
   "cell_type": "markdown",
   "metadata": {},
   "source": [
    "### test function"
   ]
  },
  {
   "cell_type": "code",
   "execution_count": 5,
   "metadata": {},
   "outputs": [],
   "source": [
    "## name_function.py\n",
    "def get_formatted_name(first, last):\n",
    "    full_name = first + ' '+last\n",
    "    return full_name.title()"
   ]
  },
  {
   "cell_type": "code",
   "execution_count": 35,
   "metadata": {},
   "outputs": [
    {
     "name": "stdout",
     "output_type": "stream",
     "text": [
      "Enter 'q' at any time to quit.\n",
      "\n",
      "Please give me a first name: a\n",
      "\n",
      "Please give me a last name: f\n",
      "\tNeatly formatted name: a f.\n",
      "\n",
      "Please give me a first name: q\n"
     ]
    }
   ],
   "source": [
    "## names.py\n",
    "#from name_function import get_formatted_name\n",
    "print (\"Enter 'q' at any time to quit.\")\n",
    "while True:\n",
    "    first = input('\\nPlease give me a first name: ')\n",
    "    if first =='q':\n",
    "        break\n",
    "    last = input('\\nPlease give me a last name: ')\n",
    "    if last == 'q':\n",
    "        break\n",
    "    formatted_name = get_formatted_name(first, last)\n",
    "    print('\\tNeatly formatted name: '+ formatted_name +'.')\n"
   ]
  },
  {
   "cell_type": "code",
   "execution_count": 38,
   "metadata": {},
   "outputs": [
    {
     "name": "stderr",
     "output_type": "stream",
     "text": [
      ".\n",
      "----------------------------------------------------------------------\n",
      "Ran 1 test in 0.001s\n",
      "\n",
      "OK\n"
     ]
    }
   ],
   "source": [
    "## test_name_function.py\n",
    "import unittest\n",
    "#from name_funcrion import get_formatted_name\n",
    "class NamesTestCase(unittest.TestCase):\n",
    "    #test\n",
    "    def test_first_last_name(self):\n",
    "        #example: janis joplin\n",
    "        formatted_name = get_formatted_name('janis','joplin')\n",
    "        self.assertEqual(formatted_name,'Janis Joplin')\n",
    "\"\"\"\n",
    "Jupyter notebook using unittest [special]\n",
    "\"\"\"\n",
    "if __name__ == '__main__':\n",
    "    unittest.main(argv=['first-arg-is-ignored'], exit=False)"
   ]
  },
  {
   "cell_type": "code",
   "execution_count": 26,
   "metadata": {},
   "outputs": [
    {
     "data": {
      "text/plain": [
       "'\\nif we run test_name_function.py now, \\nit will give a TypeError\\n'"
      ]
     },
     "execution_count": 26,
     "metadata": {},
     "output_type": "execute_result"
    }
   ],
   "source": [
    "## failed test example:\n",
    "def get_formatted_name(first,middlle,last):\n",
    "    full_name = first +' '+middle+' '+last\n",
    "    return full_name\n",
    "\"\"\"\n",
    "if we run test_name_function.py now, \n",
    "it will give a TypeError\n",
    "\"\"\" "
   ]
  },
  {
   "cell_type": "markdown",
   "metadata": {},
   "source": [
    "### what should we do if test failed"
   ]
  },
  {
   "cell_type": "code",
   "execution_count": 37,
   "metadata": {},
   "outputs": [],
   "source": [
    "def get_formatted_name (first, last,middle =''):\n",
    "    if middle:\n",
    "        full_name = first + ' '+ middle+' '+ last\n",
    "    else:\n",
    "        full_name = first + ' '+ last\n",
    "    return full_name.title()"
   ]
  },
  {
   "cell_type": "markdown",
   "metadata": {},
   "source": [
    "### add new test cases"
   ]
  },
  {
   "cell_type": "code",
   "execution_count": 45,
   "metadata": {},
   "outputs": [
    {
     "name": "stderr",
     "output_type": "stream",
     "text": [
      "..\n",
      "----------------------------------------------------------------------\n",
      "Ran 2 tests in 0.001s\n",
      "\n",
      "OK\n"
     ]
    }
   ],
   "source": [
    "import unittest\n",
    "#from name_function import get_formatted_name\n",
    "class NamesTestCase(unittest.TestCase):\n",
    "    def test_first_last_name(self):\n",
    "        formatted_name = get_formatted_name('janis','joplin')\n",
    "        self.assertEqual(formatted_name,'Janis Joplin')\n",
    "    def test_first_last_middle_name(self):\n",
    "        formatted_name = get_formatted_name(\n",
    "            'wolfgang','mozart','amadeus'\n",
    "        )\n",
    "        self.assertEqual(formatted_name,'Wolfgang Amadeus Mozart')\n",
    "if __name__ == '__main__':\n",
    "    unittest.main(argv=['first-arg-is-ignored'], exit=False)"
   ]
  },
  {
   "cell_type": "markdown",
   "metadata": {},
   "source": [
    "### testtypes"
   ]
  },
  {
   "cell_type": "markdown",
   "metadata": {},
   "source": [
    "#### Assert method\n",
    "+ unittest Modules:\n",
    "\n",
    "\n",
    "| Method | Use | \n",
    "| --- | --- |\n",
    "| asserEqual(a,b) | a == b |\n",
    "| asserNotEqual(a,b) | a != b |\n",
    "| asserTrue(x) | x is True |\n",
    "| asserFalse(x) | x is False |\n",
    "| asserIn(item, list) | item in list |\n",
    "| asserNotIn(item, list) | item not in list |"
   ]
  },
  {
   "cell_type": "markdown",
   "metadata": {},
   "source": [
    "### a testing type"
   ]
  },
  {
   "cell_type": "code",
   "execution_count": 1,
   "metadata": {},
   "outputs": [],
   "source": [
    "#survey.py\n",
    "class AnonymousSurvey():\n",
    "    def __init__(self,question):\n",
    "        self.question = question\n",
    "        self.responses = []\n",
    "    def show_question(self):\n",
    "        print(question)\n",
    "    def store_response(self,new_response):\n",
    "        self.responses.append(new_response)\n",
    "    def show_results(self):\n",
    "        print('Survey results: ')\n",
    "        for response in responses:\n",
    "            print('- '+ response)"
   ]
  },
  {
   "cell_type": "code",
   "execution_count": 2,
   "metadata": {},
   "outputs": [
    {
     "name": "stdout",
     "output_type": "stream",
     "text": [
      "What language did you first learn to speak?\n",
      "Enter 'q' at any time to quit.\n",
      "\n",
      "Language: abc\n",
      "Language: q\n"
     ]
    }
   ],
   "source": [
    "## language_survey.py\n",
    "\n",
    "# from survey import AnonymousSurvey\n",
    "question = 'What language did you first learn to speak?'\n",
    "my_survey = AnonymousSurvey(question)\n",
    "\n",
    "my_survey.show_question()\n",
    "print(\"Enter 'q' at any time to quit.\\n\")\n",
    "while True:\n",
    "    response = input(\"Language: \")\n",
    "    if response =='q':\n",
    "        break\n",
    "    my_survey.store_response(response)"
   ]
  },
  {
   "cell_type": "code",
   "execution_count": 11,
   "metadata": {},
   "outputs": [
    {
     "name": "stderr",
     "output_type": "stream",
     "text": [
      ".\n",
      "----------------------------------------------------------------------\n",
      "Ran 1 test in 0.001s\n",
      "\n",
      "OK\n"
     ]
    }
   ],
   "source": [
    "## test_survey.py\n",
    "import unittest\n",
    "# from survey import AnonymousSurvey\n",
    "\n",
    "class TestAnonmyousSurvey(unittest.TestCase):\n",
    "\n",
    "    def test_store_single_response(self):\n",
    "        question = 'What language did you first learn to speak?'\n",
    "        my_survey = AnonymousSurvey(question)\n",
    "        my_survey.store_response('English')\n",
    "\n",
    "        self.assertIn('English', my_survey.responses)\n",
    "\n",
    "if __name__ == '__main__':\n",
    "    unittest.main(argv=['first-arg-is-ignored'], exit=False)"
   ]
  },
  {
   "cell_type": "markdown",
   "metadata": {},
   "source": [
    "### now, need test if user enter three inputs, all inputs should be stored too."
   ]
  },
  {
   "cell_type": "code",
   "execution_count": 12,
   "metadata": {},
   "outputs": [
    {
     "name": "stderr",
     "output_type": "stream",
     "text": [
      "..\n",
      "----------------------------------------------------------------------\n",
      "Ran 2 tests in 0.001s\n",
      "\n",
      "OK\n"
     ]
    }
   ],
   "source": [
    "## test_survey.py\n",
    "import unittest\n",
    "# from survey import AnonymousSurvey\n",
    "\n",
    "class TestAnonmyousSurvey(unittest.TestCase):\n",
    "\n",
    "    def test_store_single_response(self):\n",
    "        question = 'What language did you first learn to speak?'\n",
    "        my_survey = AnonymousSurvey(question)\n",
    "        my_survey.store_response('English')\n",
    "\n",
    "        self.assertIn('English', my_survey.responses)\n",
    "\n",
    "    def test_store_three_responses(self):\n",
    "        question = \"What language did you first learn to speak?\"\n",
    "        my_survey = AnonymousSurvey(question)\n",
    "        responses = ['English','Spanish','Mandarin']\n",
    "        for response in responses:\n",
    "            my_survey.store_response(response)\n",
    "        for response in responses:\n",
    "            self.assertIn(response, my_survey.responses)\n",
    "if __name__ == '__main__':\n",
    "    unittest.main(argv=['first-arg-is-ignored'], exit=False)"
   ]
  },
  {
   "cell_type": "markdown",
   "metadata": {},
   "source": [
    "### Method setup()"
   ]
  },
  {
   "cell_type": "code",
   "execution_count": 16,
   "metadata": {},
   "outputs": [
    {
     "name": "stderr",
     "output_type": "stream",
     "text": [
      "....\n",
      "----------------------------------------------------------------------\n",
      "Ran 4 tests in 0.002s\n",
      "\n",
      "OK\n"
     ]
    }
   ],
   "source": [
    "import unittest\n",
    "#from survey import AnonymousSurvey\n",
    "\n",
    "class TestAnonymousSurvey(unittest.TestCase):\n",
    "    def setUp(self):\n",
    "        question = 'what language did you first learn to speak?'\n",
    "        self.my_survey = AnonymousSurvey(question)\n",
    "        self.responses = ['English','Spanish','Mandarin']\n",
    "        \n",
    "    def test_store_single_response(self):\n",
    "        self.my_survey.store_response(self.responses[0])\n",
    "        self.assertIn(self.responses[0],self.my_survey.responses)\n",
    "        \n",
    "    def test_store_three_responses(self):\n",
    "        for response in self.responses:\n",
    "            self.my_survey.store_response(response)\n",
    "        for response in self.responses:\n",
    "            self.assertIn(response,self.my_survey.responses)\n",
    "if __name__ == '__main__':\n",
    "    unittest.main(argv=['first-arg-is-ignored'], exit=False)"
   ]
  },
  {
   "cell_type": "code",
   "execution_count": null,
   "metadata": {},
   "outputs": [],
   "source": []
  }
 ],
 "metadata": {
  "kernelspec": {
   "display_name": "Python 3",
   "language": "python",
   "name": "python3"
  },
  "language_info": {
   "codemirror_mode": {
    "name": "ipython",
    "version": 3
   },
   "file_extension": ".py",
   "mimetype": "text/x-python",
   "name": "python",
   "nbconvert_exporter": "python",
   "pygments_lexer": "ipython3",
   "version": "3.8.3"
  }
 },
 "nbformat": 4,
 "nbformat_minor": 4
}
