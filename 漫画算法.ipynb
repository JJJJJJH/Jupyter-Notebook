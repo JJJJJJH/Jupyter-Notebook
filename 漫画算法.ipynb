{
 "cells": [
  {
   "cell_type": "markdown",
   "metadata": {},
   "source": [
    "# 漫画算法"
   ]
  },
  {
   "cell_type": "markdown",
   "metadata": {
    "ExecuteTime": {
     "end_time": "2020-08-26T22:42:20.721049Z",
     "start_time": "2020-08-26T22:42:20.718932Z"
    }
   },
   "source": [
    "## Chapter 5"
   ]
  },
  {
   "cell_type": "markdown",
   "metadata": {},
   "source": [
    "### 5.2.2 linked_list with cycle:\n",
    "快慢指针 p1 p2， 成环：p1.next == p2.next"
   ]
  },
  {
   "cell_type": "code",
   "execution_count": 29,
   "metadata": {
    "ExecuteTime": {
     "end_time": "2020-08-29T23:17:45.912922Z",
     "start_time": "2020-08-29T23:17:45.909425Z"
    }
   },
   "outputs": [],
   "source": [
    "def is_cycle():\n",
    "    p1 = head\n",
    "    p2 = head\n",
    "    while p2 and p2.next:\n",
    "        p1 = p1.next\n",
    "        p2 = p2.next.next\n",
    "        if p1 == p2:\n",
    "            return True\n",
    "    return False\n"
   ]
  },
  {
   "cell_type": "markdown",
   "metadata": {},
   "source": [
    "### 5.2.3 len of cycle:\n",
    "len = 速度差 * 前进次数；\n",
    "###  find the enter spot of the cycle\n",
    "step 1: p1 = head, p2 stay in cycle\n",
    "\n",
    "step 2: p1 and p2 move 1 step together\n",
    "\n",
    "step 3: if p1.next == p2.next: p1.next is the enter\n"
   ]
  },
  {
   "cell_type": "markdown",
   "metadata": {},
   "source": [
    "### 5.3.1 min value of stack\n",
    "stack_a, stack_b = [],[]\n",
    "1. append items into stack_a and stack_b\n",
    "2. if item < min(stack_a):\n",
    "    stack_b.append(item)\n",
    "3. if stack_a.pop(item) and item == min(stack_a):\n",
    "    stack_b.popright() # pop()top of stack_b\n",
    "4. getMin() return stack_b(top)"
   ]
  },
  {
   "cell_type": "code",
   "execution_count": 4,
   "metadata": {
    "ExecuteTime": {
     "end_time": "2020-08-27T01:29:35.522892Z",
     "start_time": "2020-08-27T01:29:35.518080Z"
    }
   },
   "outputs": [],
   "source": [
    "def push():\n",
    "    mainStack = []\n",
    "    minStack = []\n",
    "    if not minStack or element <= minStack[-1]:\n",
    "        minStack.append(element)\n",
    "def pop():\n",
    "    if mainStack[-1] == minStack[-1]:\n",
    "        minStack.pop()\n",
    "    return mainStack.pop()\n",
    "\n",
    "def getMin():\n",
    "    if not mainStack:\n",
    "        print(\"Stack is empty\")\n",
    "    return minStack[-1]\n",
    "    "
   ]
  },
  {
   "cell_type": "markdown",
   "metadata": {},
   "source": [
    "### 5.4.1 GCD 最大公约数\n",
    "\n",
    "+ Euclidean algorithm:\n",
    "    GCD of a and b = GCD of min(a,b) and c, c = a%b\n",
    "    递归到其中一个是1\n",
    "+ 更相减损：\n",
    "    while a > b, GCD of a and b = GCD of b and c, c = a-b\n",
    "    递归到 两数相等\n",
    "+ BEST! combine both ways:\n",
    "    if a and b are even:\n",
    "        gcd(a,b) = 2* gcd(a/2,b/2) = 2* gcd(a>>1,b>>1)\n",
    "    elif a is even and b is odd:\n",
    "        gcd(a,b) = gcd(a/2,b) = gcd(a>>1,b)\n",
    "    elif a is odd and b is even:\n",
    "        gcd(a,b) = gcd(a,b/2) = gcd(a,b>>1)\n",
    "    else: # both are odd\n",
    "        gcd(a,b) = gcd(b,a-b)"
   ]
  },
  {
   "cell_type": "code",
   "execution_count": 12,
   "metadata": {
    "ExecuteTime": {
     "end_time": "2020-08-29T00:18:54.608166Z",
     "start_time": "2020-08-29T00:18:54.600646Z"
    },
    "code_folding": []
   },
   "outputs": [
    {
     "data": {
      "text/plain": [
       "5"
      ]
     },
     "execution_count": 12,
     "metadata": {},
     "output_type": "execute_result"
    }
   ],
   "source": [
    "def GCD(a,b):\n",
    "    if a==b:\n",
    "        return int(a)\n",
    "    if a%2 ==0 and b%2 ==0:\n",
    "        return 2* GCD(a/2,b/2)\n",
    "    elif a%2 ==0 and b%2!=0:\n",
    "        return GCD(a/2,b)\n",
    "    elif a%2 !=0 and b%2 ==0:\n",
    "        return GCD(a,b/2)\n",
    "    else:\n",
    "        if a>b:\n",
    "            big,small = a,b\n",
    "        else:\n",
    "            big,small = b,a\n",
    "        return GCD(big - small,small)\n",
    "    \n",
    "GCD(10,25) # res = 5"
   ]
  },
  {
   "cell_type": "markdown",
   "metadata": {},
   "source": [
    "### 5.5.2 是否是2的次幂 O(1)\n",
    "+ binary 移位法：\n",
    "    1. 2的次幂为100，1000，10000...\n",
    "    2. 二进制减一：11，111，1111...\n",
    "    3. n&n-1: 0,0,0,0..."
   ]
  },
  {
   "cell_type": "code",
   "execution_count": 13,
   "metadata": {
    "ExecuteTime": {
     "end_time": "2020-08-29T00:30:16.379627Z",
     "start_time": "2020-08-29T00:30:16.375339Z"
    }
   },
   "outputs": [
    {
     "data": {
      "text/plain": [
       "True"
      ]
     },
     "execution_count": 13,
     "metadata": {},
     "output_type": "execute_result"
    }
   ],
   "source": [
    "def isPower2(num):\n",
    "    return (num&num-1)==0\n",
    "isPower2(16)"
   ]
  },
  {
   "cell_type": "markdown",
   "metadata": {},
   "source": [
    "### 5.6 无序数组， 求排序后的最大相邻差\n",
    "EX：\n",
    "   + array = [2,6,3,4,5,10,9]\n",
    "   + ans: 3, because sort array = [2,3,4,5,6,9,10] and maxdiff(6,9) = 3"
   ]
  },
  {
   "cell_type": "markdown",
   "metadata": {},
   "source": [
    "#### Tips: Leetcode 164: max Gap\n",
    "\"\"\"\n",
    "    ## APPROACH : BUCKET SORT ##\n",
    "    ## LOGIC ##\n",
    "    ## 1. lets say we have number from 1 to 10 like, 1,1.1,1.2,2.4,3.5,3.7,4,....10 (not in the same order)\n",
    "    ## 2. we create n - 1 buckets, why n-1 ? (b1 -> [1-2] b2-> [2-3] b3->[3-4] ...so on 9 buckets)\n",
    "    ## 3. we can say size of each bucket will be (10 - 1) // 9 i.e 1 ==> (maximum - mimimum) // (length - 1)\n",
    "    ## 3. Instead of storing all the elements in the buckets, we store minvalue of that bucket and maximum value of that bucket\n",
    "    ## 4. Maximum Gap can be Case 1: gap between min and max in the bucket itself (or) Case 2: Gap between bucket1 max and bucket2 and so on..\n",
    "        \n",
    "    ## TIME COMPLEXITY : O(N) \n",
    "    ## SPACE COMPLEXITY : O(N)\n",
    "\"\"\""
   ]
  },
  {
   "cell_type": "code",
   "execution_count": 18,
   "metadata": {
    "ExecuteTime": {
     "end_time": "2020-08-29T23:03:21.221273Z",
     "start_time": "2020-08-29T23:03:21.211240Z"
    }
   },
   "outputs": [
    {
     "data": {
      "text/plain": [
       "3"
      ]
     },
     "execution_count": 18,
     "metadata": {},
     "output_type": "execute_result"
    }
   ],
   "source": [
    "def getMaxSortedDiff(nums):\n",
    "    \n",
    "    if len(nums) < 2 or min(nums) == max(nums):\n",
    "            return 0\n",
    "    minimum, maximum = min(nums), max(nums)\n",
    "    size = ( maximum - minimum )//(len(nums)-1) or 1\n",
    "    buckets = [[None, None] for _ in range(( maximum - minimum )//size+1)]\n",
    "    for num in nums:\n",
    "            # getting the bucket number in which it falls into\n",
    "        bucket = buckets[ ( num - minimum )//size ]\n",
    "        bucket[0] = num if bucket[0] is None else min(bucket[0], num)\n",
    "        bucket[1] = num if bucket[1] is None else max(bucket[1], num)\n",
    "    buckets = [bucket for bucket in buckets if bucket[0] is not None]\n",
    "    return max(buckets[i][0]-buckets[i-1][1] for i in range(1, len(buckets)))\n",
    "\n",
    "getMaxSortedDiff([2,6,3,4,5,10,9]) # res = 3"
   ]
  },
  {
   "cell_type": "markdown",
   "metadata": {},
   "source": [
    "### 5.7 用stack实现queue\n",
    "+ stack is LIFO; queue is FIFO\n",
    "+ Hints: use 2 stacks, one in one out"
   ]
  },
  {
   "cell_type": "code",
   "execution_count": 1,
   "metadata": {
    "ExecuteTime": {
     "end_time": "2020-08-30T15:58:07.479959Z",
     "start_time": "2020-08-30T15:58:07.476121Z"
    }
   },
   "outputs": [],
   "source": [
    "def enQueue(element):\n",
    "    stackA.push(element)\n",
    "def deQueue():\n",
    "    if not stackB:\n",
    "        if not stackA:\n",
    "            return None\n",
    "        transfer()\n",
    "    return stackB.pop()\n",
    "def transfer():\n",
    "    while stackA:\n",
    "        stackB.push(stackA.pop())\n"
   ]
  },
  {
   "cell_type": "markdown",
   "metadata": {},
   "source": [
    "### 5.8 find next int by switching digits\n",
    "+ question:\n",
    "    + An int: reorder digits find a new int iff >int\n",
    "        + EX: 1234 ->1243\n",
    "+ steps:\n",
    "    1. check backward find reverse digits; find the previous one(prev) before\n",
    "       reverse digits\n",
    "    2. switch the (prev) and the (minmum) digit in reverse digits\n",
    "    3. reorder the reverse digits to sort\n",
    "+ HINT: 字典序算法 On"
   ]
  },
  {
   "cell_type": "code",
   "execution_count": 2,
   "metadata": {
    "ExecuteTime": {
     "end_time": "2020-08-30T19:41:15.413364Z",
     "start_time": "2020-08-30T19:41:15.406817Z"
    }
   },
   "outputs": [],
   "source": [
    "def findNearstNumber(numbers):\n",
    "    indedx = findTransferPoint(numbers)\n",
    "    if index == 0:\n",
    "        return None\n",
    "    numbersCopy = numbers[:]\n",
    "    switch(numbersCopy,index)\n",
    "    reverse(numberCopy,index)\n",
    "    return numbersCopy\n",
    "\n",
    "def findTransferPoint(numbers):\n",
    "    for i in range(len(numbers-1),0,-1):\n",
    "        if numbers[i]>numbers[i-1]:\n",
    "            return i\n",
    "    return 0\n",
    "\n",
    "def switch(numbers,index):\n",
    "    head = numbers[index-1]\n",
    "    for i in range(len(numbers)-1,0,-1):\n",
    "        if head<numbers[i]:\n",
    "            numbers[index-1] = numbers[i]\n",
    "            numbers[i] = head\n",
    "            break\n",
    "    return numbers\n",
    "\n",
    "def reverse(num,index):\n",
    "    num = num[::-1]\n",
    "    return num\n",
    "\n"
   ]
  },
  {
   "cell_type": "markdown",
   "metadata": {
    "ExecuteTime": {
     "end_time": "2020-08-30T19:44:08.917281Z",
     "start_time": "2020-08-30T19:44:08.913947Z"
    }
   },
   "source": [
    "### 5.9 remove k digits and get the minmum\n",
    "EX: 159321, remove 3 digits, minmum = 1212\n",
    "\n",
    "steps：use stack\n"
   ]
  },
  {
   "cell_type": "code",
   "execution_count": 7,
   "metadata": {
    "ExecuteTime": {
     "end_time": "2020-08-30T20:48:10.248622Z",
     "start_time": "2020-08-30T20:48:10.242708Z"
    }
   },
   "outputs": [],
   "source": [
    "def removeKDigits(num,k):\n",
    "    size = len(num)\n",
    "    if size == k: return '0'\n",
    "    stack = []\n",
    "    for i, n in enumerate(num):\n",
    "        while stack and k and stack[-1]>n:\n",
    "            stack.pop()\n",
    "            k-=1\n",
    "        stack.append(n)\n",
    "        if len(stack)==1 and stack[-1] == '0': \n",
    "            stack.pop()\n",
    "        if not k:\n",
    "            res = ''.join(stack)+num[i+1:]\n",
    "            return res if res else '0'\n",
    "    while k:\n",
    "        stack.pop()\n",
    "        k-=1\n",
    "    return ''.join(stack)"
   ]
  },
  {
   "cell_type": "markdown",
   "metadata": {
    "ExecuteTime": {
     "end_time": "2020-08-30T20:49:53.395811Z",
     "start_time": "2020-08-30T20:49:53.393664Z"
    }
   },
   "source": [
    "### 5.10 sum of 2wo big number(if long is not enough)\n"
   ]
  },
  {
   "cell_type": "code",
   "execution_count": null,
   "metadata": {},
   "outputs": [],
   "source": [
    "def sumofBig():\n",
    "    # Before proceeding further,  \n",
    "    # make sure length of str2 is larger.  \n",
    "    if (len(str1) > len(str2)): \n",
    "        t = str1; \n",
    "        str1 = str2; \n",
    "        str2 = t; \n",
    "  \n",
    "    # Take an empty string for  \n",
    "    # storing result  \n",
    "    str = \"\";  \n",
    "  \n",
    "    # Calculate length of both string  \n",
    "    n1 = len(str1); \n",
    "    n2 = len(str2);  \n",
    "  \n",
    "    # Reverse both of strings  \n",
    "    str1 = str1[::-1];  \n",
    "    str2 = str2[::-1];  \n",
    "  \n",
    "    carry = 0;  \n",
    "    for i in range(n1):  \n",
    "          \n",
    "        # Do school mathematics, compute  \n",
    "        # sum of current digits and carry  \n",
    "        sum = ((ord(str1[i]) - 48) + \n",
    "              ((ord(str2[i]) - 48) + carry));  \n",
    "        str += chr(sum % 10 + 48);  \n",
    "  \n",
    "        # Calculate carry for next step  \n",
    "        carry = int(sum / 10);  \n",
    "  \n",
    "    # Add remaining digits of larger number  \n",
    "    for i in range(n1, n2):  \n",
    "        sum = ((ord(str2[i]) - 48) + carry);  \n",
    "        str += chr(sum % 10 + 48);  \n",
    "        carry = (int)(sum / 10);  \n",
    "  \n",
    "    # Add remaining carry  \n",
    "    if (carry):  \n",
    "        str += chr(carry + 48);  \n",
    "  \n",
    "    # reverse resultant string  \n",
    "    str = str[::-1];  \n",
    "  \n",
    "    return str;  \n",
    "  "
   ]
  },
  {
   "cell_type": "markdown",
   "metadata": {
    "ExecuteTime": {
     "end_time": "2020-08-30T21:28:45.226366Z",
     "start_time": "2020-08-30T21:28:45.222405Z"
    }
   },
   "source": [
    "### 5.11 DQ!!! O(n)\n",
    "EX: \n",
    "    10 miners;\n",
    "    200kg gold needs 3 miners;\n",
    "    300kg gold needs 4 miners;\n",
    "    350kg gold needs 3 miners;\n",
    "    400kg gold needs 5 miners;\n",
    "    500kg gold needs 5 miners;\n",
    "    \n",
    "Find the best choose\n",
    "\n",
    "n = number of mines\n",
    "w = number of miners\n",
    "g[] = number of gold\n",
    "p[] = number of mines that mine need\n",
    "F(n,w) = best res for n mines ang w miners\n",
    "\n",
    "+ Edge: \n",
    "        F(n,w) = 0 (n=0 or w=0)\n",
    "+ sub structure : F(n,w) = F(n-1,w) (n>=1, w<p[n-1])\n",
    "+ Normally, there are 2 sub structures (yes/no):\n",
    "        F(n,w) = max(F(n-1,w), F(n-1,w-p[n-1])+g[n-1]) (n>=1, w>=p[n-1])"
   ]
  },
  {
   "cell_type": "code",
   "execution_count": 12,
   "metadata": {
    "ExecuteTime": {
     "end_time": "2020-08-30T22:37:36.558507Z",
     "start_time": "2020-08-30T22:37:36.554089Z"
    }
   },
   "outputs": [],
   "source": [
    "def getBestGoldMining(w,p,g):\n",
    "    res = []\n",
    "    for i in range(len(g)):\n",
    "        for i in range(w,1,-1):\n",
    "            if j>=p[i-1]:\n",
    "                res[j] = max(res[j],res[j-p[i-1]]+g[i-1])\n",
    "    return res[w]\n",
    "    "
   ]
  },
  {
   "cell_type": "markdown",
   "metadata": {},
   "source": [
    "### 5.12 from a list, find nums show only once(others show twice)\n"
   ]
  },
  {
   "cell_type": "code",
   "execution_count": 13,
   "metadata": {
    "ExecuteTime": {
     "end_time": "2020-08-30T22:52:50.000160Z",
     "start_time": "2020-08-30T22:52:49.993953Z"
    }
   },
   "outputs": [
    {
     "name": "stdout",
     "output_type": "stream",
     "text": [
      "[5, 3]\n"
     ]
    }
   ],
   "source": [
    "def findLostNumber(array):\n",
    "   # 用于存储出现奇次的整数\n",
    "    resultList = [0 for i in range(2)]  #res[] = new int[2]\n",
    "   # 第一次做整体异或运算\n",
    "    xorResult = 0;\n",
    "    for i in array: #for (i;i<array.length;i++)\n",
    "        xorResult^=i\n",
    "    if xorResult==0:\n",
    "        return None\n",
    "   # 确定2个整数的不同位，以此来做分组\n",
    "    separator = 1\n",
    "    while 0==(xorResult&separator):\n",
    "        separator<<=1;\n",
    "\n",
    "   # 第二次分组进行异或运算\n",
    "    for j in array:\n",
    "        if 0==(separator&j):\n",
    "            resultList[0]^=j\n",
    "        else:\n",
    "            resultList[1]^=j\n",
    "    return resultList\n",
    "\n",
    "if __name__ == '__main__':\n",
    "    array = [4,1,2,2,5,1,4,3]\n",
    "    res = findLostNumber(array)\n",
    "    print(res)"
   ]
  },
  {
   "cell_type": "markdown",
   "metadata": {},
   "source": [
    "### 6.2.1 Bitmap\n"
   ]
  },
  {
   "cell_type": "code",
   "execution_count": 1,
   "metadata": {
    "ExecuteTime": {
     "end_time": "2020-09-01T21:22:05.412159Z",
     "start_time": "2020-09-01T21:22:04.539152Z"
    }
   },
   "outputs": [
    {
     "name": "stdout",
     "output_type": "stream",
     "text": [
      "False\n",
      "True\n"
     ]
    }
   ],
   "source": [
    "# id only use 1 bit, int or long need 32/64 bit\n",
    "# 位运算\n",
    "# 异或运算\n",
    "class MyBitmap:\n",
    "    def __init__(self, size):\n",
    "        self.words = [0] * (self.get_word_index(size-1) + 1)\n",
    "        self.size = size\n",
    "\n",
    "    def get_bit(self, bit_index):\n",
    "        if bit_index < 0 or bit_index > self.size-1:\n",
    "            raise Exception(\"超过bitmap有效范围 !\")\n",
    "        word_index = self.get_word_index(bit_index)\n",
    "        return (self.words[word_index] & (1 << bit_index)) != 0\n",
    "\n",
    "    def set_bit(self, bit_index):\n",
    "        if bit_index < 0 or bit_index > self.size-1:\n",
    "            raise Exception(\"超过bitmap有效范围 !\")\n",
    "        word_index = self.get_word_index(bit_index)\n",
    "        self.words[word_index] |= (1 << bit_index)\n",
    "\n",
    "    def get_word_index(self, bit_index):\n",
    "        # 右移6位，相当于除以64\n",
    "        return bit_index >> 6\n",
    "\n",
    "\n",
    "bitMap = MyBitmap(21474836470)\n",
    "bitMap.set_bit(78)\n",
    "bitMap.set_bit(50)\n",
    "print(bitMap.get_bit(126))\n",
    "print(bitMap.get_bit(78))"
   ]
  },
  {
   "cell_type": "markdown",
   "metadata": {
    "ExecuteTime": {
     "end_time": "2020-08-31T02:38:37.745076Z",
     "start_time": "2020-08-31T02:38:37.742545Z"
    }
   },
   "source": [
    "### 6.3 LRU (least recently user) release the least using account"
   ]
  },
  {
   "cell_type": "code",
   "execution_count": 2,
   "metadata": {
    "ExecuteTime": {
     "end_time": "2020-09-01T21:22:11.054578Z",
     "start_time": "2020-09-01T21:22:09.663251Z"
    }
   },
   "outputs": [
    {
     "name": "stdout",
     "output_type": "stream",
     "text": [
      "用户2信息\n",
      "None\n",
      "用户6信息\n"
     ]
    }
   ],
   "source": [
    "class LRUCache:\n",
    "    def __init__(self, limit):\n",
    "        self.limit = limit\n",
    "        self.hash = {}\n",
    "        self.head = None\n",
    "        self.end = None\n",
    "\n",
    "    def get(self, key):\n",
    "        node = self.hash.get(key)\n",
    "        if node is None:\n",
    "            return None\n",
    "        self.refresh_node(node)\n",
    "        return node.value\n",
    "\n",
    "    def put(self, key, value):\n",
    "        node = self.hash.get(key)\n",
    "        if node is None:\n",
    "            # 如果key不存在，插入key-value\n",
    "            if len(self.hash) >= self.limit:\n",
    "                old_key = self.remove_node(self.head)\n",
    "                self.hash.pop(old_key)\n",
    "            node = Node(key, value)\n",
    "            self.add_node(node)\n",
    "            self.hash[key] = node\n",
    "        else:\n",
    "            # 如果key存在，刷新key-value\n",
    "            node.value = value\n",
    "            self.refresh_node(node)\n",
    "\n",
    "    def remove(self, key):\n",
    "        node = self.hash.get(key)\n",
    "        if node is None:\n",
    "            return\n",
    "        self.remove_node(node)\n",
    "        self.hash.remove(key)\n",
    "\n",
    "    def refresh_node(self, node):\n",
    "        # 如果访问的是尾节点，无需移动节点\n",
    "        if node == self.end:\n",
    "            return\n",
    "        # 移除节点\n",
    "        self.remove_node(node)\n",
    "        # 重新插入节点\n",
    "        self.add_node(node)\n",
    "\n",
    "    def remove_node(self, node):\n",
    "        if node == self.head and node == self.end:\n",
    "            # 移除唯一的节点\n",
    "            self.head = None\n",
    "            self.end = None\n",
    "        elif node == self.end:\n",
    "            # 移除节点\n",
    "            self.end = self.end.pre\n",
    "            self.end.next = None\n",
    "        elif node == self.head:\n",
    "            # 移除头节点\n",
    "            self.head = self.head.next\n",
    "            self.head.pre = None\n",
    "        else:\n",
    "            # 移除中间节点\n",
    "            node.pre.next = node.pre\n",
    "            node.next.pre = node.pre\n",
    "        return node.key\n",
    "\n",
    "    def add_node(self, node):\n",
    "        if self.end is not None:\n",
    "            self.end.next = node\n",
    "            node.pre = self.end\n",
    "            node.next = None\n",
    "        self.end = node\n",
    "        if self.head is None:\n",
    "            self.head = node\n",
    "\n",
    "\n",
    "class Node:\n",
    "    def __init__(self, key, value):\n",
    "        self.key = key\n",
    "        self.value = value\n",
    "        self.pre = None\n",
    "        self.next = None\n",
    "\n",
    "\n",
    "lruCache = LRUCache(5)\n",
    "lruCache.put(\"001\", \"用户1信息\")\n",
    "lruCache.put(\"002\", \"用户2信息\")\n",
    "lruCache.put(\"003\", \"用户3信息\")\n",
    "lruCache.put(\"004\", \"用户4信息\")\n",
    "lruCache.put(\"005\", \"用户5信息\")\n",
    "print(lruCache.get(\"002\"))\n",
    "lruCache.put(\"004\", \"用户4信息更新\")\n",
    "lruCache.put(\"006\", \"用户6信息\")\n",
    "print(lruCache.get(\"001\"))\n",
    "print(lruCache.get(\"006\"))"
   ]
  },
  {
   "cell_type": "markdown",
   "metadata": {
    "ExecuteTime": {
     "end_time": "2020-08-31T02:40:16.628997Z",
     "start_time": "2020-08-31T02:40:16.626591Z"
    }
   },
   "source": [
    "### 6.4 maze AI (A*finding path)"
   ]
  },
  {
   "cell_type": "code",
   "execution_count": 3,
   "metadata": {
    "ExecuteTime": {
     "end_time": "2020-09-01T21:22:45.652279Z",
     "start_time": "2020-09-01T21:22:45.628387Z"
    }
   },
   "outputs": [
    {
     "name": "stdout",
     "output_type": "stream",
     "text": [
      "0, 0, *, *, *, *, 0, \n",
      "0, 0, *, 1, 0, *, 0, \n",
      "0, *, *, 1, 0, *, 0, \n",
      "0, 0, 0, 1, 0, 0, 0, \n",
      "0, 0, 0, 0, 0, 0, 0, \n"
     ]
    }
   ],
   "source": [
    "def a_star_search(start, end):\n",
    "    # 待访问的格子\n",
    "    open_list = []\n",
    "    # 已访问的格子\n",
    "    close_list = []\n",
    "    # 把起点加入open_list\n",
    "    open_list.append(start)\n",
    "    # 主循环，每一轮检查一个当前方格节点\n",
    "    while len(open_list) > 0:\n",
    "        # 在open_list中查找 F值最小的节点作为当前方格节点\n",
    "        current_grid = find_min_gird(open_list)\n",
    "        # 当前方格节点从openList中移除\n",
    "        open_list.remove(current_grid)\n",
    "        # 当前方格节点进入 closeList\n",
    "        close_list.append(current_grid)\n",
    "        # 找到所有邻近节点\n",
    "        neighbors = find_neighbors(current_grid, open_list, close_list)\n",
    "        for grid in neighbors:\n",
    "            # 邻近节点不在openList中，标记父亲、G、H、F，并放入openList\n",
    "            grid.init_grid(current_grid, end)\n",
    "            open_list.append(grid)\n",
    "        # 如果终点在openList中，直接返回终点格子\n",
    "        for grid in open_list:\n",
    "            if (grid.x == end.x) and (grid.y == end.y):\n",
    "                return grid\n",
    "    # openList用尽，仍然找不到终点，说明终点不可到达，返回空\n",
    "    return None\n",
    "\n",
    "\n",
    "def find_min_gird(open_list=[]):\n",
    "    temp_grid = open_list[0]\n",
    "    for grid in open_list:\n",
    "        if grid.f < temp_grid.f:\n",
    "            temp_grid = grid\n",
    "    return temp_grid\n",
    "\n",
    "\n",
    "def find_neighbors(grid, open_list=[], close_list=[]):\n",
    "    grid_list = []\n",
    "    if is_valid_grid(grid.x, grid.y-1, open_list, close_list):\n",
    "        grid_list.append(Grid(grid.x, grid.y-1))\n",
    "    if is_valid_grid(grid.x, grid.y+1, open_list, close_list):\n",
    "        grid_list.append(Grid(grid.x, grid.y+1))\n",
    "    if is_valid_grid(grid.x-1, grid.y, open_list, close_list):\n",
    "        grid_list.append(Grid(grid.x-1, grid.y))\n",
    "    if is_valid_grid(grid.x+1, grid.y, open_list, close_list):\n",
    "        grid_list.append(Grid(grid.x+1, grid.y))\n",
    "    return grid_list\n",
    "\n",
    "\n",
    "def is_valid_grid(x, y, open_list=[], close_list=[]):\n",
    "        # 是否超过边界\n",
    "        if x < 0 or x >= len(MAZE) or y < 0 or y >= len(MAZE[0]):\n",
    "            return False\n",
    "        # 是否有障碍物\n",
    "        if MAZE[x][y] == 1:\n",
    "            return False\n",
    "        # 是否已经在open_list中\n",
    "        if contain_grid(open_list, x, y):\n",
    "            return False\n",
    "        # 是否已经在closeList中\n",
    "        if contain_grid(close_list, x, y):\n",
    "            return False\n",
    "        return True\n",
    "\n",
    "\n",
    "def contain_grid(grids, x, y):\n",
    "    for grid in grids:\n",
    "        if (grid.x == x) and (grid.y == y):\n",
    "            return True\n",
    "    return False\n",
    "\n",
    "\n",
    "class Grid:\n",
    "    def __init__(self, x, y):\n",
    "        self.x = x\n",
    "        self.y = y\n",
    "        self.f = 0\n",
    "        self.g = 0\n",
    "        self.h = 0\n",
    "        self.parent = None\n",
    "\n",
    "    def init_grid(self, parent, end):\n",
    "        self.parent = parent\n",
    "        self.g = parent.g + 1\n",
    "        self.h = abs(self.x - end.x) + abs(self.y - end.y)\n",
    "        self.f = self.g + self.h\n",
    "\n",
    "\n",
    "# 迷宫地图\n",
    "MAZE = [\n",
    "    [0, 0, 0, 0, 0, 0, 0],\n",
    "    [0, 0, 0, 1, 0, 0, 0],\n",
    "    [0, 0, 0, 1, 0, 0, 0],\n",
    "    [0, 0, 0, 1, 0, 0, 0],\n",
    "    [0, 0, 0, 0, 0, 0, 0]\n",
    "]\n",
    "\n",
    "# 设置起点和终点\n",
    "start_grid = Grid(2, 1)\n",
    "end_grid = Grid(2, 5)\n",
    "# 搜索迷宫终点\n",
    "result_grid = a_star_search(start_grid, end_grid)\n",
    "# 回溯迷宫路径\n",
    "path = []\n",
    "while result_grid is not None:\n",
    "    path.append(Grid(result_grid.x, result_grid.y))\n",
    "    result_grid = result_grid.parent\n",
    "# 输出迷宫和路径，路径用星号表示\n",
    "for i in range(0, len(MAZE)):\n",
    "    for j in range(0, len(MAZE[0])):\n",
    "        if contain_grid(path, i, j):\n",
    "            print(\"*, \", end='')\n",
    "        else:\n",
    "            print(str(MAZE[i][j]) + \", \", end='')\n",
    "    print()"
   ]
  },
  {
   "cell_type": "markdown",
   "metadata": {
    "ExecuteTime": {
     "end_time": "2020-08-31T02:43:16.207540Z",
     "start_time": "2020-08-31T02:43:16.205280Z"
    }
   },
   "source": [
    "### 6.5 red pocket(random, at least 0.01, sum() == total)"
   ]
  },
  {
   "cell_type": "code",
   "execution_count": 4,
   "metadata": {
    "ExecuteTime": {
     "end_time": "2020-09-01T21:23:23.925514Z",
     "start_time": "2020-09-01T21:23:23.919949Z"
    }
   },
   "outputs": [
    {
     "name": "stdout",
     "output_type": "stream",
     "text": [
      "抢到金额：1.85\n",
      "抢到金额：0.73\n",
      "抢到金额：0.68\n",
      "抢到金额：1.30\n",
      "抢到金额：0.82\n",
      "抢到金额：0.59\n",
      "抢到金额：1.32\n",
      "抢到金额：0.65\n",
      "抢到金额：2.05\n",
      "抢到金额：0.01\n"
     ]
    }
   ],
   "source": [
    "import random\n",
    "\n",
    "\n",
    "def divide_red_package(total_amount, total_people_num):\n",
    "    amount_list = []\n",
    "    rest_amount = total_amount\n",
    "    rest_people_num = total_people_num\n",
    "    for i in range(0, total_people_num-1):\n",
    "        # 随机范围：[1，剩余人均金额的两倍)，左闭右开\n",
    "        amount = random.randint(1, int(rest_amount/rest_people_num*2)-1)\n",
    "        rest_amount -= amount\n",
    "        rest_people_num -= 1\n",
    "        amount_list.append(amount)\n",
    "    amount_list.append(rest_amount)\n",
    "    return amount_list\n",
    "\n",
    "\n",
    "my_amount_list = divide_red_package(1000, 10)\n",
    "for my_amount in my_amount_list:\n",
    "    print(\"抢到金额：%.2f\" % (my_amount/100))"
   ]
  },
  {
   "cell_type": "code",
   "execution_count": null,
   "metadata": {},
   "outputs": [],
   "source": []
  }
 ],
 "metadata": {
  "kernelspec": {
   "display_name": "Python 3",
   "language": "python",
   "name": "python3"
  },
  "language_info": {
   "codemirror_mode": {
    "name": "ipython",
    "version": 3
   },
   "file_extension": ".py",
   "mimetype": "text/x-python",
   "name": "python",
   "nbconvert_exporter": "python",
   "pygments_lexer": "ipython3",
   "version": "3.8.3"
  }
 },
 "nbformat": 4,
 "nbformat_minor": 4
}
