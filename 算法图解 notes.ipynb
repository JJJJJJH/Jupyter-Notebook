{
 "cells": [
  {
   "cell_type": "markdown",
   "metadata": {},
   "source": [
    "# 算法图解"
   ]
  },
  {
   "cell_type": "markdown",
   "metadata": {},
   "source": [
    "## Chapter 1："
   ]
  },
  {
   "cell_type": "markdown",
   "metadata": {},
   "source": [
    "### 1. 二分法"
   ]
  },
  {
   "cell_type": "markdown",
   "metadata": {
    "ExecuteTime": {
     "end_time": "2020-09-10T01:40:25.020274Z",
     "start_time": "2020-09-10T01:40:25.016986Z"
    }
   },
   "source": [
    "+ 有序\n",
    "+ worst case: running time: O(logn)； 对数， 幂的逆运算"
   ]
  },
  {
   "cell_type": "code",
   "execution_count": 4,
   "metadata": {
    "ExecuteTime": {
     "end_time": "2020-09-10T05:43:17.886013Z",
     "start_time": "2020-09-10T05:43:17.879735Z"
    }
   },
   "outputs": [
    {
     "name": "stdout",
     "output_type": "stream",
     "text": [
      "1\n",
      "None\n"
     ]
    }
   ],
   "source": [
    "# Use bucket（0，1，2...）\n",
    "\n",
    "\"\"\"\n",
    "Notes:\n",
    "\n",
    "# [low,a,b,high] is the range to search\n",
    "low = 0 \n",
    "high = len(list)-1\n",
    "# check the mid one every time:\n",
    "mid = (low + high)/2\n",
    "# if (low+high) is not an int Python will move down mid to int\n",
    "guess = list[mid]\n",
    "if guess <item:\n",
    "    low = mid +1\n",
    "# cur list ->[low,high,X,X]\n",
    "# if guess is bigger: change high\n",
    "\n",
    "\"\"\"\n",
    "#\n",
    "#\n",
    "# Full Code:\n",
    "def binary_search(list,item):\n",
    "    low = 0\n",
    "    high = len(list)-1\n",
    "    \n",
    "    while low <= high:\n",
    "        mid = (low + high)\n",
    "        guess = list[mid]\n",
    "        if guess == item:\n",
    "            return mid\n",
    "        if guess > item:\n",
    "            high = mid -1\n",
    "        else:\n",
    "            low = mid +1\n",
    "    return None\n",
    "## test:\n",
    "my_list = [1,3,5,7,9]\n",
    "\n",
    "print(binary_search(my_list,3)) # ans: 1\n",
    "print(binary_search(my_list,-1)) # ans: None"
   ]
  },
  {
   "cell_type": "markdown",
   "metadata": {},
   "source": [
    "#### Practices:\n",
    "1.1. If a list's length is 128, how many steps to find the item?\n",
    "    - log(128) = 7, base 2\n",
    "1.2. If the length is twice longer, how many steps at most?\n",
    "    - log(128*2) = 8"
   ]
  },
  {
   "cell_type": "markdown",
   "metadata": {},
   "source": [
    "## calculte the running time:\n",
    "\n",
    "|Big O|解释|\n",
    "|---|---|\n",
    "|O(logn)|对数时间；EX：binary search|\n",
    "|O(n)|Linear time；EX：简单查找|\n",
    "|O(nlogn)|quick sort；fast|\n",
    "|O(n^2)|select sort；slow|\n",
    "|O(n!)|very slow|\n"
   ]
  },
  {
   "cell_type": "markdown",
   "metadata": {
    "ExecuteTime": {
     "end_time": "2020-09-12T17:59:08.148037Z",
     "start_time": "2020-09-12T17:59:08.144282Z"
    }
   },
   "source": [
    "#### Practices:\n",
    "1.3. find phone# by name in contact\n",
    "    - O(n)\n",
    "    + O(logn)\n",
    "1.4. find name by phone#\n",
    "    - O(logn)\n",
    "    + O(n)\n",
    "1.5. read everyone's phone#\n",
    "    - O(n)\n",
    "1.6. read all phone# by the name initial is A\n",
    "    - O(n)"
   ]
  },
  {
   "cell_type": "markdown",
   "metadata": {
    "ExecuteTime": {
     "end_time": "2020-09-12T18:03:01.508895Z",
     "start_time": "2020-09-12T18:03:01.504752Z"
    }
   },
   "source": [
    "### O(n!):\n",
    "    A person need to trival 5 cities. He need find the shortes way.\n",
    "    So, he need to find the order of cities.\n",
    "    5 cities have 120 ways to order.\n",
    "    6 cities have 720 ways to order.\n",
    "    7 cities have 5040 ways to order."
   ]
  },
  {
   "cell_type": "markdown",
   "metadata": {},
   "source": [
    "### Final:\n",
    "   + binary search is much faster than linear search.\n",
    "   + O(logn) is faster than O(n), more items, more faster.\n",
    "   + running time is not count by second(s)\n",
    "   + running time depends on the shape of graph\n",
    "   + running time: O()"
   ]
  },
  {
   "cell_type": "markdown",
   "metadata": {
    "ExecuteTime": {
     "end_time": "2020-09-12T18:08:03.022271Z",
     "start_time": "2020-09-12T18:08:03.020149Z"
    }
   },
   "source": [
    "## Chapter 2：selection sort"
   ]
  },
  {
   "cell_type": "markdown",
   "metadata": {},
   "source": [
    "### 1. how is memory working?\n",
    "\n",
    "+ saving locker: each locker can only save one item, if you have 2 items, you need 2 lockers.\n",
    "+ each locker is a unit, has their own address\n",
    "+ Two basic saving type: Array and Linked List"
   ]
  },
  {
   "cell_type": "markdown",
   "metadata": {},
   "source": [
    "### array and linked list"
   ]
  },
  {
   "cell_type": "markdown",
   "metadata": {},
   "source": [
    "|Array|Linked List|\n",
    "|---|---|\n",
    "|All items are connect in memory|randomly save data in memory|\n",
    "|If the space is not enough, data have to move to other address|each node can point to next node|\n",
    "|can 'prepare' some space, but others can't use it|can't read the item directly|\n",
    "|if 'prepare' space is full, array must relocate to another one||\n"
   ]
  },
  {
   "cell_type": "markdown",
   "metadata": {
    "ExecuteTime": {
     "end_time": "2020-09-12T19:55:06.631471Z",
     "start_time": "2020-09-12T19:55:06.627937Z"
    }
   },
   "source": [
    "#### practice:\n",
    "2.1. record daily cost notes: mostly insert but less read. what do you use? \n",
    "    - Linked list"
   ]
  },
  {
   "cell_type": "markdown",
   "metadata": {
    "ExecuteTime": {
     "end_time": "2020-09-12T19:56:03.214665Z",
     "start_time": "2020-09-12T19:56:03.212417Z"
    }
   },
   "source": [
    "### Operations:\n",
    "+ Array:\n",
    "    1. insert: O(n); need to move all node 1 unit; if no enough space, must relocate to a new one(usually double space one)\n",
    "    2. remove: O(n);\n",
    "    3. read: O(1); randomly read.(随机访问）\n",
    "+ Linked List:\n",
    "    1. insert: O(1)change the previous node's next to the insert one\n",
    "    2. remove: O(1)\n",
    "    3. read: O(n)"
   ]
  },
  {
   "cell_type": "markdown",
   "metadata": {},
   "source": [
    "#### practice:\n",
    "2.2. restaurant menu app: add at end and read from front. use array or Linked List?\n",
    "    - Linked List\n",
    "2.3. use binary search(need randomly read to receive the username). Use array or linked list?\n",
    "    - array.\n",
    "    + sorted array\n",
    "2.4. If you want to insert new user in array, what is the disadvantage?\n",
    "    - may out of range, or may cost much time if the data is big\n",
    "    + slow insert and the array must be sorted\n",
    "2.5. For linked array list, 26 elements and each elements point to a linked list. compare to array and linked list, is it faster for search and insert?\n",
    "    - faster, "
   ]
  },
  {
   "cell_type": "markdown",
   "metadata": {
    "ExecuteTime": {
     "end_time": "2020-09-12T20:40:03.846751Z",
     "start_time": "2020-09-12T20:40:03.844595Z"
    }
   },
   "source": [
    "### selection sort\n",
    "+ if you save a lot of songs in your computer. Each song has its own playing times data.\n",
    "+ you want to play songs in order of decreasing playing times.\n",
    "    1. travals(遍历）this list, find the max one, and add it to a new list, remove this one in old list, then find the max one again.\n",
    "        + O(n*n)\n",
    "    2. kind of slow."
   ]
  },
  {
   "cell_type": "code",
   "execution_count": 9,
   "metadata": {
    "ExecuteTime": {
     "end_time": "2020-09-12T20:53:05.322678Z",
     "start_time": "2020-09-12T20:53:05.309963Z"
    }
   },
   "outputs": [
    {
     "data": {
      "text/plain": [
       "[2, 3, 5, 6, 10]"
      ]
     },
     "execution_count": 9,
     "metadata": {},
     "output_type": "execute_result"
    }
   ],
   "source": [
    "## code:\n",
    "def findSmallest(arr):\n",
    "    smallest = arr[0]\n",
    "    smallest_index = 0\n",
    "    for i in range(1,len(arr)):\n",
    "        if arr[i] < smallest:\n",
    "            smallest = arr[i]\n",
    "            smallest_index = i\n",
    "    return smallest_index\n",
    "\n",
    "def selectionSort(arr):\n",
    "    newArr = []\n",
    "    for i in range(len(arr)):\n",
    "        smallest = findSmallest(arr)\n",
    "        newArr.append(arr.pop(smallest))\n",
    "    return newArr\n",
    "selectionSort([5,3,6,2,10])"
   ]
  },
  {
   "cell_type": "markdown",
   "metadata": {
    "ExecuteTime": {
     "end_time": "2020-09-12T20:57:34.381140Z",
     "start_time": "2020-09-12T20:57:34.376742Z"
    }
   },
   "source": [
    "### Final:\n",
    "   + memory is like a lot of lockers\n",
    "   + if need save multiple units, use array or linked list\n",
    "   + elements in array stays together\n",
    "   + elements in linked list are seprate, each node point to next node\n",
    "   + read is faster in arry\n",
    "   + insert and remove are faster in linked list\n",
    "   + in an array, all elements must be same type"
   ]
  },
  {
   "cell_type": "markdown",
   "metadata": {},
   "source": [
    "## Chapter 3: Recursion"
   ]
  },
  {
   "cell_type": "markdown",
   "metadata": {},
   "source": [
    "Case 1: \n",
    "steps: \n",
    "    1. try to find a key from a box_stack\n",
    "    2. take one box, open it:\n",
    "    3. if there is a box showing up, then add it to box_stack\n",
    "    4. if find the key, Done!\n",
    "    5. back to step 2 and repeat the following steps.\n",
    "\n",
    "Case 2:\n",
    "steps:\n",
    "    1. check items in box\n",
    "    2. if it is the box, go back to step one\n",
    "    3. if it is the key, Done."
   ]
  },
  {
   "cell_type": "code",
   "execution_count": 12,
   "metadata": {
    "ExecuteTime": {
     "end_time": "2020-09-12T23:08:10.874268Z",
     "start_time": "2020-09-12T23:08:10.871782Z"
    }
   },
   "outputs": [],
   "source": [
    "## case 1 code:\n",
    "#def look_for_key(main_box):\n",
    "#    pile = main_box.make_a_pile_to_look_though()\n",
    "#    while pile is not empty:\n",
    "#        box = pile.grab_a_box()\n",
    "#        from item in box:\n",
    "#            if itemm.is_a_box():\n",
    "#                pile.append(item)\n",
    "#            elif item.is_a_key():\n",
    "#                print('found the key')\n",
    "                \n",
    "## case 2:\n",
    "#def look_for_key(box):\n",
    "#    for item in box:\n",
    "#        look_for_key(item)\n",
    "#    elif item.is_a_key():\n",
    "#        print('found the key')"
   ]
  },
  {
   "cell_type": "markdown",
   "metadata": {
    "ExecuteTime": {
     "end_time": "2020-09-12T23:09:11.814317Z",
     "start_time": "2020-09-12T23:09:11.810827Z"
    }
   },
   "source": [
    "**recursion won't make the running time shorter, but more meaningful**"
   ]
  },
  {
   "cell_type": "markdown",
   "metadata": {},
   "source": [
    "Keys to success the recursion: **base case** and **recursive case**"
   ]
  },
  {
   "cell_type": "code",
   "execution_count": 2,
   "metadata": {
    "ExecuteTime": {
     "end_time": "2020-09-13T21:28:37.066150Z",
     "start_time": "2020-09-13T21:28:37.063013Z"
    }
   },
   "outputs": [],
   "source": [
    "# EX: countdown\n",
    "def countdown(i):\n",
    "    print(i)\n",
    "    if i<=0:\n",
    "        return\n",
    "    else:\n",
    "        countdown(i-1)"
   ]
  },
  {
   "cell_type": "markdown",
   "metadata": {
    "ExecuteTime": {
     "end_time": "2020-09-12T23:19:30.630177Z",
     "start_time": "2020-09-12T23:19:30.627975Z"
    }
   },
   "source": [
    "### Stack"
   ]
  },
  {
   "cell_type": "markdown",
   "metadata": {},
   "source": [
    "+ push & pop(压入和弹出)\n",
    "+ push an item to the top of the list; pop the item from the top of the list\n",
    "+ push(): insert\n",
    "+ pop(): remove and read"
   ]
  },
  {
   "cell_type": "markdown",
   "metadata": {
    "ExecuteTime": {
     "end_time": "2020-09-12T23:28:24.915559Z",
     "start_time": "2020-09-12T23:28:24.912037Z"
    }
   },
   "source": [
    "### Recursion call stack too:\n",
    "Ex: factorial\n",
    "    \n",
    "factorial(5), also write as 5!; 5! = 5*4*3*2*1"
   ]
  },
  {
   "cell_type": "code",
   "execution_count": 17,
   "metadata": {
    "ExecuteTime": {
     "end_time": "2020-09-12T23:31:30.226964Z",
     "start_time": "2020-09-12T23:31:30.224050Z"
    }
   },
   "outputs": [],
   "source": [
    "## code:\n",
    "def fact(x):\n",
    "    if x ==1:\n",
    "        return 1\n",
    "    else:\n",
    "        return x*fact(x-1)"
   ]
  },
  {
   "cell_type": "markdown",
   "metadata": {},
   "source": [
    "#### practice:\n",
    "3.2. if the recursion is unlimited, what is it meaning for a stack?\n",
    "    - overflow"
   ]
  },
  {
   "cell_type": "markdown",
   "metadata": {},
   "source": [
    "### Final:\n",
    "   + recusion means a function call it self\n",
    "   + each recursion must have base case and recursive case\n",
    "   + two operators of stack: push and pop\n",
    "   + all function calls will push into stack\n",
    "   + stack may really long, and cost so much space"
   ]
  },
  {
   "cell_type": "markdown",
   "metadata": {},
   "source": [
    "## Chapter 4: quick sort"
   ]
  },
  {
   "cell_type": "markdown",
   "metadata": {},
   "source": [
    "### **divede and conquer(分而治之)** D&C\n"
   ]
  },
  {
   "cell_type": "code",
   "execution_count": 18,
   "metadata": {
    "ExecuteTime": {
     "end_time": "2020-09-13T00:25:43.984384Z",
     "start_time": "2020-09-13T00:25:43.979784Z"
    }
   },
   "outputs": [
    {
     "data": {
      "text/plain": [
       "10"
      ]
     },
     "execution_count": 18,
     "metadata": {},
     "output_type": "execute_result"
    }
   ],
   "source": [
    "## EX:\n",
    "def sum(arr):\n",
    "    total = 0\n",
    "    for x in arr:\n",
    "        total += x\n",
    "    return total\n",
    "sum([1,2,3,4])"
   ]
  },
  {
   "cell_type": "markdown",
   "metadata": {},
   "source": [
    "use recusion:\n",
    "    base case: [] no element or[1] only one element\n",
    "    recursive case: each step must be closer to an empty arr.\n",
    "    so: 2+sum(4+6)\n"
   ]
  },
  {
   "cell_type": "markdown",
   "metadata": {},
   "source": [
    "#### practice:\n",
    "4.1. write the sum() code:\n",
    "    - \n",
    "    \n",
    "    def sum(list):\n",
    "        if list == []:\n",
    "            return 0\n",
    "        return sum(list[1:])+ list[0]\n",
    "    \n",
    "4.2. use recursion to count the number of list\n",
    "    - \n",
    "    \n",
    "    def count(list):\n",
    "        if list ==[]:\n",
    "            return 0\n",
    "        return 1+ count(list[1:])\n",
    "    \n",
    "4.3. find the max number in the list\n",
    "    - \n",
    "    \n",
    "    def max(list):\n",
    "        if len(list) ==1:\n",
    "            return list[0]\n",
    "        return max(list[1:])\n",
    "        \n",
    "    +\n",
    "    def max(list):\n",
    "        if len(list) ==2:\n",
    "            return list[0] if list[0]>list[1] else list[1]\n",
    "        sub_max = max(list[1:])\n",
    "        return list[0] if list[0] > sub_max else sub_max\n",
    "            \n",
    "        \n",
    "    \n",
    "4.4. use recursion for binary search\n",
    "    - \n",
    "    \n",
    "    def BST(root,n):\n",
    "        if root and root.value == n:\n",
    "            return root\n",
    "        elif n< root:\n",
    "            return (root.left,n)\n",
    "        return(root.right,n)\n",
    "    "
   ]
  },
  {
   "cell_type": "markdown",
   "metadata": {},
   "source": [
    "### quick sort"
   ]
  },
  {
   "cell_type": "markdown",
   "metadata": {
    "ExecuteTime": {
     "end_time": "2020-09-13T21:47:35.873202Z",
     "start_time": "2020-09-13T21:47:35.869720Z"
    }
   },
   "source": [
    "+ faster than selection sort\n",
    "+ qsort() in C\n",
    "+ use D&C\n",
    "+ worst case: O(n^2), average: O(nlogn)"
   ]
  },
  {
   "cell_type": "markdown",
   "metadata": {
    "ExecuteTime": {
     "end_time": "2020-09-13T21:48:39.083883Z",
     "start_time": "2020-09-13T21:48:39.080662Z"
    }
   },
   "source": [
    "**Steps for quick sort:**\n",
    "1. base case: [] or [n] only one item in list; only need return array\n",
    "2. quick sort need seprate array: choose an element(pivot 基准值)\n",
    "3. EX: [33,15,10]: 33 is pivot;\n",
    "    nums < pivot, on the left of pivot \n",
    "    nums > pivot, on the right of the pivot\n",
    "    -> 15,10,33,[]; qsort([15,10]),33,qsort([])\n",
    "    then 15 is pivot, repeat the moving steps:\n",
    "    -> 10,15,33"
   ]
  },
  {
   "cell_type": "code",
   "execution_count": 5,
   "metadata": {
    "ExecuteTime": {
     "end_time": "2020-09-13T22:26:55.152038Z",
     "start_time": "2020-09-13T22:26:55.140402Z"
    }
   },
   "outputs": [
    {
     "data": {
      "text/plain": [
       "[2, 3, 5, 10]"
      ]
     },
     "execution_count": 5,
     "metadata": {},
     "output_type": "execute_result"
    }
   ],
   "source": [
    "## code: quicksort\n",
    "def quicksort(arr):\n",
    "    if len(arr)<2:\n",
    "        return arr\n",
    "    else:\n",
    "        pivot = arr[0]\n",
    "        less = [i for i in arr[1:]if i <= pivot]\n",
    "        greater = [i for i in arr[1:]if i > pivot]\n",
    "        \n",
    "        return quicksort(less)+[pivot]+quicksort(greater)\n",
    "quicksort([10,5,2,3])"
   ]
  },
  {
   "cell_type": "markdown",
   "metadata": {},
   "source": [
    "### merge sort\n",
    "+ O(nlogn)"
   ]
  },
  {
   "cell_type": "markdown",
   "metadata": {},
   "source": [
    "#### practice: (running time)\n",
    "4.5. print all elements in an array:\n",
    "    - O(n)\n",
    "    \n",
    "4.6. each elements times 2:\n",
    "    - O(n)\n",
    "    \n",
    "4.7. only the first element times 2:\n",
    "    - O(1)\n",
    "    \n",
    "4.8. build a table: if the array[2,3,7,8,10]; need all elements times 2, then times 3, then times 7 and go on:\n",
    "    - O(n^2)\n",
    "    "
   ]
  },
  {
   "cell_type": "markdown",
   "metadata": {},
   "source": [
    "### Final:\n",
    "   + D&C seprate a question to tasks, base case maybe an empty arr or an array with only one item.\n",
    "   + when using quick sort, randomly select the pivot, average running time would be O(nlogn)\n",
    "   + quick sort is faster than merge sort, because of constant(常量)\n",
    "   + constant won't affect binary search and easy search, when the list is long enough, O(logn) is much faster than O(n)"
   ]
  },
  {
   "cell_type": "markdown",
   "metadata": {},
   "source": [
    "## Chapter 5: Hash table (散列表）"
   ]
  },
  {
   "cell_type": "markdown",
   "metadata": {
    "ExecuteTime": {
     "end_time": "2020-09-14T00:41:04.334011Z",
     "start_time": "2020-09-14T00:41:04.330816Z"
    }
   },
   "source": [
    "+ dictionary in Python（字典实现）, no need search O(1) solution"
   ]
  },
  {
   "cell_type": "code",
   "execution_count": 8,
   "metadata": {
    "ExecuteTime": {
     "end_time": "2020-09-14T00:49:07.113453Z",
     "start_time": "2020-09-14T00:49:07.110158Z"
    }
   },
   "outputs": [
    {
     "name": "stdout",
     "output_type": "stream",
     "text": [
      "{'apple': 0.67, 'avocado': 1.49, 'milk': 1.49}\n"
     ]
    }
   ],
   "source": [
    "## EX: \n",
    "book = dict() ## book = {}\n",
    "book['apple'] = 0.67\n",
    "book['avocado']= 1.49\n",
    "book['milk'] = 1.49\n",
    "print(book)"
   ]
  },
  {
   "cell_type": "markdown",
   "metadata": {},
   "source": [
    "#### practice\n",
    "% for the same input, hash table must has same output.\n",
    "% which hash function is consistant(一致的)\n",
    "5.1. f(x) = 1 \n",
    "    - yes\n",
    "5.2. f(x) = rand()\n",
    "    - no\n",
    "5.3. f(x) = next_empty_slot()\n",
    "    - no\n",
    "5.4. f(x) = len(x)\n",
    "    - yes"
   ]
  },
  {
   "cell_type": "markdown",
   "metadata": {},
   "source": [
    "+ Hash Table: create reflection; search\n"
   ]
  },
  {
   "cell_type": "code",
   "execution_count": 9,
   "metadata": {
    "ExecuteTime": {
     "end_time": "2020-09-14T01:43:10.055407Z",
     "start_time": "2020-09-14T01:43:10.051191Z"
    }
   },
   "outputs": [
    {
     "data": {
      "text/plain": [
       "8675431"
      ]
     },
     "execution_count": 9,
     "metadata": {},
     "output_type": "execute_result"
    }
   ],
   "source": [
    "## EX: phone_book\n",
    "phone_book = {}\n",
    "phone_book['jenny'] = 8675431\n",
    "phone_book['emergency'] = 911\n",
    "phone_book['jenny']"
   ]
  },
  {
   "cell_type": "markdown",
   "metadata": {
    "ExecuteTime": {
     "end_time": "2020-09-14T01:47:02.937408Z",
     "start_time": "2020-09-14T01:47:02.933780Z"
    }
   },
   "source": [
    "If you are visit 'http://adit.io'， adit.io must turn to IP address\n",
    "No matter what website is , the website must reflect to IP address,\n",
    "This process called DNS resolution(DNS 解析)"
   ]
  },
  {
   "cell_type": "code",
   "execution_count": 14,
   "metadata": {
    "ExecuteTime": {
     "end_time": "2020-09-14T01:53:33.528618Z",
     "start_time": "2020-09-14T01:53:33.524183Z"
    }
   },
   "outputs": [
    {
     "name": "stdout",
     "output_type": "stream",
     "text": [
      "let them vote\n",
      "let them vote\n",
      "kich them out\n"
     ]
    }
   ],
   "source": [
    "## EX: vote list\n",
    "# each person only could vote once, if the person already voted, she will not do it again.\n",
    "voted = {}\n",
    "\n",
    "def check_voter(name):\n",
    "    if voted.get(name):\n",
    "        print('kich them out')\n",
    "    else:\n",
    "        voted[name] = True\n",
    "        print('let them vote')\n",
    "check_voter('tom')\n",
    "check_voter('mike')\n",
    "check_voter('mike')"
   ]
  },
  {
   "cell_type": "markdown",
   "metadata": {
    "ExecuteTime": {
     "end_time": "2020-09-14T01:54:39.865587Z",
     "start_time": "2020-09-14T01:54:39.863864Z"
    }
   },
   "source": [
    "### cache with hash table"
   ]
  },
  {
   "cell_type": "markdown",
   "metadata": {
    "ExecuteTime": {
     "end_time": "2020-09-14T01:59:22.646219Z",
     "start_time": "2020-09-14T01:59:22.638221Z"
    }
   },
   "source": [
    "**steps for caching:**\n",
    "    1. ask the request to facebook.com\n",
    "    2. generate a website and sent to you\n",
    "    3. you receive a webpage\n",
    "    \n",
    "**2 advantages of cache:**\n",
    "    1. user can visit the webpage faster\n",
    "    2. Facebook would do less work\n"
   ]
  },
  {
   "cell_type": "code",
   "execution_count": 17,
   "metadata": {
    "ExecuteTime": {
     "end_time": "2020-09-14T02:02:35.428651Z",
     "start_time": "2020-09-14T02:02:35.425119Z"
    }
   },
   "outputs": [],
   "source": [
    "## code: check page cache\n",
    "cache = {}\n",
    "def get_page(url):\n",
    "    if cache.get_paget(url):\n",
    "        return cache[url]\n",
    "    else:\n",
    "        data = get_data_from_server(url)\n",
    "        cache[url] = data\n",
    "        return data"
   ]
  },
  {
   "cell_type": "markdown",
   "metadata": {},
   "source": [
    "### Final:\n",
    "   + simulation reflections\n",
    "   + aviod repeat data\n",
    "   + cache/ remember data"
   ]
  },
  {
   "cell_type": "markdown",
   "metadata": {},
   "source": [
    "### Collision: (冲突）\n",
    "    if two keys reflect to the same position, we need to build a linked list on that position\n",
    "    so the problem is: if thee linkedlist is really long, this hash table will be really slow, but if the linkedlist is short, hash table is fast still.\n",
    "    this is why we need to build good hash table.\n",
    "           + less 填装因子\n",
    "           + total number of positions"
   ]
  },
  {
   "cell_type": "markdown",
   "metadata": {},
   "source": [
    "### make good hash table: SHA function, hash function\n",
    "   + hash function must have balence solutions, range must as big as it could.\n",
    "   + a bad hash function: put all input into one position"
   ]
  },
  {
   "cell_type": "markdown",
   "metadata": {},
   "source": [
    "#### practice:\n",
    "    if there are 4 hash function:\n",
    "        A. no matter the input, all return 1\n",
    "        B. len(str) using for index\n",
    "        C. str[0] is reflecting all 'A' initial words, same for other letters\n",
    "        D. each letter reflect a prime number: a=2, b=3, c=5,e=11... hash function will calculate the sum of strings. EX, if len(hashlist) =10, then str = bag, (3+2+17)%10 = 22%10 =2\n",
    "5.5. In a phone book, hash table stores the name and phone number: Names are 'Esther','Ben','Bob','Dan'\n",
    "    - C & D\n",
    "    \n",
    "5.6. hash bettary size (A,AA,AAA,AAAA) and power\n",
    "    - B & D\n",
    "    \n",
    "5.7. hash book title and author, titles are(Maus, Fun Home, Watchmen)\n",
    "    - B C & D\n",
    "    "
   ]
  },
  {
   "cell_type": "markdown",
   "metadata": {},
   "source": [
    "### Final:\n",
    "   + all languages has own hash table\n",
    "   + Python using dictionary, and average search time is O(1)\n",
    "   + using hash function and array to create hash table\n",
    "   + 冲突很糟糕，need to avoid and try less collision\n",
    "   + hash table has fast running time on Search, Insert, and Remove\n",
    "   + hash table is good to using on reflection\n",
    "   + if 装填因子 > 0.7, the length of the list need to change\n",
    "   + For web service, hash table is using for storing data.\n",
    "   + hash table is easy to avoid repeat data"
   ]
  },
  {
   "cell_type": "markdown",
   "metadata": {},
   "source": [
    "## Chapter 6: Breadth-first search (BFS,广度优先搜索)"
   ]
  },
  {
   "cell_type": "markdown",
   "metadata": {
    "ExecuteTime": {
     "end_time": "2020-09-15T02:54:10.730022Z",
     "start_time": "2020-09-15T02:54:10.726875Z"
    }
   },
   "source": [
    "**find the shortest distance between two points**\n",
    "   + Global chess AI, count how many steps to win\n",
    "   + Spelling check, count how many edits can correct the wrong spelling, such as: READED to READER\n",
    "   + find the closest doctor by your social relationship\n",
    "\n",
    "**solve problem**\n",
    "\n",
    "   + GRAPH the question, 2 type questions:\n",
    "        \n",
    "         A. From node A, is there a path to node B\n",
    "         B. From node A, which path is the shortest to go to node B?\n",
    "    "
   ]
  },
  {
   "cell_type": "markdown",
   "metadata": {},
   "source": [
    "### Queue: First In First Out\n",
    "    1,2,3...4<-\n",
    "    <-1...2,3,4"
   ]
  },
  {
   "cell_type": "code",
   "execution_count": 25,
   "metadata": {
    "ExecuteTime": {
     "end_time": "2020-09-16T01:17:12.920401Z",
     "start_time": "2020-09-16T01:17:12.916305Z"
    }
   },
   "outputs": [],
   "source": [
    "## queue need reflect all neighbors:\n",
    "graph = {}\n",
    "graph['you'] = ['alice','bob','claire']\n",
    "graph['bob'] = ['anuj','peggy']\n",
    "graph['alice'] = ['peggy']\n",
    "graph['claire'] = ['thom','jonny']\n",
    "graph['anuj'] = []\n",
    "graph['peggy']=[]\n",
    "graph['thom'] = []\n",
    "graph['jonny'] = []"
   ]
  },
  {
   "cell_type": "markdown",
   "metadata": {},
   "source": [
    "* anuj, peggy, thom and jonny have no neighbors, so no arrows point from them, this is called 'Directed Graph'; others are 'Undirected Graph'"
   ]
  },
  {
   "cell_type": "code",
   "execution_count": 26,
   "metadata": {
    "ExecuteTime": {
     "end_time": "2020-09-16T01:17:14.511165Z",
     "start_time": "2020-09-16T01:17:14.498315Z"
    }
   },
   "outputs": [
    {
     "name": "stdout",
     "output_type": "stream",
     "text": [
      "thomis a seller.\n"
     ]
    },
    {
     "data": {
      "text/plain": [
       "True"
      ]
     },
     "execution_count": 26,
     "metadata": {},
     "output_type": "execute_result"
    }
   ],
   "source": [
    "# First: Create a queue:\n",
    "from collections import deque\n",
    "def search(name):\n",
    "    search_queue = deque()         # create a deque()\n",
    "    search_queue += graph[name]   # add all your neighbors into the queue this is an array\n",
    "    searched = []  # store the person we searched\n",
    "    \n",
    "    while search_queue:            # queue is not null\n",
    "        person = search_queue.popleft() # pop one out\n",
    "        if not person in searched: # if this person haven't searched\n",
    "            if person_is_seller(person):\n",
    "                print(person + 'is a seller.')\n",
    "                return True\n",
    "            else:\n",
    "                search_queue += graph[person]   # if not seller, add to queue\n",
    "                searched.append(person)\n",
    "    return False     # there are no seller in list\n",
    "\n",
    "def person_is_seller(name):\n",
    "    return name[-1] =='m'\n",
    "search('you')"
   ]
  },
  {
   "cell_type": "markdown",
   "metadata": {
    "ExecuteTime": {
     "end_time": "2020-09-15T22:56:34.256562Z",
     "start_time": "2020-09-15T22:56:34.253286Z"
    }
   },
   "source": [
    "BFS running time: O(node+ edges); O(V+E)"
   ]
  },
  {
   "cell_type": "markdown",
   "metadata": {},
   "source": [
    "#### Practice:\n",
    "6.1. find the shortest path from S to F:\n",
    "    - 2\n",
    "6.2. find the shorted path from 'cab' to 'bat':\n",
    "    - 2\n",
    "    \n",
    "    Graph:     get up  <- brush teeth  <-  have breakfast\n",
    "                  ^\n",
    "                  |\n",
    "               shower\n",
    "                       \n",
    "                       \n",
    "    So: the order of activities this morning:\n",
    "            1. get up, shower, brush teeth, have breakfast\n",
    "            2. get up, brush teeth, shower, have breakfast\n",
    "6.3. which list is not available below?\n",
    "    - [n]     1. get up, shower, have breakfast, brush teeth;\n",
    "      [y]     2. get up, brush teeth, have breakfast, shower;\n",
    "      [n]     3. shower, get up, brush teeth, have breakfast;\n",
    "      \n",
    "6.4. which one is a tree?\n",
    "    - A"
   ]
  },
  {
   "cell_type": "markdown",
   "metadata": {},
   "source": [
    "### Final:\n",
    "   * BFS varify if there is a path from A to B\n",
    "   * If so, BFS will find the shortest path\n",
    "   * Also can use Graph to solve same kind of questions\n",
    "   * 'directed graph' use arrows to show relationship between both: rama -> adit, rama pay adit money\n",
    "   * 'Undirected graph' connect both node have same relation each other: ross - andy, ross loves andy and andy loves ross\n",
    "   * queue is FIFO (先进先出）\n",
    "   * stack is LIFO（后进先出）\n",
    "   * if you need search the list within the order of push in, search list must be a queue.\n",
    "   * don't search the node you already checked, otherwise it may cause unlimited recycle"
   ]
  },
  {
   "cell_type": "markdown",
   "metadata": {
    "ExecuteTime": {
     "end_time": "2020-09-16T22:23:45.306426Z",
     "start_time": "2020-09-16T22:23:45.304274Z"
    }
   },
   "source": [
    "## Chapter 7: Dijkstra\n",
    "    * if add time for each path in Graph, you can see the shortest path may not the fastest path.\n",
    "    * So, we use Dijkstra's algorithms"
   ]
  },
  {
   "cell_type": "markdown",
   "metadata": {
    "ExecuteTime": {
     "end_time": "2020-09-16T22:27:33.311833Z",
     "start_time": "2020-09-16T22:27:33.308630Z"
    }
   },
   "source": [
    "### HINT:\n",
    "\n",
    "    1. Find the 'cheapest' path\n",
    "    2. refresh this node's neighbor's cost\n",
    "    3. repeat this step for all nodes\n",
    "    4. calculate the final path"
   ]
  },
  {
   "cell_type": "markdown",
   "metadata": {
    "ExecuteTime": {
     "end_time": "2020-09-16T22:34:34.840224Z",
     "start_time": "2020-09-16T22:34:34.837203Z"
    }
   },
   "source": [
    "### Steps:\n",
    "\n",
    "    1. From the start; you have two path to go. To node A, need 6 mins; to node B, need 2 mins, but you don't know the time to other nodes.\n",
    "    2. calculate the time costing from node B to its neighbors: From node B to node A, 6 minutes to 5 minutes; From node B to end, inf to 7 minutes \n",
    "---\n",
    "        NOTE:  for unknow weight, set defalt is INF\n",
    "    \n",
    "    3. repeat! repeat step 1 & 2:\n",
    "       so, choose node A first, then check all cost of node A's neighbors\n",
    "       \n",
    "    Solution: start -> node B -> node A -> end\n",
    "                     2       +3=5      +1=6\n"
   ]
  },
  {
   "cell_type": "markdown",
   "metadata": {},
   "source": [
    "### Terms:\n",
    "    1. the cost of the path, it calls 'weight'.\n",
    "    2. The graph with weight called 'weighted graph';\n",
    "    3. the graph without weight called 'unweighted graph'\n",
    "    4. it may have ring - start from a node, goes after cycles and go back to this node\n",
    "    \n",
    "---\n",
    " *Attention:* \n",
    "  > In 'undirectied graph', every path is a ring. Dijkstra's algorithms only use in 'directed acyclic graph, DAQ'(有向无环图).\n",
    "  \n",
    "  > If there is negtive weight, we can't use Dijkstra's algorithms\n",
    "    "
   ]
  },
  {
   "cell_type": "code",
   "execution_count": 6,
   "metadata": {
    "ExecuteTime": {
     "end_time": "2020-09-17T23:18:32.909237Z",
     "start_time": "2020-09-17T23:18:32.905748Z"
    }
   },
   "outputs": [],
   "source": [
    "## code: Dijkstra\n",
    "# need three hash tables\n",
    "def find_lowest_cost_node(costs):\n",
    "    lowest_cost = float('inf')\n",
    "    lowest_cost_node = None\n",
    "    for node in costs:\n",
    "        cost = costs(node)\n",
    "        if cost < lowest_cost and node not in processed:\n",
    "            lowest_cost = cost\n",
    "            lowest_cost_node = node\n",
    "    return lowest_cost_node"
   ]
  },
  {
   "cell_type": "markdown",
   "metadata": {
    "ExecuteTime": {
     "end_time": "2020-09-17T23:10:39.035795Z",
     "start_time": "2020-09-17T23:10:39.031562Z"
    }
   },
   "source": [
    "#### practice:\n",
    "7.1. what is the lowest weight for graphs below?\n",
    "    - A. 8\n",
    "      B. 60\n",
    "      C. 4 \n",
    "         + none, because - weight, can't use Dijkstra"
   ]
  },
  {
   "cell_type": "markdown",
   "metadata": {},
   "source": [
    "### Final:\n",
    "   * BFS uses for finding the shortest path of unweighted graph \n",
    "   * Dijkstra uses for finding the shortest path of weighted graph\n",
    "   * Dijkstra can only use for all positive weights\n",
    "   * If there is negative weight path,then use 'Bellman–Ford algorithms'"
   ]
  },
  {
   "cell_type": "markdown",
   "metadata": {
    "ExecuteTime": {
     "end_time": "2020-09-17T23:16:11.746911Z",
     "start_time": "2020-09-17T23:16:11.744654Z"
    }
   },
   "source": [
    "## Chapter 8: Greedy Algorithms (贪婪算法）"
   ]
  },
  {
   "cell_type": "markdown",
   "metadata": {
    "ExecuteTime": {
     "end_time": "2020-09-18T00:25:26.431587Z",
     "start_time": "2020-09-18T00:25:26.428316Z"
    }
   },
   "source": [
    "EX: schedual courses, when courses are lapping:\n",
    "1. choose the course that finish first. it would be the first course\n",
    "2. choose the course start after the first one finished. still choose the first finish course. and keep going on (repeat step 2)"
   ]
  },
  {
   "cell_type": "markdown",
   "metadata": {},
   "source": [
    "#### practice:\n",
    "8.1. if you want to put boxes in a truck, and try to use as much as space, what boxes do you choose? Design a greedy algorithms?\n",
    "    - choose the max size <=space\n",
    "    \n",
    "8.2. seven days traveling, you labeled each location a value -- means how interested you are and time you need. Design a greedy algorithms:\n",
    "    - same as last one\n",
    "    + keep choose the most value from the rest time"
   ]
  },
  {
   "cell_type": "markdown",
   "metadata": {},
   "source": [
    "### lapping set problems:\n",
    "Question:\n",
    "\n",
    "| channels | states |\n",
    "| ----------- | ----------- |\n",
    "| KONE | ID,NV,VT |\n",
    "| KTWD | WA,ID,MT |\n",
    "| KTHREE | OR,NV,CA |\n",
    "| KFOUR | NV,UT |\n",
    "| KFIVE | CA,AZ |\n",
    "\n",
    "**Find the smallest set of channels:**\n",
    "   1. list all possibilities: this is called power set, number of sets is 2^n.\n",
    "   2. Choose the smallest set from all possibilities\n",
    "\n",
    "**Use Greedy algorithms**\n",
    "   1. choose the channel cover the max states from uncovered states. (even if it covered some sates covered already)\n",
    "   2. repeat step one untill all states are covered.\n",
    "\n",
    "*This is 'approximation algorithm'*\n",
    "\n",
    "Greedy's running time is O(n^2) for this problem, n is the number of states."
   ]
  },
  {
   "cell_type": "code",
   "execution_count": 7,
   "metadata": {
    "ExecuteTime": {
     "end_time": "2020-09-18T22:47:43.361531Z",
     "start_time": "2020-09-18T22:46:56.869849Z"
    }
   },
   "outputs": [
    {
     "ename": "KeyboardInterrupt",
     "evalue": "",
     "output_type": "error",
     "traceback": [
      "\u001b[0;31m---------------------------------------------------------------------------\u001b[0m",
      "\u001b[0;31mKeyboardInterrupt\u001b[0m                         Traceback (most recent call last)",
      "\u001b[0;32m<ipython-input-7-e0c91456084d>\u001b[0m in \u001b[0;36m<module>\u001b[0;34m\u001b[0m\n\u001b[1;32m     20\u001b[0m         \u001b[0;32mif\u001b[0m \u001b[0mlen\u001b[0m\u001b[0;34m(\u001b[0m\u001b[0mcovered\u001b[0m\u001b[0;34m)\u001b[0m\u001b[0;34m>\u001b[0m\u001b[0mlen\u001b[0m\u001b[0;34m(\u001b[0m\u001b[0mstates_covered\u001b[0m\u001b[0;34m)\u001b[0m\u001b[0;34m:\u001b[0m\u001b[0;34m\u001b[0m\u001b[0;34m\u001b[0m\u001b[0m\n\u001b[1;32m     21\u001b[0m             \u001b[0mbest_station\u001b[0m \u001b[0;34m=\u001b[0m \u001b[0mstation\u001b[0m\u001b[0;34m\u001b[0m\u001b[0;34m\u001b[0m\u001b[0m\n\u001b[0;32m---> 22\u001b[0;31m             \u001b[0mstates_covered\u001b[0m \u001b[0;34m=\u001b[0m \u001b[0mcovered\u001b[0m\u001b[0;34m\u001b[0m\u001b[0;34m\u001b[0m\u001b[0m\n\u001b[0m\u001b[1;32m     23\u001b[0m \u001b[0mstates_needed\u001b[0m \u001b[0;34m-=\u001b[0m \u001b[0mstates_covered\u001b[0m\u001b[0;34m\u001b[0m\u001b[0;34m\u001b[0m\u001b[0m\n\u001b[1;32m     24\u001b[0m \u001b[0mfinal_stations\u001b[0m\u001b[0;34m.\u001b[0m\u001b[0madd\u001b[0m\u001b[0;34m(\u001b[0m\u001b[0mbest_station\u001b[0m\u001b[0;34m)\u001b[0m\u001b[0;34m\u001b[0m\u001b[0;34m\u001b[0m\u001b[0m\n",
      "\u001b[0;31mKeyboardInterrupt\u001b[0m: "
     ]
    }
   ],
   "source": [
    "## Code:\n",
    "# set initial:\n",
    "states_needed = set(['mt','wa','or','id','nv','ut','ca','az'])\n",
    "\n",
    "stations = {}\n",
    "stations['KONE'] = set(['id','nv','ut'])\n",
    "stations['KTWO'] = set(['wa','id','mt'])\n",
    "stations['KTHREE'] = set(['or','nv','ca'])\n",
    "stations['KFOUR'] = set(['nv','ut'])\n",
    "stations['KFIVE'] = set(['ca','az'])\n",
    "\n",
    "final_stations = set()\n",
    "\n",
    "# calculate:\n",
    "while states_needed:\n",
    "    best_station = None\n",
    "    states_covered = set()\n",
    "    for station,states in stations.items():\n",
    "        covered = states_needed & states\n",
    "        if len(covered)>len(states_covered):\n",
    "            best_station = station\n",
    "            states_covered = covered\n",
    "states_needed -= states_covered\n",
    "final_stations.add(best_station)\n"
   ]
  },
  {
   "cell_type": "markdown",
   "metadata": {
    "ExecuteTime": {
     "end_time": "2020-09-18T22:44:24.477305Z",
     "start_time": "2020-09-18T22:44:24.473609Z"
    }
   },
   "source": [
    "#### practice:\n",
    "is it greedy algorithm below?\n",
    "\n",
    "8.3. quick sort\n",
    "    - N\n",
    "8.4. BFS\n",
    "    - N\n",
    "    + Y\n",
    "8.5. Dijkstra\n",
    "    - Y"
   ]
  },
  {
   "cell_type": "markdown",
   "metadata": {},
   "source": [
    "### NP-C questions:\n",
    "    1. Example 1:\n",
    "        select players for a football team: 3 requirements\n",
    "        1. find the player who fits the most requirements\n",
    "        2. repeat this step until the team is full\n",
    "    2. Example 2:\n",
    "        find the shortest path that cross some places: (travel)\n",
    "        1. small elements runs fast, more elements, more slower\n",
    "        2. \"all possibilities\" problem\n",
    "        3. can't seprate problem to small tasks\n",
    "        4. 'in order' but hard to solve\n",
    "        5. 'in set' but hard to solve\n",
    "        6. similar to 'lapping sets' problem or travel problem"
   ]
  },
  {
   "cell_type": "markdown",
   "metadata": {},
   "source": [
    "#### practice:\n",
    "8.6. post letters to 20 houses, find the shortest path that cross all houses. Is this an NP-C problem?\n",
    "    - Y\n",
    "8.7. find the biggest friendship of numbers of people, each two people knows each other. Is this an NP-C problem?\n",
    "    - N\n",
    "    + Y\n",
    "8.8. Draw a U.S map, and color different colors from neighbor states. How many colors do we need? Is this an NP-C problem?\n",
    "    - N\n",
    "    + Y"
   ]
  },
  {
   "cell_type": "markdown",
   "metadata": {},
   "source": [
    "### Final:\n",
    "   * Greedy algorithm find the best solution of parts; and going to use same way to solve whole problem.\n",
    "   * There is no fast way to solve NP-C problem yet.\n",
    "   * For solving NP-C problem, currently best way is 'approximation algorithm'.\n",
    "   * Greedy algorithm is easy to use and running fast. It is a good 'approximation algorithm'."
   ]
  },
  {
   "cell_type": "markdown",
   "metadata": {
    "ExecuteTime": {
     "end_time": "2020-09-19T01:43:51.712112Z",
     "start_time": "2020-09-19T01:43:51.709935Z"
    }
   },
   "source": [
    "## Chapter 9: Dynamic program"
   ]
  },
  {
   "cell_type": "markdown",
   "metadata": {},
   "source": [
    "### Example 1: bag problem:\n",
    "    speaker $3000 4 pound;\n",
    "laptop  $2000 3 pound;\n",
    "    guitar  $1500 1 pound;\n",
    "   if the thief only can still at most 4 pound. He want the maxmum value, what should he steal?"
   ]
  },
  {
   "cell_type": "markdown",
   "metadata": {},
   "source": [
    "### Steps:\n",
    "---\n",
    "\n",
    "**start from a table:**\n",
    " \n",
    " | bag's space  | 1 | 2 | 3 | 4 |\n",
    " |----| ------ | ----- | ----- | ------ |\n",
    " |guitar|  |  |  |  |\n",
    " |speaker|  |  |  |  |\n",
    " |laptop|  |  |  |  |\n",
    " \n",
    "---\n",
    "**most weight is 4, so it is ok to put in guitars**\n",
    " \n",
    " | bag's space  | 1 | 2 | 3 | 4 |\n",
    " |----| ------ | ----- | ----- | ------ |\n",
    " |guitar| 1500 | 1500 | 1500 | 1500 |\n",
    " |speaker|  |  |  |  |\n",
    " |laptop|  |  |  |  |\n",
    " \n",
    "---\n",
    "**when the bag already 1 pound: should he steal speaker?**\n",
    "\n",
    "*4th box is 3000, because bag has 4 pound space and speaker price > guitar's price*\n",
    " \n",
    " | bag's space | 1 | 2 | 3 | 4 |\n",
    " |----| ------ | ----- | ----- | ------ |\n",
    " |guitar| 1500 | 1500 | 1500 | 1500 |\n",
    " |speaker| 1500 | 1500 | 1500 | 3000 |\n",
    " |laptop|  |  |  |  |\n",
    " \n",
    " ---\n",
    " **same way for laptop,need to think which one should he choose**\n",
    " \n",
    " cell[行][列] = max( last cell's value, current item's value+ rest space's value )\n",
    " \n",
    " cell[i][j] = max( cell[i-1][j], cell[i-1][j-current item's value] )\n",
    " \n",
    " | bag's space | 1 | 2 | 3 | 4 |\n",
    " |----| ------ | ----- | ----- | ------ |\n",
    " |guitar| 1500 | 1500 | 1500 | 1500 |\n",
    " |speaker| 1500 | 1500 | 1500 | 3000 |\n",
    " |laptop| 1500 | 1500 | 2000 | 3000 vs(2000+1500) |"
   ]
  },
  {
   "cell_type": "markdown",
   "metadata": {},
   "source": [
    "### Exampe 2: bag problem, add one more item\n"
   ]
  },
  {
   "cell_type": "markdown",
   "metadata": {},
   "source": [
    "### Steps:\n",
    "---\n",
    "**start from last example table:**\n",
    " \n",
    " | bag's space  | 1 | 2 | 3 | 4 |\n",
    " |----| ------ | ----- | ----- | ------ |\n",
    " |guitar| 1500 | 1500 | 1500 | 1500 |\n",
    " |speaker| 1500 | 1500 | 1500 | 3000 |\n",
    " |laptop| 1500 | 1500 | 2000 | 3500 |\n",
    " |iPhone|  |  |  |  |\n",
    " \n",
    "---\n",
    "**add iPhoone $2000 1 pound**\n",
    " \n",
    " | bag's space  | 1 | 2 | 3 | 4 |\n",
    " |----| ------ | ----- | ----- | ------ |\n",
    " |guitar| 1500 | 1500 | 1500 | 1500 |\n",
    " |speaker| 1500 | 1500 | 1500 | 3000 |\n",
    " |laptop| 1500 | 1500 | 2000 | 3500 |\n",
    " |iPhone| 2000 | 3500 | 3500 |3500 vs (2000+2000)=4000  |\n",
    " "
   ]
  },
  {
   "cell_type": "markdown",
   "metadata": {
    "ExecuteTime": {
     "end_time": "2020-09-20T02:02:38.281412Z",
     "start_time": "2020-09-20T02:02:38.277765Z"
    }
   },
   "source": [
    "#### practice:\n",
    "9.1. if add one more item -- MP3 $1000 1 pound, would it be stolen?\n",
    "\n",
    "    - no\n",
    "    + yes, MP3. iPhone and guitar, $4500\n",
    "    "
   ]
  },
  {
   "cell_type": "markdown",
   "metadata": {
    "ExecuteTime": {
     "end_time": "2020-09-20T02:41:32.458442Z",
     "start_time": "2020-09-20T02:41:32.454524Z"
    }
   },
   "source": [
    "***if you want to add a smaller item, such as necklace 1000 0.5 pound?***\n",
    "        - you must change the table and lable the pounds axis:      0.5,1,1.5,2,2.5,3,3.5,4"
   ]
  },
  {
   "cell_type": "markdown",
   "metadata": {},
   "source": [
    "### Example 3: travel\n",
    "question: two days travel, but you want to visit 5 places, and you value each place you like\n",
    "\n",
    "| places  | time(day) | value |\n",
    " |----| ------ | ----- |\n",
    " |w church| 0.5 | 7 |\n",
    " |opera| 0.5 | 6 |\n",
    " |art museum| 1 | 9 |\n",
    " |museum| 2 | 9 |\n",
    " |s church| 0.5 | 8 |"
   ]
  },
  {
   "cell_type": "markdown",
   "metadata": {
    "ExecuteTime": {
     "end_time": "2020-09-20T02:50:21.200121Z",
     "start_time": "2020-09-20T02:50:21.195486Z"
    }
   },
   "source": [
    "### Steps:\n",
    "---\n",
    "**start from a table:**\n",
    " \n",
    " |   | 0.5 | 1 | 1.5 | 2 |\n",
    " |----| ------ | ----- | ----- | ----- |\n",
    " |w church|  |  |  |  |\n",
    " |opera|  |  |  |  |\n",
    " |art museum|  |  |  |  |\n",
    " |museum|  |  |  |  |\n",
    " |s church|  |  |  |  |\n",
    " \n",
    " ---\n",
    " **fill this table by youself**\n",
    " \n",
    " |   | 0.5 | 1 | 1.5 | 2 |\n",
    " |----| ------ | ----- | ----- | ----- |\n",
    " |w church| 7 | 7 | 7 | 7 |\n",
    " |opera| 7 | 13 | 13 | 13 |\n",
    " |art museum| 7 | 13 | 16 | 22 |\n",
    " |museum| 7 | 13 | 16 | 22 |\n",
    " |s church| 8 | 15 | 21 | 24 |"
   ]
  },
  {
   "cell_type": "markdown",
   "metadata": {
    "ExecuteTime": {
     "end_time": "2020-09-20T03:00:13.277760Z",
     "start_time": "2020-09-20T03:00:13.273709Z"
    }
   },
   "source": [
    "#### practice:\n",
    "9.2. 6 pound bag, what is the best value:\n",
    "\n",
    " | item  | weight | value |\n",
    " |----| ------ | ----- |\n",
    " |water| 3 | 10 |\n",
    " |book| 1 | 3 |\n",
    " |food| 2 | 9 |\n",
    " |jacket| 2 | 5 |\n",
    " |camera| 1 | 6 |\n",
    "\n",
    " ---\n",
    " Ans = 25, water, food, camera\n",
    " \n",
    " | items  | 1 | 2 | 3 | 4 | 5 | 6 |\n",
    " |---| --- | --- |---| --- | --- | --- |\n",
    " |water| 0 | 0 | 10 | 10 | 10 | 10 |\n",
    " |book| 3 | 3 | 10 | 13 | 13 | 13 |\n",
    " |food| 3 | 9 | 12 | 13 | 19 | 22 |\n",
    " |jacket| 3 | 9 | 12 | 14 | 19 | 22 |\n",
    " |camera| 6 | 9 | 15 | 18 | 19 | 25 |\n",
    "\n",
    " "
   ]
  },
  {
   "cell_type": "markdown",
   "metadata": {},
   "source": [
    "### longest substring:"
   ]
  },
  {
   "cell_type": "markdown",
   "metadata": {},
   "source": [
    "* all DP are using table to solve\n",
    "* values in units are the numbers you will DP\n",
    "* each unit is a sub-task"
   ]
  },
  {
   "cell_type": "markdown",
   "metadata": {
    "ExecuteTime": {
     "end_time": "2020-09-20T18:15:55.494894Z",
     "start_time": "2020-09-20T18:15:55.491661Z"
    }
   },
   "source": [
    "**question: find the longest common substring of hish & fish**\n",
    "\n",
    "> Feynman algorithm: \n",
    "    1. write down the question\n",
    "    2. think carefully\n",
    "    3. write down the answer"
   ]
  },
  {
   "cell_type": "markdown",
   "metadata": {
    "ExecuteTime": {
     "end_time": "2020-09-20T18:22:12.185608Z",
     "start_time": "2020-09-20T18:22:12.182029Z"
    }
   },
   "source": [
    "**start the table:**\n",
    "\n",
    "|   | H | I | S | H |\n",
    "|---|---|---|---|---|\n",
    "| F | 0 | 0 | 0 | 0 |\n",
    "| I | 0 | 1 | 0 | 0 |\n",
    "| S | 0 | 0 | 2 | 0 |\n",
    "| H | 0 | 0 | 0 | 3 |\n",
    "\n",
    "1. if two letters are different: value = 0\n",
    "2. if two letters are same: value[i][j] = value[i-1][j-1]+1 (左上角数值+1）\n",
    "\n",
    "EX:\n",
    "\n",
    "    if word_a[i] == word_b[j]:\n",
    "        cell[i][j] = cell[i-1][j-1]+1\n",
    "    else:\n",
    "        cell[i][j] = 0\n"
   ]
  },
  {
   "cell_type": "markdown",
   "metadata": {},
   "source": [
    "### longest common sub sort:\n",
    "* similar with longest common substring\n",
    "* longest common substring of fosh & fish = 2\n",
    "* longest common sub sort of fosh & fish = 3\n",
    "\n",
    "**start the table:**\n",
    "\n",
    "|   | F | O | S | H |\n",
    "|---|---|---|---|---|\n",
    "| F | 1 | 1 | 1 | 1 |\n",
    "| I | 1 | 1 | 1 | 1 |\n",
    "| S | 1 | 1 | 2 | 2 |\n",
    "| H | 1 | 1 | 2 | 3 |\n",
    "\n",
    "1. if two letters are different: value = max(top,left)\n",
    "2. if two letters are same: value = left-top + 1\n",
    "\n",
    "EX:\n",
    "\n",
    "    if word_a[i] == word_b[j]:\n",
    "        cell[i][j] = cell [i-1][j-1] +1\n",
    "    else:\n",
    "        cell[i][j] = max(cell[i-1][j],cell[i][j-1])\n",
    " "
   ]
  },
  {
   "cell_type": "markdown",
   "metadata": {},
   "source": [
    "#### practice:\n",
    "9.3. draw the table to find longest common substring of blue & clues\n",
    "    - \n",
    "    \n",
    "    |   | B | L | U | E |\n",
    "    |---|---|---|---|---|\n",
    "    | C | 0 | 0 | 0 | 0 |\n",
    "    | L | 0 | 1 | 0 | 0 |\n",
    "    | U | 0 | 0 | 2 | 0 |\n",
    "    | E | 0 | 0 | 0 | 3 |\n",
    "    | S | 0 | 0 | 0 | 0 |\n",
    "    \n",
    "    Ans = 3\n",
    "\n"
   ]
  },
  {
   "cell_type": "markdown",
   "metadata": {},
   "source": [
    "### How to use DP?\n",
    "* find longest common sub sort for DNA in Biology, and find the treatment for similar disease\n",
    "* 'git diff' use DF to find the differences between files\n",
    "* 'levenshtein distance'(编辑距离）use DP to find the similary between two strings, such as spelling check, cheating check...\n",
    "* Microsoft Word use DP to separate words for each line to make same row length"
   ]
  },
  {
   "cell_type": "markdown",
   "metadata": {},
   "source": [
    "### Final:\n",
    "   * program by some rules\n",
    "   * separate question to small sub-questions\n",
    "   * all DP can use table to solve\n",
    "   * values in units are going to program\n",
    "   * each unit is a sub-question\n",
    "   * there is no exact formula in DP"
   ]
  },
  {
   "cell_type": "markdown",
   "metadata": {},
   "source": [
    "## Chapter 10: K Nearest Neighbor algorithm (KNN)"
   ]
  },
  {
   "cell_type": "markdown",
   "metadata": {},
   "source": [
    "**Example of a KNN using:**\n",
    "<img src=\"https://miro.medium.com/max/1174/1*hncgU7vWLBsRvc8WJhxlkQ.png\">"
   ]
  },
  {
   "cell_type": "markdown",
   "metadata": {},
   "source": [
    "### recommend system(推荐系统)\n"
   ]
  },
  {
   "cell_type": "markdown",
   "metadata": {},
   "source": [
    "### feature extraction (特征抽取)"
   ]
  },
  {
   "cell_type": "markdown",
   "metadata": {},
   "source": [
    "* for A, B and unknown, calulate distance between each other. \n",
    "    - sqrt((a1-a2)^2+(b1-b2)^2+(c1-c2)^2)"
   ]
  },
  {
   "cell_type": "markdown",
   "metadata": {},
   "source": [
    "#### Practice:\n",
    "10.1. users has similar research result, but the distance shows they are not neighbors:\n",
    "    - possible, add one more recommend system\n",
    "    + normalization\n",
    "10.2. if the users have different recommend weight, how could the system go?\n",
    "    - increase the user's range?"
   ]
  },
  {
   "cell_type": "markdown",
   "metadata": {},
   "source": [
    "### regression: (回归)\n",
    "question: users rate this movie:\n",
    "    justin: 5\n",
    "    jc:     4\n",
    "    joey:   4\n",
    "    lance:  5\n",
    "    chris:  3\n",
    "    \n",
    "steps:\n",
    "    1. group by types\n",
    "    2. regression is forecast a solution(预测结果）\n",
    "    \n",
    "Ans: average is 4.2\n"
   ]
  },
  {
   "cell_type": "markdown",
   "metadata": {},
   "source": [
    "**In this case, choose good feature is really important.**"
   ]
  },
  {
   "cell_type": "markdown",
   "metadata": {},
   "source": [
    "#### practice:\n",
    "10.3. if the users amount is millions, we chose 5 as example, is it too low or too many?\n",
    "    - too low. should use sqrt(N)"
   ]
  },
  {
   "cell_type": "markdown",
   "metadata": {
    "ExecuteTime": {
     "end_time": "2020-09-20T22:46:08.085882Z",
     "start_time": "2020-09-20T22:46:08.083675Z"
    }
   },
   "source": [
    "### mechine learning:\n",
    "\n",
    "    * OCR (optical character recognition): 光学字符识别\n",
    "        computer can recognize words from pictures:        \n",
    "        Using KNN: \n",
    "            1. view numbers of pictures of number, feature extractions\n",
    "            2. feature extractions of new pictures, find the 'neighbors'\n",
    "    * trash email filter: \n",
    "        Using 'naive bayyes classifier':\n",
    "    * regression stock market:\n",
    "        This is a hard problem. Nearly happened."
   ]
  },
  {
   "cell_type": "markdown",
   "metadata": {},
   "source": [
    "### Final:\n",
    "   * KNN uses to group by type and regression, need to care about the neighbors\n",
    "   * types in groups\n",
    "   * regression is forecast\n",
    "   * feature extraction means to exchange items to a list of numbers\n",
    "   * good (relational) features decide the KNN solution"
   ]
  },
  {
   "cell_type": "markdown",
   "metadata": {
    "ExecuteTime": {
     "end_time": "2020-09-21T00:43:32.045138Z",
     "start_time": "2020-09-21T00:43:32.042981Z"
    }
   },
   "source": [
    "## Chapter 11:\n",
    "### Summary of the book!!"
   ]
  },
  {
   "cell_type": "markdown",
   "metadata": {},
   "source": [
    "1. tree:\n",
    "    * binary search tree: left.node < root, and right.node > root\n",
    "    * O(logn)\n",
    "    \n",
    "2. inverted index:\n",
    "    * search engine principle: create hash table, reflect the 'word' to the wabpage include this website\n",
    "    \n",
    "3. Fourier transform:\n",
    "    * resolve to parts; function transform\n",
    "    * music, graph, DNA analyst\n",
    "    \n",
    "4. parellel algorithm\n",
    "    * parellel management: sort 1000 elements array; even sort 500 elements on two systems, sort together both solution still need time.\n",
    "    * balance package: even there are 10 tasks, and 10 seconds on first system and 1 min on second system. 50 seconds differences between 2 systems.\n",
    "    \n",
    "5. MapReduce:\n",
    "    * special parellel algorithm\n",
    "    * Apache Hadoop\n",
    "    * working on huge data\n",
    "\n",
    "6. map function:\n",
    "    `\n",
    "        arr1 = [1,2,3,4,5]\n",
    "        arr2 = map(lambda x: 2 * x, arr1)\n",
    "    `\n",
    "    OP:  [2,4,6,8,10]\n",
    "    \n",
    "7. reduce function:\n",
    "    `\n",
    "        arr1 = [1,2,3,4,5]\n",
    "        reduce(lambda x,y: x+y, arr1)\n",
    "    `\n",
    "    OP:  15\n",
    "\n",
    "8. Bloom filter:\n",
    "    * a data structure: anser may not right, but highly possible to be right:\n",
    "    * if 'word' not been searched, it must never been searched\n",
    "    * cost less space\n",
    "\n",
    "9. HyperLogLog:\n",
    "    * similar with bloom filter\n",
    "\n",
    "10. SHA algorithm:\n",
    "    * Searching time is always O(1)\n",
    "    * compare files\n",
    "    * check password\n",
    "    \n",
    "11. Diffie_Hellman\n",
    "    * Add passcode on message that only receiver can know\n",
    "    * no one need to know the passcode\n",
    "    * really hard to break the algorithm to read the message\n",
    "\n",
    "12. linear program:\n",
    "    * simplex algorithm: not showing in this book"
   ]
  }
 ],
 "metadata": {
  "kernelspec": {
   "display_name": "Python 3",
   "language": "python",
   "name": "python3"
  },
  "language_info": {
   "codemirror_mode": {
    "name": "ipython",
    "version": 3
   },
   "file_extension": ".py",
   "mimetype": "text/x-python",
   "name": "python",
   "nbconvert_exporter": "python",
   "pygments_lexer": "ipython3",
   "version": "3.8.3"
  }
 },
 "nbformat": 4,
 "nbformat_minor": 4
}
